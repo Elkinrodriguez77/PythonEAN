{
 "cells": [
  {
   "cell_type": "markdown",
   "metadata": {
    "id": "vYG-iup5WRD4"
   },
   "source": [
    "# Modulo 3 Programación orientada a objetos"
   ]
  },
  {
   "cell_type": "markdown",
   "metadata": {
    "id": "_vJAWiInWRD9"
   },
   "source": [
    "## Variables globales y locales"
   ]
  },
  {
   "cell_type": "markdown",
   "metadata": {
    "id": "LZ2AunAyWRD-"
   },
   "source": [
    "#### Variables Locales\n",
    "\n",
    "Todas las variables que se definan dentro de una función no pueden utilizarse fuera de esta.\n",
    "\n",
    "**Ejemplo**\n",
    "\n",
    "Cree una función llamada suma_producto que retorne la suma de dos números y el producto de los anteriores tres números."
   ]
  },
  {
   "cell_type": "code",
   "execution_count": null,
   "metadata": {
    "executionInfo": {
     "elapsed": 224,
     "status": "ok",
     "timestamp": 1654049532242,
     "user": {
      "displayName": "Jeison Orlando Pinilla Alzate",
      "userId": "04405323006138165112"
     },
     "user_tz": 300
    },
    "id": "owOCy7oIWRD_"
   },
   "outputs": [],
   "source": [
    "def sumaproducto(x,y):\n",
    "  w=x+y\n",
    "  m=x*y*w\n",
    "  return w,m"
   ]
  },
  {
   "cell_type": "code",
   "execution_count": null,
   "metadata": {
    "colab": {
     "base_uri": "https://localhost:8080/"
    },
    "executionInfo": {
     "elapsed": 162,
     "status": "ok",
     "timestamp": 1654049114702,
     "user": {
      "displayName": "Jeison Orlando Pinilla Alzate",
      "userId": "04405323006138165112"
     },
     "user_tz": 300
    },
    "id": "3lawwVILAW_u",
    "outputId": "04661aa0-7cff-4dfb-c16a-b0e53b8bf960"
   },
   "outputs": [],
   "source": [
    "sumaproducto(4,5)"
   ]
  },
  {
   "cell_type": "code",
   "execution_count": null,
   "metadata": {
    "colab": {
     "base_uri": "https://localhost:8080/",
     "height": 166
    },
    "executionInfo": {
     "elapsed": 446,
     "status": "error",
     "timestamp": 1654049526315,
     "user": {
      "displayName": "Jeison Orlando Pinilla Alzate",
      "userId": "04405323006138165112"
     },
     "user_tz": 300
    },
    "id": "QFacHzsdAo8Y",
    "outputId": "ad691e5c-4be7-4c2e-be8e-45b0e2b047fc"
   },
   "outputs": [],
   "source": [
    "m"
   ]
  },
  {
   "cell_type": "markdown",
   "metadata": {
    "id": "52xqc2iUWREB"
   },
   "source": [
    "#### Variables globales\n",
    "\n",
    "Con el argumento global una variable definida dentro de una función puede utilizarse fuera de ella.\n",
    "\n",
    "**Ejemplo**:\n",
    "\n",
    "Cálcule la función suma_producto a los resultados de la anterior función"
   ]
  },
  {
   "cell_type": "code",
   "execution_count": null,
   "metadata": {
    "executionInfo": {
     "elapsed": 162,
     "status": "ok",
     "timestamp": 1654049775615,
     "user": {
      "displayName": "Jeison Orlando Pinilla Alzate",
      "userId": "04405323006138165112"
     },
     "user_tz": 300
    },
    "id": "MKayxvrsWREC"
   },
   "outputs": [],
   "source": [
    "def sumaproducto(x,y):\n",
    "  global w,m\n",
    "  w=x+y\n",
    "  m=x*y*w\n",
    "  return w,m"
   ]
  },
  {
   "cell_type": "code",
   "execution_count": null,
   "metadata": {
    "colab": {
     "base_uri": "https://localhost:8080/"
    },
    "executionInfo": {
     "elapsed": 152,
     "status": "ok",
     "timestamp": 1654049776834,
     "user": {
      "displayName": "Jeison Orlando Pinilla Alzate",
      "userId": "04405323006138165112"
     },
     "user_tz": 300
    },
    "id": "dXDexDytBFpN",
    "outputId": "21727456-7c40-4e35-f118-ee2799ddd137"
   },
   "outputs": [],
   "source": [
    "sumaproducto(4,6)"
   ]
  },
  {
   "cell_type": "code",
   "execution_count": null,
   "metadata": {
    "colab": {
     "base_uri": "https://localhost:8080/"
    },
    "executionInfo": {
     "elapsed": 288,
     "status": "ok",
     "timestamp": 1654049778645,
     "user": {
      "displayName": "Jeison Orlando Pinilla Alzate",
      "userId": "04405323006138165112"
     },
     "user_tz": 300
    },
    "id": "sxFmQYhpBNQN",
    "outputId": "a466529c-6a6a-4ca7-9a16-ec94cefc613f"
   },
   "outputs": [],
   "source": [
    "w,m"
   ]
  },
  {
   "cell_type": "code",
   "execution_count": null,
   "metadata": {
    "colab": {
     "base_uri": "https://localhost:8080/"
    },
    "executionInfo": {
     "elapsed": 183,
     "status": "ok",
     "timestamp": 1654049781207,
     "user": {
      "displayName": "Jeison Orlando Pinilla Alzate",
      "userId": "04405323006138165112"
     },
     "user_tz": 300
    },
    "id": "fzvMHaaBCypb",
    "outputId": "e4e8b7d7-15ec-46c0-8d9d-d1d22c6af095"
   },
   "outputs": [],
   "source": [
    "5*30*35"
   ]
  },
  {
   "cell_type": "code",
   "execution_count": null,
   "metadata": {
    "colab": {
     "base_uri": "https://localhost:8080/"
    },
    "executionInfo": {
     "elapsed": 200,
     "status": "ok",
     "timestamp": 1654049751515,
     "user": {
      "displayName": "Jeison Orlando Pinilla Alzate",
      "userId": "04405323006138165112"
     },
     "user_tz": 300
    },
    "id": "uO_2NyaTBwDT",
    "outputId": "b3bf60cb-cd74-4f8a-9c8a-dd2523c5a767"
   },
   "outputs": [],
   "source": [
    "print(sumaproducto(2,3))\n",
    "print(m)\n",
    "print(w)\n",
    "print(sumaproducto(w,m))"
   ]
  },
  {
   "cell_type": "markdown",
   "metadata": {
    "id": "b3-EPh6uWRED"
   },
   "source": [
    "### Algunas operadores especiales"
   ]
  },
  {
   "cell_type": "markdown",
   "metadata": {
    "id": "DlAvERVmWREE"
   },
   "source": [
    "#### Operador map\n",
    "\n",
    "Operador que facilita la aplicación de una función a un objeto iterable.\n",
    "\n",
    "**Ejemplo**\n",
    "\n",
    "Aplique el operador map a una lista de nombres que calcule la longitud de cada nombre"
   ]
  },
  {
   "cell_type": "code",
   "execution_count": 1,
   "metadata": {
    "colab": {
     "base_uri": "https://localhost:8080/"
    },
    "executionInfo": {
     "elapsed": 165,
     "status": "ok",
     "timestamp": 1654049940408,
     "user": {
      "displayName": "Jeison Orlando Pinilla Alzate",
      "userId": "04405323006138165112"
     },
     "user_tz": 300
    },
    "id": "9W4oSyRGWREE",
    "outputId": "4859752c-8a5c-4679-8684-6097e4e8255f"
   },
   "outputs": [
    {
     "data": {
      "text/plain": [
       "[7, 4, 7]"
      ]
     },
     "execution_count": 1,
     "metadata": {},
     "output_type": "execute_result"
    }
   ],
   "source": [
    "frutas=['Durazno','Pera','Manzana']\n",
    "len(frutas)\n",
    "list(map(len,frutas))"
   ]
  },
  {
   "cell_type": "code",
   "execution_count": 2,
   "metadata": {
    "executionInfo": {
     "elapsed": 157,
     "status": "ok",
     "timestamp": 1654050064685,
     "user": {
      "displayName": "Jeison Orlando Pinilla Alzate",
      "userId": "04405323006138165112"
     },
     "user_tz": 300
    },
    "id": "IdKxS-GHD1-T"
   },
   "outputs": [],
   "source": [
    "def cinco(x):\n",
    "  return x+5"
   ]
  },
  {
   "cell_type": "code",
   "execution_count": 3,
   "metadata": {
    "colab": {
     "base_uri": "https://localhost:8080/"
    },
    "executionInfo": {
     "elapsed": 184,
     "status": "ok",
     "timestamp": 1654050078472,
     "user": {
      "displayName": "Jeison Orlando Pinilla Alzate",
      "userId": "04405323006138165112"
     },
     "user_tz": 300
    },
    "id": "UVSHWAQnERAD",
    "outputId": "2215f71b-6afc-4802-a089-0f67d55f4ddf"
   },
   "outputs": [
    {
     "data": {
      "text/plain": [
       "12"
      ]
     },
     "execution_count": 3,
     "metadata": {},
     "output_type": "execute_result"
    }
   ],
   "source": [
    "cinco(7)"
   ]
  },
  {
   "cell_type": "code",
   "execution_count": 4,
   "metadata": {
    "colab": {
     "base_uri": "https://localhost:8080/"
    },
    "executionInfo": {
     "elapsed": 158,
     "status": "ok",
     "timestamp": 1654050285253,
     "user": {
      "displayName": "Jeison Orlando Pinilla Alzate",
      "userId": "04405323006138165112"
     },
     "user_tz": 300
    },
    "id": "5NS-AS1_EUJB",
    "outputId": "bafd1970-6187-4190-ebca-fbaf52af8d3a"
   },
   "outputs": [
    {
     "data": {
      "text/plain": [
       "[9, 10, 11, 13, 9, 8, 7]"
      ]
     },
     "execution_count": 4,
     "metadata": {},
     "output_type": "execute_result"
    }
   ],
   "source": [
    "numeros=(4,5,6,8,4,3,2)\n",
    "list(map(cinco,numeros))"
   ]
  },
  {
   "cell_type": "code",
   "execution_count": 5,
   "metadata": {
    "executionInfo": {
     "elapsed": 142,
     "status": "ok",
     "timestamp": 1654050599940,
     "user": {
      "displayName": "Jeison Orlando Pinilla Alzate",
      "userId": "04405323006138165112"
     },
     "user_tz": 300
    },
    "id": "BxuDIjSzFfIQ"
   },
   "outputs": [],
   "source": [
    "def agregue_a(x):\n",
    "  return x+'a'"
   ]
  },
  {
   "cell_type": "code",
   "execution_count": 6,
   "metadata": {
    "colab": {
     "base_uri": "https://localhost:8080/"
    },
    "executionInfo": {
     "elapsed": 4138,
     "status": "ok",
     "timestamp": 1654050646951,
     "user": {
      "displayName": "Jeison Orlando Pinilla Alzate",
      "userId": "04405323006138165112"
     },
     "user_tz": 300
    },
    "id": "_wlqGFcbFMfQ",
    "outputId": "964f7305-9785-4fc6-a411-5b523e88a551"
   },
   "outputs": [
    {
     "data": {
      "text/plain": [
       "['Ea', 'la', 'ka', 'ia', 'na']"
      ]
     },
     "execution_count": 6,
     "metadata": {},
     "output_type": "execute_result"
    }
   ],
   "source": [
    "n=input('Escriba el nombre:')\n",
    "list(map(agregue_a,n))"
   ]
  },
  {
   "cell_type": "markdown",
   "metadata": {
    "id": "ej0dXK94WREF"
   },
   "source": [
    "#### Operadores de texto\n",
    "\n",
    "Operadores que permiten la limpieza de texto:\n",
    "*   strip\n",
    "*   title\n",
    "*   lower\n",
    "*   upper\n"
   ]
  },
  {
   "cell_type": "code",
   "execution_count": 22,
   "metadata": {
    "id": "IGBQCCk1WREF"
   },
   "outputs": [
    {
     "data": {
      "text/plain": [
       "'      Vamos a probar el uso de diferen tes FunciONES e n PY THon (kasa)    '"
      ]
     },
     "execution_count": 22,
     "metadata": {},
     "output_type": "execute_result"
    }
   ],
   "source": [
    "# strip quita espacios en blanco al principio y al final de la palabra\n",
    "\n",
    "texto = \"      Vamos a probar el uso de diferen tes FunciONES e n PY THon (kasa)    \"\n",
    "texto"
   ]
  },
  {
   "cell_type": "code",
   "execution_count": 23,
   "metadata": {
    "id": "NxXBJKp8WREG"
   },
   "outputs": [
    {
     "name": "stdout",
     "output_type": "stream",
     "text": [
      "Vamos a probar el uso de diferen tes FunciONES e n PY THon (kasa)\n"
     ]
    }
   ],
   "source": [
    "print(texto.strip())"
   ]
  },
  {
   "cell_type": "markdown",
   "metadata": {
    "id": "wbbTagsGWREF"
   },
   "source": [
    "Reemplazar texto por otro"
   ]
  },
  {
   "cell_type": "code",
   "execution_count": 24,
   "metadata": {},
   "outputs": [],
   "source": [
    "import re"
   ]
  },
  {
   "cell_type": "code",
   "execution_count": 27,
   "metadata": {},
   "outputs": [
    {
     "data": {
      "text/plain": [
       "'      Vamos a probar el uso de diferen tes FunciONES e n PY THon (kasa)    '"
      ]
     },
     "execution_count": 27,
     "metadata": {},
     "output_type": "execute_result"
    }
   ],
   "source": [
    "# cambiar kasa por cada\n",
    "re.sub('casa', 'kasa', texto)\n",
    "texto"
   ]
  },
  {
   "cell_type": "markdown",
   "metadata": {
    "id": "uKGP9os_WREG"
   },
   "source": [
    "#### Funciones anónimas o lambda\n",
    "\n",
    "Funciones que se declaran en un solo renglón"
   ]
  },
  {
   "cell_type": "code",
   "execution_count": 32,
   "metadata": {
    "id": "WNj-53-AT_iB"
   },
   "outputs": [],
   "source": [
    "def cuadrado (x):\n",
    "    x = x**2\n",
    "    return x"
   ]
  },
  {
   "cell_type": "code",
   "execution_count": 33,
   "metadata": {},
   "outputs": [
    {
     "data": {
      "text/plain": [
       "400"
      ]
     },
     "execution_count": 33,
     "metadata": {},
     "output_type": "execute_result"
    }
   ],
   "source": [
    "cuadrado(20)"
   ]
  },
  {
   "cell_type": "code",
   "execution_count": 34,
   "metadata": {},
   "outputs": [
    {
     "data": {
      "text/plain": [
       "[16, 49, 64, 81]"
      ]
     },
     "execution_count": 34,
     "metadata": {},
     "output_type": "execute_result"
    }
   ],
   "source": [
    "# Aplicar función a los números 4,7,8,9:\n",
    "\n",
    "lista2 = [4,7,8,9]\n",
    "list(map(cuadrado,lista2))"
   ]
  },
  {
   "cell_type": "code",
   "execution_count": 36,
   "metadata": {},
   "outputs": [
    {
     "data": {
      "text/plain": [
       "[16, 49, 64, 81]"
      ]
     },
     "execution_count": 36,
     "metadata": {},
     "output_type": "execute_result"
    }
   ],
   "source": [
    "# En lugar de hacer lo anterior, creamos una función anonima:\n",
    "\n",
    "list(map(lambda x:x*x, lista2))"
   ]
  },
  {
   "cell_type": "markdown",
   "metadata": {
    "id": "LNT1jn05TAVh"
   },
   "source": [
    "Cree una función lambda que tome dos números y haga el cociente entre la suma y la diferencia"
   ]
  },
  {
   "cell_type": "code",
   "execution_count": 40,
   "metadata": {
    "id": "ht6XGYVgUBlA"
   },
   "outputs": [
    {
     "name": "stdout",
     "output_type": "stream",
     "text": [
      "[-4.0, 1.5]\n"
     ]
    }
   ],
   "source": [
    "lista3 = [(3, 5), (10, 2)]\n",
    "resultados = list(map(lambda tupla: (tupla[0] + tupla[1]) / (tupla[0] - tupla[1]) if (tupla[0] - tupla[1]) != 0 else 'Indeterminado', lista3))\n",
    "print(resultados)"
   ]
  },
  {
   "cell_type": "markdown",
   "metadata": {
    "id": "P-er5DiNWREH"
   },
   "source": [
    "## CLASES:"
   ]
  },
  {
   "cell_type": "markdown",
   "metadata": {
    "id": "RJTkNaP0WREH"
   },
   "source": [
    "Una clase es una representación abstracta de un concepto. Por ejemplo, una persona, un animal, etc. Crear una clase significa definir un objeto a partir de los atributos que lo caracterizan y definir unos métodos que son funciones cuyos argumentos son estos atributos."
   ]
  },
  {
   "cell_type": "markdown",
   "metadata": {
    "id": "q1rbxi0DWREH"
   },
   "source": [
    "### Ejemplo:\n",
    "\n",
    "Cree una clase que represente a una persona y cuyos atributos sean: nombre, fecha de nacimiento, altura, peso y nivel educativo. Adicionalmente, calcule los métodos de edad e Índice de masa corporal."
   ]
  },
  {
   "cell_type": "markdown",
   "metadata": {
    "id": "y0iRiPimWREI"
   },
   "source": [
    "#### Importación de la libreria datetime para fechas"
   ]
  },
  {
   "cell_type": "code",
   "execution_count": null,
   "metadata": {
    "id": "hXfjqf1dWREI"
   },
   "outputs": [],
   "source": []
  },
  {
   "cell_type": "markdown",
   "metadata": {
    "id": "t4HHWRQ6WREI"
   },
   "source": [
    "#### Definición de la clase personas\n",
    "\n",
    "Para crear una clase siempre se utiliza el argumento invocador self"
   ]
  },
  {
   "cell_type": "code",
   "execution_count": 108,
   "metadata": {
    "id": "aKhMfuFFWREI"
   },
   "outputs": [],
   "source": [
    "from datetime import datetime\n",
    "\n",
    "class personas (object):\n",
    "    def __init__(self, nombre, fecha_nacimiento, altura, peso, nivel_educativo) -> None:\n",
    "        self.nombre= nombre\n",
    "        self.nacimiento = datetime.strptime(fecha_nacimiento, \"%Y-%m-%d\")\n",
    "        self.altura=altura\n",
    "        self.peso=peso\n",
    "        self.formacion=nivel_educativo\n",
    "    \n",
    "    def imc(self):\n",
    "        return self.peso / self.altura ** 2\n",
    "    \n",
    "    def edad(self):\n",
    "        hoy = datetime.today()\n",
    "        return hoy.year - self.nacimiento.year #- ((hoy.month, hoy.day) < (self.nacimiento.month, self.nacimiento.day))"
   ]
  },
  {
   "cell_type": "markdown",
   "metadata": {
    "id": "SRvrjIw5WREI"
   },
   "source": [
    "Cree la persona Diego, que nació el 3 de abril de 1972, tiene una altura de 1.7 metros, un peso de 64 años y es universitario."
   ]
  },
  {
   "cell_type": "code",
   "execution_count": 109,
   "metadata": {
    "id": "V4Xp7WeXWREJ",
    "scrolled": true
   },
   "outputs": [],
   "source": [
    "Diego = personas(\"Diego\", \"2000-06-15\", 1.75, 70, \"Universitario\")"
   ]
  },
  {
   "cell_type": "code",
   "execution_count": 110,
   "metadata": {},
   "outputs": [
    {
     "data": {
      "text/plain": [
       "__main__.personas"
      ]
     },
     "execution_count": 110,
     "metadata": {},
     "output_type": "execute_result"
    }
   ],
   "source": [
    "type(Diego)"
   ]
  },
  {
   "cell_type": "markdown",
   "metadata": {
    "id": "Lo5w4NfXWREJ"
   },
   "source": [
    "Imprima los argumentos del objeto Diego"
   ]
  },
  {
   "cell_type": "code",
   "execution_count": 111,
   "metadata": {
    "id": "WIs1VokXWREJ"
   },
   "outputs": [
    {
     "name": "stdout",
     "output_type": "stream",
     "text": [
      "Diego\n",
      "2000-06-15 00:00:00\n",
      "1.75\n"
     ]
    }
   ],
   "source": [
    "print(Diego.nombre)\n",
    "print(Diego.nacimiento)\n",
    "print(Diego.altura)"
   ]
  },
  {
   "cell_type": "markdown",
   "metadata": {
    "id": "Isd_iMFJWREJ"
   },
   "source": [
    "Calcule la edad de Diego"
   ]
  },
  {
   "cell_type": "code",
   "execution_count": 112,
   "metadata": {
    "id": "43sR1jrHWREJ"
   },
   "outputs": [
    {
     "name": "stdout",
     "output_type": "stream",
     "text": [
      "23\n"
     ]
    }
   ],
   "source": [
    "print(Diego.edad())"
   ]
  },
  {
   "cell_type": "markdown",
   "metadata": {
    "id": "fKesdD0oWREJ"
   },
   "source": [
    "Calcule el índice de masa corporal de Diego"
   ]
  },
  {
   "cell_type": "code",
   "execution_count": 113,
   "metadata": {
    "id": "96zZl5FSWREK"
   },
   "outputs": [
    {
     "data": {
      "text/plain": [
       "22.857142857142858"
      ]
     },
     "execution_count": 113,
     "metadata": {},
     "output_type": "execute_result"
    }
   ],
   "source": [
    "Diego.imc()"
   ]
  },
  {
   "cell_type": "markdown",
   "metadata": {
    "id": "JT0k_ZcBWREK"
   },
   "source": [
    "## herencia "
   ]
  },
  {
   "cell_type": "markdown",
   "metadata": {
    "id": "fLUC1ye9WREK"
   },
   "source": [
    "Se pueden construir subclases a partir de clases ya definidas que van a heredar sus atributos y métodos."
   ]
  },
  {
   "cell_type": "markdown",
   "metadata": {
    "id": "XcQE8hYGWREK"
   },
   "source": [
    "**Ejemplo**\n",
    "\n",
    "Cree una subclase de la clase Personas que almacene el género de una persona y que clasifique la estatura de una persona siguiendo las siguientes condiciones:\n",
    "\n",
    "Si es mujer:\n",
    "1. Baja: menor a 1.55\n",
    "2. Media: entre 1.56 y 1.7\n",
    "3. Alta: Mayor a 1.7\n",
    "\n",
    "Si es hombre:\n",
    "1. Baja: menor a 1.60\n",
    "2. Media: entre 1.6 y 1.8\n",
    "3. Alta: mayor a 1.8"
   ]
  },
  {
   "cell_type": "markdown",
   "metadata": {
    "id": "UMgwc59yWREK"
   },
   "source": [
    "Cree la subclase"
   ]
  },
  {
   "cell_type": "code",
   "execution_count": 114,
   "metadata": {
    "id": "EHaUI-JSWREL"
   },
   "outputs": [],
   "source": [
    "class generos(personas):\n",
    "    def __init__(self, nombre, fecha_nacimiento, altura, peso, nivel_educativo,genero) -> None:\n",
    "        super().__init__(nombre, fecha_nacimiento, altura, peso, nivel_educativo)\n",
    "        self.genero=genero\n",
    "\n",
    "    def talla(self):\n",
    "        if self.genero == 'mujer':\n",
    "            if self.altura < 1.55:\n",
    "                medida= 'baja'\n",
    "            elif self.altura < 1.7:\n",
    "                medida= 'media'\n",
    "            else:\n",
    "                medida = 'Alta'\n",
    "        else:\n",
    "            if self.altura < 1.80:\n",
    "                medida= 'baja'\n",
    "            elif self.altura < 1.90:\n",
    "                medida= 'media'\n",
    "            else:\n",
    "                medida = 'Alta'\n",
    "        return medida"
   ]
  },
  {
   "cell_type": "markdown",
   "metadata": {
    "id": "LfdTOXJfO-v7"
   },
   "source": [
    "Creese usted como persona dentro de la subclase género."
   ]
  },
  {
   "cell_type": "code",
   "execution_count": 115,
   "metadata": {},
   "outputs": [],
   "source": [
    "Elkin = generos('Elkin',\"2023-07-10\",1.82,80,'Posgrado','hombre')"
   ]
  },
  {
   "cell_type": "code",
   "execution_count": 116,
   "metadata": {},
   "outputs": [
    {
     "name": "stdout",
     "output_type": "stream",
     "text": [
      "Elkin\n",
      "2023-07-10 00:00:00\n"
     ]
    }
   ],
   "source": [
    "print(Elkin.nombre)\n",
    "print(Elkin.nacimiento)"
   ]
  },
  {
   "cell_type": "code",
   "execution_count": 117,
   "metadata": {},
   "outputs": [
    {
     "data": {
      "text/plain": [
       "'media'"
      ]
     },
     "execution_count": 117,
     "metadata": {},
     "output_type": "execute_result"
    }
   ],
   "source": [
    "Elkin.talla()"
   ]
  },
  {
   "cell_type": "markdown",
   "metadata": {
    "id": "zsjz3X1VWREM"
   },
   "source": [
    "**Ejercicio:**\n",
    "\n",
    "Cree una clase que se llame rectángulo y como métodos tenga el área y el perímetro"
   ]
  },
  {
   "cell_type": "code",
   "execution_count": null,
   "metadata": {
    "id": "pkWOCYxpWREM"
   },
   "outputs": [],
   "source": []
  },
  {
   "cell_type": "markdown",
   "metadata": {
    "id": "5hP5dW0AWREN"
   },
   "source": [
    "**Ejercicio:**\n",
    "\n",
    "cree una subclase de rectangulos redondeados cuyo atributo adicional sea la cantidad de área que se le quita y cómo método el área total del rectángulo redondeado"
   ]
  },
  {
   "cell_type": "code",
   "execution_count": null,
   "metadata": {
    "id": "5qEQYzRpWREN"
   },
   "outputs": [],
   "source": []
  }
 ],
 "metadata": {
  "colab": {
   "name": "3. Guía_ Tercera_clase_python.ipynb",
   "provenance": []
  },
  "kernelspec": {
   "display_name": "Python 3 (ipykernel)",
   "language": "python",
   "name": "python3"
  },
  "language_info": {
   "codemirror_mode": {
    "name": "ipython",
    "version": 3
   },
   "file_extension": ".py",
   "mimetype": "text/x-python",
   "name": "python",
   "nbconvert_exporter": "python",
   "pygments_lexer": "ipython3",
   "version": "3.11.0"
  }
 },
 "nbformat": 4,
 "nbformat_minor": 1
}
