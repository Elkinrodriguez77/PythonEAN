{
 "cells": [
  {
   "cell_type": "code",
   "execution_count": 6,
   "metadata": {},
   "outputs": [
    {
     "name": "stdout",
     "output_type": "stream",
     "text": [
      "   producto_id               nombre_producto  proveedor_id  categoria_id  \\\n",
      "0            1                          Chai             1             1   \n",
      "1            2                         Chang             1             1   \n",
      "2            3                 Aniseed Syrup             1             2   \n",
      "3            4  Chef Anton's Cajun Seasoning             2             2   \n",
      "4            5        Chef Anton's Gumbo Mix             2             2   \n",
      "\n",
      "   cantidad_por_unidad  costo_unitario  unidades_en_stock  unidades_en_orden  \\\n",
      "0   10 boxes x 20 bags         2.53800                 39                  0   \n",
      "1   24 - 12 oz bottles         2.28000                 17                 40   \n",
      "2  12 - 550 ml bottles         0.96000                 13                 70   \n",
      "3       48 - 6 oz jars         2.64000                 53                  0   \n",
      "4             36 boxes         3.26655                  0                  0   \n",
      "\n",
      "   nivel_orden  descontinuado  \n",
      "0           10              0  \n",
      "1           25              0  \n",
      "2           25              0  \n",
      "3            0              0  \n",
      "4            0              1  \n"
     ]
    }
   ],
   "source": [
    "import pandas as pd\n",
    "\n",
    "# Define la ruta del archivo\n",
    "file_path = r\"G:\\Mi unidad\\Compartido a estudiantes\\Power BI 2023\\5. Dax\\Bases Northwid\\products.csv\"\n",
    "\n",
    "# Lee el archivo .csv\n",
    "data = pd.read_csv(file_path)\n",
    "\n",
    "# Imprime los primeros 5 registros para confirmar que los datos se han leído correctamente\n",
    "print(data.head())\n"
   ]
  }
 ],
 "metadata": {
  "kernelspec": {
   "display_name": "Python 3",
   "language": "python",
   "name": "python3"
  },
  "language_info": {
   "codemirror_mode": {
    "name": "ipython",
    "version": 3
   },
   "file_extension": ".py",
   "mimetype": "text/x-python",
   "name": "python",
   "nbconvert_exporter": "python",
   "pygments_lexer": "ipython3",
   "version": "3.11.0"
  },
  "orig_nbformat": 4
 },
 "nbformat": 4,
 "nbformat_minor": 2
}
