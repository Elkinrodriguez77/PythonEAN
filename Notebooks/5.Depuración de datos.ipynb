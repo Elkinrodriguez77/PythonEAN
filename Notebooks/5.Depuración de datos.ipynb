{
 "cells": [
  {
   "cell_type": "markdown",
   "metadata": {
    "id": "IimHWaUTiHpK"
   },
   "source": [
    "# Modulo 4: Análisis y depuración de datos con Pandas"
   ]
  },
  {
   "cell_type": "markdown",
   "metadata": {
    "id": "DKGlsrDOiHpT"
   },
   "source": [
    "Pandas es un paquete de Python que facilita el análisis de datos, proporcionando estructuras de datos rápidas, flexibles y expresivas que hacen el trabajo mucho más intuitivo."
   ]
  },
  {
   "cell_type": "markdown",
   "metadata": {
    "id": "jszPJBKliHpU"
   },
   "source": [
    "## Importando los paquetes necesarios"
   ]
  },
  {
   "cell_type": "code",
   "execution_count": 1,
   "metadata": {
    "executionInfo": {
     "elapsed": 194,
     "status": "ok",
     "timestamp": 1665713066420,
     "user": {
      "displayName": "Jeison Orlando Pinilla Alzate",
      "userId": "04405323006138165112"
     },
     "user_tz": 300
    },
    "id": "w3qpT7HriHpV"
   },
   "outputs": [],
   "source": [
    "import numpy as np\n",
    "import pandas as pd"
   ]
  },
  {
   "cell_type": "markdown",
   "metadata": {
    "id": "iXdlSFW3iHpW"
   },
   "source": [
    "## Creación de variables\n",
    "Primero creamos las variables a analizar."
   ]
  },
  {
   "cell_type": "code",
   "execution_count": 2,
   "metadata": {
    "id": "fCEKKjPliHpW"
   },
   "outputs": [],
   "source": [
    "Vendedor=np.array([\"María\",\"Juana\",\"Maria\",\"Jose\",\"Maria\",\"Juana\",\"Maria\",\"Jose\",\"Maria\",\"Juana\"])\n",
    "Venta=np.array([3000,4000,5000,2000,6000,7000,10000,7000,3000,6000])\n",
    "Descuento=np.array([0.10,0.20,0.5,0.6,0.8,np.nan,0.3,0.2,0.1,0.10])"
   ]
  },
  {
   "cell_type": "markdown",
   "metadata": {
    "id": "QJhuKgldiHpX"
   },
   "source": [
    "## Dataframe\n",
    "Un dataframe es un tipo especial de objeto de python cuya estructura permite almacenar un conjunto de datos. Los datos almacenados pueden ser de diversos tipos tanto numéricos y alfanuméricos. Su representación es muy similar a la de una matriz, en donde, las filas van a representar a los individuos y las columnas a las variables."
   ]
  },
  {
   "cell_type": "code",
   "execution_count": 4,
   "metadata": {
    "executionInfo": {
     "elapsed": 67,
     "status": "aborted",
     "timestamp": 1665713067611,
     "user": {
      "displayName": "Jeison Orlando Pinilla Alzate",
      "userId": "04405323006138165112"
     },
     "user_tz": 300
    },
    "id": "Q3ve3_s0iHpX"
   },
   "outputs": [
    {
     "data": {
      "text/html": [
       "<div>\n",
       "<style scoped>\n",
       "    .dataframe tbody tr th:only-of-type {\n",
       "        vertical-align: middle;\n",
       "    }\n",
       "\n",
       "    .dataframe tbody tr th {\n",
       "        vertical-align: top;\n",
       "    }\n",
       "\n",
       "    .dataframe thead th {\n",
       "        text-align: right;\n",
       "    }\n",
       "</style>\n",
       "<table border=\"1\" class=\"dataframe\">\n",
       "  <thead>\n",
       "    <tr style=\"text-align: right;\">\n",
       "      <th></th>\n",
       "      <th>Vendedor</th>\n",
       "      <th>Ventas</th>\n",
       "      <th>Descuentos</th>\n",
       "    </tr>\n",
       "  </thead>\n",
       "  <tbody>\n",
       "    <tr>\n",
       "      <th>0</th>\n",
       "      <td>María</td>\n",
       "      <td>3000</td>\n",
       "      <td>0.1</td>\n",
       "    </tr>\n",
       "    <tr>\n",
       "      <th>1</th>\n",
       "      <td>Juana</td>\n",
       "      <td>4000</td>\n",
       "      <td>0.2</td>\n",
       "    </tr>\n",
       "    <tr>\n",
       "      <th>2</th>\n",
       "      <td>Maria</td>\n",
       "      <td>5000</td>\n",
       "      <td>0.5</td>\n",
       "    </tr>\n",
       "    <tr>\n",
       "      <th>3</th>\n",
       "      <td>Jose</td>\n",
       "      <td>2000</td>\n",
       "      <td>0.6</td>\n",
       "    </tr>\n",
       "    <tr>\n",
       "      <th>4</th>\n",
       "      <td>Maria</td>\n",
       "      <td>6000</td>\n",
       "      <td>0.8</td>\n",
       "    </tr>\n",
       "    <tr>\n",
       "      <th>5</th>\n",
       "      <td>Juana</td>\n",
       "      <td>7000</td>\n",
       "      <td>NaN</td>\n",
       "    </tr>\n",
       "    <tr>\n",
       "      <th>6</th>\n",
       "      <td>Maria</td>\n",
       "      <td>10000</td>\n",
       "      <td>0.3</td>\n",
       "    </tr>\n",
       "    <tr>\n",
       "      <th>7</th>\n",
       "      <td>Jose</td>\n",
       "      <td>7000</td>\n",
       "      <td>0.2</td>\n",
       "    </tr>\n",
       "    <tr>\n",
       "      <th>8</th>\n",
       "      <td>Maria</td>\n",
       "      <td>3000</td>\n",
       "      <td>0.1</td>\n",
       "    </tr>\n",
       "    <tr>\n",
       "      <th>9</th>\n",
       "      <td>Juana</td>\n",
       "      <td>6000</td>\n",
       "      <td>0.1</td>\n",
       "    </tr>\n",
       "  </tbody>\n",
       "</table>\n",
       "</div>"
      ],
      "text/plain": [
       "  Vendedor  Ventas  Descuentos\n",
       "0    María    3000         0.1\n",
       "1    Juana    4000         0.2\n",
       "2    Maria    5000         0.5\n",
       "3     Jose    2000         0.6\n",
       "4    Maria    6000         0.8\n",
       "5    Juana    7000         NaN\n",
       "6    Maria   10000         0.3\n",
       "7     Jose    7000         0.2\n",
       "8    Maria    3000         0.1\n",
       "9    Juana    6000         0.1"
      ]
     },
     "execution_count": 4,
     "metadata": {},
     "output_type": "execute_result"
    }
   ],
   "source": [
    "# Crear el diccionario\n",
    "data = {'Vendedor':Vendedor, 'Ventas':Venta, 'Descuentos':Descuento}\n",
    "\n",
    "# Crear el dataframe\n",
    "df = pd.DataFrame(data)\n",
    "\n",
    "# Leer df\n",
    "df"
   ]
  },
  {
   "cell_type": "markdown",
   "metadata": {
    "id": "ZSrbYRV2jLV8"
   },
   "source": [
    "Tamaño del dataframe"
   ]
  },
  {
   "cell_type": "code",
   "execution_count": 6,
   "metadata": {
    "executionInfo": {
     "elapsed": 67,
     "status": "aborted",
     "timestamp": 1665713067612,
     "user": {
      "displayName": "Jeison Orlando Pinilla Alzate",
      "userId": "04405323006138165112"
     },
     "user_tz": 300
    },
    "id": "orS7vtP-jOoF"
   },
   "outputs": [
    {
     "data": {
      "text/plain": [
       "(10, 3)"
      ]
     },
     "execution_count": 6,
     "metadata": {},
     "output_type": "execute_result"
    }
   ],
   "source": [
    "df.shape  # filas por columnas"
   ]
  },
  {
   "cell_type": "markdown",
   "metadata": {
    "id": "33ZWiu6Bit6R"
   },
   "source": [
    "Eliminación de valores perdidos. (En lugar de eliminarlo que es con dropna, mejor voy a rellenar el NaN con 0)"
   ]
  },
  {
   "cell_type": "code",
   "execution_count": 11,
   "metadata": {
    "executionInfo": {
     "elapsed": 67,
     "status": "aborted",
     "timestamp": 1665713067613,
     "user": {
      "displayName": "Jeison Orlando Pinilla Alzate",
      "userId": "04405323006138165112"
     },
     "user_tz": 300
    },
    "id": "ZGGTGEUoiHpa"
   },
   "outputs": [
    {
     "data": {
      "text/html": [
       "<div>\n",
       "<style scoped>\n",
       "    .dataframe tbody tr th:only-of-type {\n",
       "        vertical-align: middle;\n",
       "    }\n",
       "\n",
       "    .dataframe tbody tr th {\n",
       "        vertical-align: top;\n",
       "    }\n",
       "\n",
       "    .dataframe thead th {\n",
       "        text-align: right;\n",
       "    }\n",
       "</style>\n",
       "<table border=\"1\" class=\"dataframe\">\n",
       "  <thead>\n",
       "    <tr style=\"text-align: right;\">\n",
       "      <th></th>\n",
       "      <th>Vendedor</th>\n",
       "      <th>Ventas</th>\n",
       "      <th>Descuentos</th>\n",
       "    </tr>\n",
       "  </thead>\n",
       "  <tbody>\n",
       "    <tr>\n",
       "      <th>0</th>\n",
       "      <td>María</td>\n",
       "      <td>3000</td>\n",
       "      <td>0.1</td>\n",
       "    </tr>\n",
       "    <tr>\n",
       "      <th>1</th>\n",
       "      <td>Juana</td>\n",
       "      <td>4000</td>\n",
       "      <td>0.2</td>\n",
       "    </tr>\n",
       "    <tr>\n",
       "      <th>2</th>\n",
       "      <td>Maria</td>\n",
       "      <td>5000</td>\n",
       "      <td>0.5</td>\n",
       "    </tr>\n",
       "    <tr>\n",
       "      <th>3</th>\n",
       "      <td>Jose</td>\n",
       "      <td>2000</td>\n",
       "      <td>0.6</td>\n",
       "    </tr>\n",
       "    <tr>\n",
       "      <th>4</th>\n",
       "      <td>Maria</td>\n",
       "      <td>6000</td>\n",
       "      <td>0.8</td>\n",
       "    </tr>\n",
       "    <tr>\n",
       "      <th>5</th>\n",
       "      <td>Juana</td>\n",
       "      <td>7000</td>\n",
       "      <td>0.0</td>\n",
       "    </tr>\n",
       "    <tr>\n",
       "      <th>6</th>\n",
       "      <td>Maria</td>\n",
       "      <td>10000</td>\n",
       "      <td>0.3</td>\n",
       "    </tr>\n",
       "    <tr>\n",
       "      <th>7</th>\n",
       "      <td>Jose</td>\n",
       "      <td>7000</td>\n",
       "      <td>0.2</td>\n",
       "    </tr>\n",
       "    <tr>\n",
       "      <th>8</th>\n",
       "      <td>Maria</td>\n",
       "      <td>3000</td>\n",
       "      <td>0.1</td>\n",
       "    </tr>\n",
       "    <tr>\n",
       "      <th>9</th>\n",
       "      <td>Juana</td>\n",
       "      <td>6000</td>\n",
       "      <td>0.1</td>\n",
       "    </tr>\n",
       "  </tbody>\n",
       "</table>\n",
       "</div>"
      ],
      "text/plain": [
       "  Vendedor  Ventas  Descuentos\n",
       "0    María    3000         0.1\n",
       "1    Juana    4000         0.2\n",
       "2    Maria    5000         0.5\n",
       "3     Jose    2000         0.6\n",
       "4    Maria    6000         0.8\n",
       "5    Juana    7000         0.0\n",
       "6    Maria   10000         0.3\n",
       "7     Jose    7000         0.2\n",
       "8    Maria    3000         0.1\n",
       "9    Juana    6000         0.1"
      ]
     },
     "execution_count": 11,
     "metadata": {},
     "output_type": "execute_result"
    }
   ],
   "source": [
    "df['Descuentos'].fillna(0, inplace=True)\n",
    "df"
   ]
  },
  {
   "cell_type": "markdown",
   "metadata": {
    "id": "0Mjj_YVQi1Ih"
   },
   "source": [
    "Visualización del dataframe df"
   ]
  },
  {
   "cell_type": "code",
   "execution_count": 13,
   "metadata": {
    "executionInfo": {
     "elapsed": 68,
     "status": "aborted",
     "timestamp": 1665713067614,
     "user": {
      "displayName": "Jeison Orlando Pinilla Alzate",
      "userId": "04405323006138165112"
     },
     "user_tz": 300
    },
    "id": "XEPQH0G7iHpb"
   },
   "outputs": [
    {
     "data": {
      "text/html": [
       "<div>\n",
       "<style scoped>\n",
       "    .dataframe tbody tr th:only-of-type {\n",
       "        vertical-align: middle;\n",
       "    }\n",
       "\n",
       "    .dataframe tbody tr th {\n",
       "        vertical-align: top;\n",
       "    }\n",
       "\n",
       "    .dataframe thead th {\n",
       "        text-align: right;\n",
       "    }\n",
       "</style>\n",
       "<table border=\"1\" class=\"dataframe\">\n",
       "  <thead>\n",
       "    <tr style=\"text-align: right;\">\n",
       "      <th></th>\n",
       "      <th>Vendedor</th>\n",
       "      <th>Ventas</th>\n",
       "      <th>Descuentos</th>\n",
       "    </tr>\n",
       "  </thead>\n",
       "  <tbody>\n",
       "    <tr>\n",
       "      <th>0</th>\n",
       "      <td>María</td>\n",
       "      <td>3000</td>\n",
       "      <td>0.1</td>\n",
       "    </tr>\n",
       "    <tr>\n",
       "      <th>1</th>\n",
       "      <td>Juana</td>\n",
       "      <td>4000</td>\n",
       "      <td>0.2</td>\n",
       "    </tr>\n",
       "    <tr>\n",
       "      <th>2</th>\n",
       "      <td>Maria</td>\n",
       "      <td>5000</td>\n",
       "      <td>0.5</td>\n",
       "    </tr>\n",
       "    <tr>\n",
       "      <th>3</th>\n",
       "      <td>Jose</td>\n",
       "      <td>2000</td>\n",
       "      <td>0.6</td>\n",
       "    </tr>\n",
       "    <tr>\n",
       "      <th>4</th>\n",
       "      <td>Maria</td>\n",
       "      <td>6000</td>\n",
       "      <td>0.8</td>\n",
       "    </tr>\n",
       "  </tbody>\n",
       "</table>\n",
       "</div>"
      ],
      "text/plain": [
       "  Vendedor  Ventas  Descuentos\n",
       "0    María    3000         0.1\n",
       "1    Juana    4000         0.2\n",
       "2    Maria    5000         0.5\n",
       "3     Jose    2000         0.6\n",
       "4    Maria    6000         0.8"
      ]
     },
     "execution_count": 13,
     "metadata": {},
     "output_type": "execute_result"
    }
   ],
   "source": [
    "df.head(5)"
   ]
  },
  {
   "cell_type": "markdown",
   "metadata": {
    "id": "3Vx8XR_hiHpc"
   },
   "source": [
    "### Manipulación del dataframe"
   ]
  },
  {
   "cell_type": "markdown",
   "metadata": {
    "id": "8rd6iM93jhxV"
   },
   "source": [
    "Acceso a los elementos del dataframe:\n",
    "\n",
    "\n",
    "*   **iloc:** Acceso a los elementos por los índices expresados en filas y columnas. \n",
    "*   **loc:** Acceso a las filas con condiciones\n",
    "\n"
   ]
  },
  {
   "cell_type": "markdown",
   "metadata": {
    "id": "pl85fHzmjoiz"
   },
   "source": [
    "Filas: primer elemento"
   ]
  },
  {
   "cell_type": "code",
   "execution_count": 14,
   "metadata": {
    "executionInfo": {
     "elapsed": 68,
     "status": "aborted",
     "timestamp": 1665713067615,
     "user": {
      "displayName": "Jeison Orlando Pinilla Alzate",
      "userId": "04405323006138165112"
     },
     "user_tz": 300
    },
    "id": "VTpjyzZ2jr4e"
   },
   "outputs": [
    {
     "data": {
      "text/plain": [
       "Vendedor      María\n",
       "Ventas         3000\n",
       "Descuentos      0.1\n",
       "Name: 0, dtype: object"
      ]
     },
     "execution_count": 14,
     "metadata": {},
     "output_type": "execute_result"
    }
   ],
   "source": [
    "df.iloc[0]"
   ]
  },
  {
   "cell_type": "markdown",
   "metadata": {
    "id": "jQgfiUFxkExY"
   },
   "source": [
    "Último elemento"
   ]
  },
  {
   "cell_type": "code",
   "execution_count": 15,
   "metadata": {
    "executionInfo": {
     "elapsed": 68,
     "status": "aborted",
     "timestamp": 1665713067616,
     "user": {
      "displayName": "Jeison Orlando Pinilla Alzate",
      "userId": "04405323006138165112"
     },
     "user_tz": 300
    },
    "id": "NT72nyw1kKul"
   },
   "outputs": [
    {
     "data": {
      "text/plain": [
       "Vendedor      Juana\n",
       "Ventas         6000\n",
       "Descuentos      0.1\n",
       "Name: 9, dtype: object"
      ]
     },
     "execution_count": 15,
     "metadata": {},
     "output_type": "execute_result"
    }
   ],
   "source": [
    "df.iloc[-1]"
   ]
  },
  {
   "cell_type": "markdown",
   "metadata": {
    "id": "55lo9siBmTIW"
   },
   "source": [
    "Filas y columnas: Seleccione los registros 0 y 3 y la primera y segunda columna"
   ]
  },
  {
   "cell_type": "code",
   "execution_count": 17,
   "metadata": {
    "executionInfo": {
     "elapsed": 68,
     "status": "aborted",
     "timestamp": 1665713067618,
     "user": {
      "displayName": "Jeison Orlando Pinilla Alzate",
      "userId": "04405323006138165112"
     },
     "user_tz": 300
    },
    "id": "0_XlXSWBmaaO"
   },
   "outputs": [
    {
     "data": {
      "text/html": [
       "<div>\n",
       "<style scoped>\n",
       "    .dataframe tbody tr th:only-of-type {\n",
       "        vertical-align: middle;\n",
       "    }\n",
       "\n",
       "    .dataframe tbody tr th {\n",
       "        vertical-align: top;\n",
       "    }\n",
       "\n",
       "    .dataframe thead th {\n",
       "        text-align: right;\n",
       "    }\n",
       "</style>\n",
       "<table border=\"1\" class=\"dataframe\">\n",
       "  <thead>\n",
       "    <tr style=\"text-align: right;\">\n",
       "      <th></th>\n",
       "      <th>Vendedor</th>\n",
       "      <th>Ventas</th>\n",
       "    </tr>\n",
       "  </thead>\n",
       "  <tbody>\n",
       "    <tr>\n",
       "      <th>0</th>\n",
       "      <td>María</td>\n",
       "      <td>3000</td>\n",
       "    </tr>\n",
       "    <tr>\n",
       "      <th>3</th>\n",
       "      <td>Jose</td>\n",
       "      <td>2000</td>\n",
       "    </tr>\n",
       "  </tbody>\n",
       "</table>\n",
       "</div>"
      ],
      "text/plain": [
       "  Vendedor  Ventas\n",
       "0    María    3000\n",
       "3     Jose    2000"
      ]
     },
     "execution_count": 17,
     "metadata": {},
     "output_type": "execute_result"
    }
   ],
   "source": [
    "df.iloc[[0,3],[0,1]]"
   ]
  },
  {
   "cell_type": "markdown",
   "metadata": {
    "id": "MnZVGmEEj828"
   },
   "source": [
    "Columnas"
   ]
  },
  {
   "cell_type": "code",
   "execution_count": 18,
   "metadata": {
    "executionInfo": {
     "elapsed": 69,
     "status": "aborted",
     "timestamp": 1665713067620,
     "user": {
      "displayName": "Jeison Orlando Pinilla Alzate",
      "userId": "04405323006138165112"
     },
     "user_tz": 300
    },
    "id": "2q5F3Vz9jvqo"
   },
   "outputs": [
    {
     "data": {
      "text/plain": [
       "0    María\n",
       "1    Juana\n",
       "2    Maria\n",
       "3     Jose\n",
       "4    Maria\n",
       "5    Juana\n",
       "6    Maria\n",
       "7     Jose\n",
       "8    Maria\n",
       "9    Juana\n",
       "Name: Vendedor, dtype: object"
      ]
     },
     "execution_count": 18,
     "metadata": {},
     "output_type": "execute_result"
    }
   ],
   "source": [
    "df['Vendedor']"
   ]
  },
  {
   "cell_type": "markdown",
   "metadata": {
    "id": "Iw8AqVnJjzlX"
   },
   "source": [
    "Seleccione las ventas hechas por María en horario nocturno"
   ]
  },
  {
   "cell_type": "code",
   "execution_count": 22,
   "metadata": {
    "executionInfo": {
     "elapsed": 69,
     "status": "aborted",
     "timestamp": 1665713067622,
     "user": {
      "displayName": "Jeison Orlando Pinilla Alzate",
      "userId": "04405323006138165112"
     },
     "user_tz": 300
    },
    "id": "Y8TU7L5Doy4s"
   },
   "outputs": [
    {
     "data": {
      "text/html": [
       "<div>\n",
       "<style scoped>\n",
       "    .dataframe tbody tr th:only-of-type {\n",
       "        vertical-align: middle;\n",
       "    }\n",
       "\n",
       "    .dataframe tbody tr th {\n",
       "        vertical-align: top;\n",
       "    }\n",
       "\n",
       "    .dataframe thead th {\n",
       "        text-align: right;\n",
       "    }\n",
       "</style>\n",
       "<table border=\"1\" class=\"dataframe\">\n",
       "  <thead>\n",
       "    <tr style=\"text-align: right;\">\n",
       "      <th></th>\n",
       "      <th>Vendedor</th>\n",
       "      <th>Ventas</th>\n",
       "      <th>Descuentos</th>\n",
       "    </tr>\n",
       "  </thead>\n",
       "  <tbody>\n",
       "    <tr>\n",
       "      <th>0</th>\n",
       "      <td>María</td>\n",
       "      <td>3000</td>\n",
       "      <td>0.1</td>\n",
       "    </tr>\n",
       "  </tbody>\n",
       "</table>\n",
       "</div>"
      ],
      "text/plain": [
       "  Vendedor  Ventas  Descuentos\n",
       "0    María    3000         0.1"
      ]
     },
     "execution_count": 22,
     "metadata": {},
     "output_type": "execute_result"
    }
   ],
   "source": [
    "df[(df['Vendedor'] == 'María')]  ### y el turno??"
   ]
  },
  {
   "cell_type": "markdown",
   "metadata": {
    "id": "0DYRG8csq0Qt"
   },
   "source": [
    "Otras formas de selección"
   ]
  },
  {
   "cell_type": "markdown",
   "metadata": {
    "id": "b4WPmkeAiHpd"
   },
   "source": [
    "#### Seleccionar los primeros cinco individuos"
   ]
  },
  {
   "cell_type": "code",
   "execution_count": null,
   "metadata": {
    "executionInfo": {
     "elapsed": 69,
     "status": "aborted",
     "timestamp": 1665713067623,
     "user": {
      "displayName": "Jeison Orlando Pinilla Alzate",
      "userId": "04405323006138165112"
     },
     "user_tz": 300
    },
    "id": "o7TwnCXQiHpe"
   },
   "outputs": [],
   "source": []
  },
  {
   "cell_type": "markdown",
   "metadata": {
    "id": "gQzGMXRuiHpf"
   },
   "source": [
    "#### Seleccionar las variables Vendedor y Venta"
   ]
  },
  {
   "cell_type": "code",
   "execution_count": 24,
   "metadata": {
    "executionInfo": {
     "elapsed": 69,
     "status": "aborted",
     "timestamp": 1665713067624,
     "user": {
      "displayName": "Jeison Orlando Pinilla Alzate",
      "userId": "04405323006138165112"
     },
     "user_tz": 300
    },
    "id": "Yo2XZo9WiHpg"
   },
   "outputs": [
    {
     "data": {
      "text/html": [
       "<div>\n",
       "<style scoped>\n",
       "    .dataframe tbody tr th:only-of-type {\n",
       "        vertical-align: middle;\n",
       "    }\n",
       "\n",
       "    .dataframe tbody tr th {\n",
       "        vertical-align: top;\n",
       "    }\n",
       "\n",
       "    .dataframe thead th {\n",
       "        text-align: right;\n",
       "    }\n",
       "</style>\n",
       "<table border=\"1\" class=\"dataframe\">\n",
       "  <thead>\n",
       "    <tr style=\"text-align: right;\">\n",
       "      <th></th>\n",
       "      <th>Vendedor</th>\n",
       "      <th>Ventas</th>\n",
       "    </tr>\n",
       "  </thead>\n",
       "  <tbody>\n",
       "    <tr>\n",
       "      <th>0</th>\n",
       "      <td>María</td>\n",
       "      <td>3000</td>\n",
       "    </tr>\n",
       "    <tr>\n",
       "      <th>1</th>\n",
       "      <td>Juana</td>\n",
       "      <td>4000</td>\n",
       "    </tr>\n",
       "    <tr>\n",
       "      <th>2</th>\n",
       "      <td>Maria</td>\n",
       "      <td>5000</td>\n",
       "    </tr>\n",
       "    <tr>\n",
       "      <th>3</th>\n",
       "      <td>Jose</td>\n",
       "      <td>2000</td>\n",
       "    </tr>\n",
       "    <tr>\n",
       "      <th>4</th>\n",
       "      <td>Maria</td>\n",
       "      <td>6000</td>\n",
       "    </tr>\n",
       "    <tr>\n",
       "      <th>5</th>\n",
       "      <td>Juana</td>\n",
       "      <td>7000</td>\n",
       "    </tr>\n",
       "    <tr>\n",
       "      <th>6</th>\n",
       "      <td>Maria</td>\n",
       "      <td>10000</td>\n",
       "    </tr>\n",
       "    <tr>\n",
       "      <th>7</th>\n",
       "      <td>Jose</td>\n",
       "      <td>7000</td>\n",
       "    </tr>\n",
       "    <tr>\n",
       "      <th>8</th>\n",
       "      <td>Maria</td>\n",
       "      <td>3000</td>\n",
       "    </tr>\n",
       "    <tr>\n",
       "      <th>9</th>\n",
       "      <td>Juana</td>\n",
       "      <td>6000</td>\n",
       "    </tr>\n",
       "  </tbody>\n",
       "</table>\n",
       "</div>"
      ],
      "text/plain": [
       "  Vendedor  Ventas\n",
       "0    María    3000\n",
       "1    Juana    4000\n",
       "2    Maria    5000\n",
       "3     Jose    2000\n",
       "4    Maria    6000\n",
       "5    Juana    7000\n",
       "6    Maria   10000\n",
       "7     Jose    7000\n",
       "8    Maria    3000\n",
       "9    Juana    6000"
      ]
     },
     "execution_count": 24,
     "metadata": {},
     "output_type": "execute_result"
    }
   ],
   "source": [
    "df[['Vendedor','Ventas']]"
   ]
  },
  {
   "cell_type": "markdown",
   "metadata": {
    "id": "D8OO4M1BiHpg"
   },
   "source": [
    "#### Filtrar los datos por algún valor\n",
    "\n",
    "Seleccionar las ventas de María"
   ]
  },
  {
   "cell_type": "code",
   "execution_count": null,
   "metadata": {
    "executionInfo": {
     "elapsed": 69,
     "status": "aborted",
     "timestamp": 1665713067625,
     "user": {
      "displayName": "Jeison Orlando Pinilla Alzate",
      "userId": "04405323006138165112"
     },
     "user_tz": 300
    },
    "id": "xZn4ygu4iHpg"
   },
   "outputs": [],
   "source": [
    "# ya"
   ]
  },
  {
   "cell_type": "markdown",
   "metadata": {
    "id": "96Jar179iHph"
   },
   "source": [
    "Seleccionar las ventas realizadas por Maria y Jose"
   ]
  },
  {
   "cell_type": "code",
   "execution_count": 27,
   "metadata": {
    "executionInfo": {
     "elapsed": 68,
     "status": "aborted",
     "timestamp": 1665713067626,
     "user": {
      "displayName": "Jeison Orlando Pinilla Alzate",
      "userId": "04405323006138165112"
     },
     "user_tz": 300
    },
    "id": "XheQECn5iHph"
   },
   "outputs": [
    {
     "data": {
      "text/html": [
       "<div>\n",
       "<style scoped>\n",
       "    .dataframe tbody tr th:only-of-type {\n",
       "        vertical-align: middle;\n",
       "    }\n",
       "\n",
       "    .dataframe tbody tr th {\n",
       "        vertical-align: top;\n",
       "    }\n",
       "\n",
       "    .dataframe thead th {\n",
       "        text-align: right;\n",
       "    }\n",
       "</style>\n",
       "<table border=\"1\" class=\"dataframe\">\n",
       "  <thead>\n",
       "    <tr style=\"text-align: right;\">\n",
       "      <th></th>\n",
       "      <th>Vendedor</th>\n",
       "      <th>Ventas</th>\n",
       "      <th>Descuentos</th>\n",
       "    </tr>\n",
       "  </thead>\n",
       "  <tbody>\n",
       "    <tr>\n",
       "      <th>2</th>\n",
       "      <td>Maria</td>\n",
       "      <td>5000</td>\n",
       "      <td>0.5</td>\n",
       "    </tr>\n",
       "    <tr>\n",
       "      <th>3</th>\n",
       "      <td>Jose</td>\n",
       "      <td>2000</td>\n",
       "      <td>0.6</td>\n",
       "    </tr>\n",
       "    <tr>\n",
       "      <th>4</th>\n",
       "      <td>Maria</td>\n",
       "      <td>6000</td>\n",
       "      <td>0.8</td>\n",
       "    </tr>\n",
       "    <tr>\n",
       "      <th>6</th>\n",
       "      <td>Maria</td>\n",
       "      <td>10000</td>\n",
       "      <td>0.3</td>\n",
       "    </tr>\n",
       "    <tr>\n",
       "      <th>7</th>\n",
       "      <td>Jose</td>\n",
       "      <td>7000</td>\n",
       "      <td>0.2</td>\n",
       "    </tr>\n",
       "    <tr>\n",
       "      <th>8</th>\n",
       "      <td>Maria</td>\n",
       "      <td>3000</td>\n",
       "      <td>0.1</td>\n",
       "    </tr>\n",
       "  </tbody>\n",
       "</table>\n",
       "</div>"
      ],
      "text/plain": [
       "  Vendedor  Ventas  Descuentos\n",
       "2    Maria    5000         0.5\n",
       "3     Jose    2000         0.6\n",
       "4    Maria    6000         0.8\n",
       "6    Maria   10000         0.3\n",
       "7     Jose    7000         0.2\n",
       "8    Maria    3000         0.1"
      ]
     },
     "execution_count": 27,
     "metadata": {},
     "output_type": "execute_result"
    }
   ],
   "source": [
    "df[(df['Vendedor'] == 'Maria') | (df['Vendedor'] == 'Jose')]   # importante el operador logico, o and (&) o or (|)"
   ]
  },
  {
   "cell_type": "markdown",
   "metadata": {
    "id": "VJZcv7r3iHph"
   },
   "source": [
    "Seleccionar las ventas con descuento mayor al 20%"
   ]
  },
  {
   "cell_type": "code",
   "execution_count": 33,
   "metadata": {
    "executionInfo": {
     "elapsed": 68,
     "status": "aborted",
     "timestamp": 1665713067627,
     "user": {
      "displayName": "Jeison Orlando Pinilla Alzate",
      "userId": "04405323006138165112"
     },
     "user_tz": 300
    },
    "id": "R3ETtkbbiHph"
   },
   "outputs": [
    {
     "data": {
      "text/html": [
       "<div>\n",
       "<style scoped>\n",
       "    .dataframe tbody tr th:only-of-type {\n",
       "        vertical-align: middle;\n",
       "    }\n",
       "\n",
       "    .dataframe tbody tr th {\n",
       "        vertical-align: top;\n",
       "    }\n",
       "\n",
       "    .dataframe thead th {\n",
       "        text-align: right;\n",
       "    }\n",
       "</style>\n",
       "<table border=\"1\" class=\"dataframe\">\n",
       "  <thead>\n",
       "    <tr style=\"text-align: right;\">\n",
       "      <th></th>\n",
       "      <th>Vendedor</th>\n",
       "      <th>Ventas</th>\n",
       "      <th>Descuentos</th>\n",
       "    </tr>\n",
       "  </thead>\n",
       "  <tbody>\n",
       "    <tr>\n",
       "      <th>2</th>\n",
       "      <td>Maria</td>\n",
       "      <td>5000</td>\n",
       "      <td>0.5</td>\n",
       "    </tr>\n",
       "    <tr>\n",
       "      <th>3</th>\n",
       "      <td>Jose</td>\n",
       "      <td>2000</td>\n",
       "      <td>0.6</td>\n",
       "    </tr>\n",
       "    <tr>\n",
       "      <th>4</th>\n",
       "      <td>Maria</td>\n",
       "      <td>6000</td>\n",
       "      <td>0.8</td>\n",
       "    </tr>\n",
       "    <tr>\n",
       "      <th>6</th>\n",
       "      <td>Maria</td>\n",
       "      <td>10000</td>\n",
       "      <td>0.3</td>\n",
       "    </tr>\n",
       "  </tbody>\n",
       "</table>\n",
       "</div>"
      ],
      "text/plain": [
       "  Vendedor  Ventas  Descuentos\n",
       "2    Maria    5000         0.5\n",
       "3     Jose    2000         0.6\n",
       "4    Maria    6000         0.8\n",
       "6    Maria   10000         0.3"
      ]
     },
     "execution_count": 33,
     "metadata": {},
     "output_type": "execute_result"
    }
   ],
   "source": [
    "df[(df['Descuentos'] > 0.2)]"
   ]
  },
  {
   "cell_type": "markdown",
   "metadata": {
    "id": "tSZ8A331iHph"
   },
   "source": [
    "Eliminar el registro indexado con 7"
   ]
  },
  {
   "cell_type": "code",
   "execution_count": 34,
   "metadata": {
    "executionInfo": {
     "elapsed": 68,
     "status": "aborted",
     "timestamp": 1665713067628,
     "user": {
      "displayName": "Jeison Orlando Pinilla Alzate",
      "userId": "04405323006138165112"
     },
     "user_tz": 300
    },
    "id": "nucdfwtGiHpi"
   },
   "outputs": [
    {
     "data": {
      "text/html": [
       "<div>\n",
       "<style scoped>\n",
       "    .dataframe tbody tr th:only-of-type {\n",
       "        vertical-align: middle;\n",
       "    }\n",
       "\n",
       "    .dataframe tbody tr th {\n",
       "        vertical-align: top;\n",
       "    }\n",
       "\n",
       "    .dataframe thead th {\n",
       "        text-align: right;\n",
       "    }\n",
       "</style>\n",
       "<table border=\"1\" class=\"dataframe\">\n",
       "  <thead>\n",
       "    <tr style=\"text-align: right;\">\n",
       "      <th></th>\n",
       "      <th>Vendedor</th>\n",
       "      <th>Ventas</th>\n",
       "      <th>Descuentos</th>\n",
       "    </tr>\n",
       "  </thead>\n",
       "  <tbody>\n",
       "    <tr>\n",
       "      <th>0</th>\n",
       "      <td>María</td>\n",
       "      <td>3000</td>\n",
       "      <td>0.1</td>\n",
       "    </tr>\n",
       "    <tr>\n",
       "      <th>1</th>\n",
       "      <td>Juana</td>\n",
       "      <td>4000</td>\n",
       "      <td>0.2</td>\n",
       "    </tr>\n",
       "    <tr>\n",
       "      <th>2</th>\n",
       "      <td>Maria</td>\n",
       "      <td>5000</td>\n",
       "      <td>0.5</td>\n",
       "    </tr>\n",
       "    <tr>\n",
       "      <th>3</th>\n",
       "      <td>Jose</td>\n",
       "      <td>2000</td>\n",
       "      <td>0.6</td>\n",
       "    </tr>\n",
       "    <tr>\n",
       "      <th>4</th>\n",
       "      <td>Maria</td>\n",
       "      <td>6000</td>\n",
       "      <td>0.8</td>\n",
       "    </tr>\n",
       "    <tr>\n",
       "      <th>5</th>\n",
       "      <td>Juana</td>\n",
       "      <td>7000</td>\n",
       "      <td>0.0</td>\n",
       "    </tr>\n",
       "    <tr>\n",
       "      <th>6</th>\n",
       "      <td>Maria</td>\n",
       "      <td>10000</td>\n",
       "      <td>0.3</td>\n",
       "    </tr>\n",
       "    <tr>\n",
       "      <th>7</th>\n",
       "      <td>Jose</td>\n",
       "      <td>7000</td>\n",
       "      <td>0.2</td>\n",
       "    </tr>\n",
       "    <tr>\n",
       "      <th>8</th>\n",
       "      <td>Maria</td>\n",
       "      <td>3000</td>\n",
       "      <td>0.1</td>\n",
       "    </tr>\n",
       "    <tr>\n",
       "      <th>9</th>\n",
       "      <td>Juana</td>\n",
       "      <td>6000</td>\n",
       "      <td>0.1</td>\n",
       "    </tr>\n",
       "  </tbody>\n",
       "</table>\n",
       "</div>"
      ],
      "text/plain": [
       "  Vendedor  Ventas  Descuentos\n",
       "0    María    3000         0.1\n",
       "1    Juana    4000         0.2\n",
       "2    Maria    5000         0.5\n",
       "3     Jose    2000         0.6\n",
       "4    Maria    6000         0.8\n",
       "5    Juana    7000         0.0\n",
       "6    Maria   10000         0.3\n",
       "7     Jose    7000         0.2\n",
       "8    Maria    3000         0.1\n",
       "9    Juana    6000         0.1"
      ]
     },
     "execution_count": 34,
     "metadata": {},
     "output_type": "execute_result"
    }
   ],
   "source": [
    "df"
   ]
  },
  {
   "cell_type": "code",
   "execution_count": 39,
   "metadata": {},
   "outputs": [
    {
     "data": {
      "text/html": [
       "<div>\n",
       "<style scoped>\n",
       "    .dataframe tbody tr th:only-of-type {\n",
       "        vertical-align: middle;\n",
       "    }\n",
       "\n",
       "    .dataframe tbody tr th {\n",
       "        vertical-align: top;\n",
       "    }\n",
       "\n",
       "    .dataframe thead th {\n",
       "        text-align: right;\n",
       "    }\n",
       "</style>\n",
       "<table border=\"1\" class=\"dataframe\">\n",
       "  <thead>\n",
       "    <tr style=\"text-align: right;\">\n",
       "      <th></th>\n",
       "      <th>Vendedor</th>\n",
       "      <th>Ventas</th>\n",
       "      <th>Descuentos</th>\n",
       "    </tr>\n",
       "  </thead>\n",
       "  <tbody>\n",
       "    <tr>\n",
       "      <th>0</th>\n",
       "      <td>María</td>\n",
       "      <td>3000</td>\n",
       "      <td>0.1</td>\n",
       "    </tr>\n",
       "    <tr>\n",
       "      <th>1</th>\n",
       "      <td>Juana</td>\n",
       "      <td>4000</td>\n",
       "      <td>0.2</td>\n",
       "    </tr>\n",
       "    <tr>\n",
       "      <th>2</th>\n",
       "      <td>Maria</td>\n",
       "      <td>5000</td>\n",
       "      <td>0.5</td>\n",
       "    </tr>\n",
       "    <tr>\n",
       "      <th>3</th>\n",
       "      <td>Jose</td>\n",
       "      <td>2000</td>\n",
       "      <td>0.6</td>\n",
       "    </tr>\n",
       "    <tr>\n",
       "      <th>4</th>\n",
       "      <td>Maria</td>\n",
       "      <td>6000</td>\n",
       "      <td>0.8</td>\n",
       "    </tr>\n",
       "    <tr>\n",
       "      <th>5</th>\n",
       "      <td>Juana</td>\n",
       "      <td>7000</td>\n",
       "      <td>0.0</td>\n",
       "    </tr>\n",
       "    <tr>\n",
       "      <th>6</th>\n",
       "      <td>Maria</td>\n",
       "      <td>10000</td>\n",
       "      <td>0.3</td>\n",
       "    </tr>\n",
       "    <tr>\n",
       "      <th>8</th>\n",
       "      <td>Maria</td>\n",
       "      <td>3000</td>\n",
       "      <td>0.1</td>\n",
       "    </tr>\n",
       "    <tr>\n",
       "      <th>9</th>\n",
       "      <td>Juana</td>\n",
       "      <td>6000</td>\n",
       "      <td>0.1</td>\n",
       "    </tr>\n",
       "  </tbody>\n",
       "</table>\n",
       "</div>"
      ],
      "text/plain": [
       "  Vendedor  Ventas  Descuentos\n",
       "0    María    3000         0.1\n",
       "1    Juana    4000         0.2\n",
       "2    Maria    5000         0.5\n",
       "3     Jose    2000         0.6\n",
       "4    Maria    6000         0.8\n",
       "5    Juana    7000         0.0\n",
       "6    Maria   10000         0.3\n",
       "8    Maria    3000         0.1\n",
       "9    Juana    6000         0.1"
      ]
     },
     "execution_count": 39,
     "metadata": {},
     "output_type": "execute_result"
    }
   ],
   "source": [
    "df.index\n",
    "\n",
    "df.drop(7, inplace=True)\n",
    "df"
   ]
  },
  {
   "cell_type": "markdown",
   "metadata": {
    "id": "I5FUQgpGr-6e"
   },
   "source": [
    "Eliminar la columna vendedor"
   ]
  },
  {
   "cell_type": "code",
   "execution_count": 40,
   "metadata": {
    "executionInfo": {
     "elapsed": 72,
     "status": "aborted",
     "timestamp": 1665713067632,
     "user": {
      "displayName": "Jeison Orlando Pinilla Alzate",
      "userId": "04405323006138165112"
     },
     "user_tz": 300
    },
    "id": "Ao_PWqRKiHpi"
   },
   "outputs": [
    {
     "data": {
      "text/html": [
       "<div>\n",
       "<style scoped>\n",
       "    .dataframe tbody tr th:only-of-type {\n",
       "        vertical-align: middle;\n",
       "    }\n",
       "\n",
       "    .dataframe tbody tr th {\n",
       "        vertical-align: top;\n",
       "    }\n",
       "\n",
       "    .dataframe thead th {\n",
       "        text-align: right;\n",
       "    }\n",
       "</style>\n",
       "<table border=\"1\" class=\"dataframe\">\n",
       "  <thead>\n",
       "    <tr style=\"text-align: right;\">\n",
       "      <th></th>\n",
       "      <th>Ventas</th>\n",
       "      <th>Descuentos</th>\n",
       "    </tr>\n",
       "  </thead>\n",
       "  <tbody>\n",
       "    <tr>\n",
       "      <th>0</th>\n",
       "      <td>3000</td>\n",
       "      <td>0.1</td>\n",
       "    </tr>\n",
       "    <tr>\n",
       "      <th>1</th>\n",
       "      <td>4000</td>\n",
       "      <td>0.2</td>\n",
       "    </tr>\n",
       "    <tr>\n",
       "      <th>2</th>\n",
       "      <td>5000</td>\n",
       "      <td>0.5</td>\n",
       "    </tr>\n",
       "    <tr>\n",
       "      <th>3</th>\n",
       "      <td>2000</td>\n",
       "      <td>0.6</td>\n",
       "    </tr>\n",
       "    <tr>\n",
       "      <th>4</th>\n",
       "      <td>6000</td>\n",
       "      <td>0.8</td>\n",
       "    </tr>\n",
       "    <tr>\n",
       "      <th>5</th>\n",
       "      <td>7000</td>\n",
       "      <td>0.0</td>\n",
       "    </tr>\n",
       "    <tr>\n",
       "      <th>6</th>\n",
       "      <td>10000</td>\n",
       "      <td>0.3</td>\n",
       "    </tr>\n",
       "    <tr>\n",
       "      <th>8</th>\n",
       "      <td>3000</td>\n",
       "      <td>0.1</td>\n",
       "    </tr>\n",
       "    <tr>\n",
       "      <th>9</th>\n",
       "      <td>6000</td>\n",
       "      <td>0.1</td>\n",
       "    </tr>\n",
       "  </tbody>\n",
       "</table>\n",
       "</div>"
      ],
      "text/plain": [
       "   Ventas  Descuentos\n",
       "0    3000         0.1\n",
       "1    4000         0.2\n",
       "2    5000         0.5\n",
       "3    2000         0.6\n",
       "4    6000         0.8\n",
       "5    7000         0.0\n",
       "6   10000         0.3\n",
       "8    3000         0.1\n",
       "9    6000         0.1"
      ]
     },
     "execution_count": 40,
     "metadata": {},
     "output_type": "execute_result"
    }
   ],
   "source": [
    "df = df.drop('Vendedor', axis=1)\n",
    "df"
   ]
  },
  {
   "cell_type": "markdown",
   "metadata": {
    "id": "pLUhj01FiHpc"
   },
   "source": [
    "#### Agregar datos\n",
    "\n",
    "Agregar el dato:\n",
    "\n",
    "Jose    \"8000\"  \"0.20\"    \"0.01\"    \"Nocturno\""
   ]
  },
  {
   "cell_type": "code",
   "execution_count": null,
   "metadata": {
    "executionInfo": {
     "elapsed": 72,
     "status": "aborted",
     "timestamp": 1665713067633,
     "user": {
      "displayName": "Jeison Orlando Pinilla Alzate",
      "userId": "04405323006138165112"
     },
     "user_tz": 300
    },
    "id": "3iiiELOOiHpc"
   },
   "outputs": [],
   "source": []
  },
  {
   "cell_type": "markdown",
   "metadata": {
    "id": "G_ghesy4iHpi"
   },
   "source": [
    "### Guardar y cargar un dataframe\n",
    "\n",
    "Guardar el dataframe como un archivo pickled, tenga en cuenta en ser muy cuidadoso\n"
   ]
  },
  {
   "cell_type": "code",
   "execution_count": 29,
   "metadata": {
    "executionInfo": {
     "elapsed": 72,
     "status": "aborted",
     "timestamp": 1665713067633,
     "user": {
      "displayName": "Jeison Orlando Pinilla Alzate",
      "userId": "04405323006138165112"
     },
     "user_tz": 300
    },
    "id": "YcugDe3dlrs3"
   },
   "outputs": [],
   "source": [
    "# pickled son extensiones propias de python, es mejor compartir archivos con esa extensión .plk\n",
    "\n",
    "df.to_pickle(r'C:\\Carrera de Datos\\Data Scientist\\Diplomado Python EAN\\Archivos\\data_ventas.plk')"
   ]
  },
  {
   "cell_type": "markdown",
   "metadata": {
    "id": "y_fcHJ9giHpj"
   },
   "source": [
    "Cargar el archivo pickled"
   ]
  },
  {
   "cell_type": "code",
   "execution_count": 31,
   "metadata": {
    "executionInfo": {
     "elapsed": 73,
     "status": "aborted",
     "timestamp": 1665713067635,
     "user": {
      "displayName": "Jeison Orlando Pinilla Alzate",
      "userId": "04405323006138165112"
     },
     "user_tz": 300
    },
    "id": "pv2N6unKiHpj"
   },
   "outputs": [
    {
     "data": {
      "text/html": [
       "<div>\n",
       "<style scoped>\n",
       "    .dataframe tbody tr th:only-of-type {\n",
       "        vertical-align: middle;\n",
       "    }\n",
       "\n",
       "    .dataframe tbody tr th {\n",
       "        vertical-align: top;\n",
       "    }\n",
       "\n",
       "    .dataframe thead th {\n",
       "        text-align: right;\n",
       "    }\n",
       "</style>\n",
       "<table border=\"1\" class=\"dataframe\">\n",
       "  <thead>\n",
       "    <tr style=\"text-align: right;\">\n",
       "      <th></th>\n",
       "      <th>Vendedor</th>\n",
       "      <th>Ventas</th>\n",
       "      <th>Descuentos</th>\n",
       "    </tr>\n",
       "  </thead>\n",
       "  <tbody>\n",
       "    <tr>\n",
       "      <th>0</th>\n",
       "      <td>María</td>\n",
       "      <td>3000</td>\n",
       "      <td>0.1</td>\n",
       "    </tr>\n",
       "    <tr>\n",
       "      <th>1</th>\n",
       "      <td>Juana</td>\n",
       "      <td>4000</td>\n",
       "      <td>0.2</td>\n",
       "    </tr>\n",
       "    <tr>\n",
       "      <th>2</th>\n",
       "      <td>Maria</td>\n",
       "      <td>5000</td>\n",
       "      <td>0.5</td>\n",
       "    </tr>\n",
       "    <tr>\n",
       "      <th>3</th>\n",
       "      <td>Jose</td>\n",
       "      <td>2000</td>\n",
       "      <td>0.6</td>\n",
       "    </tr>\n",
       "    <tr>\n",
       "      <th>4</th>\n",
       "      <td>Maria</td>\n",
       "      <td>6000</td>\n",
       "      <td>0.8</td>\n",
       "    </tr>\n",
       "  </tbody>\n",
       "</table>\n",
       "</div>"
      ],
      "text/plain": [
       "  Vendedor  Ventas  Descuentos\n",
       "0    María    3000         0.1\n",
       "1    Juana    4000         0.2\n",
       "2    Maria    5000         0.5\n",
       "3     Jose    2000         0.6\n",
       "4    Maria    6000         0.8"
      ]
     },
     "execution_count": 31,
     "metadata": {},
     "output_type": "execute_result"
    }
   ],
   "source": [
    "df_copia = pd.read_pickle(r'C:\\Carrera de Datos\\Data Scientist\\Diplomado Python EAN\\Archivos\\data_ventas_copia_para_leer.plk')\n",
    "df_copia.head(5)"
   ]
  },
  {
   "cell_type": "markdown",
   "metadata": {
    "id": "1gqKnPCiiHpj"
   },
   "source": [
    "### Exportar archivos"
   ]
  },
  {
   "cell_type": "code",
   "execution_count": 32,
   "metadata": {
    "executionInfo": {
     "elapsed": 74,
     "status": "aborted",
     "timestamp": 1665713067636,
     "user": {
      "displayName": "Jeison Orlando Pinilla Alzate",
      "userId": "04405323006138165112"
     },
     "user_tz": 300
    },
    "id": "gb_klWTTiHpk"
   },
   "outputs": [],
   "source": [
    "# Exportar a otro tipo de archivos\n",
    "df.to_excel(r'C:\\Carrera de Datos\\Data Scientist\\Diplomado Python EAN\\Archivos\\ventas_excel.xlsx')"
   ]
  },
  {
   "cell_type": "markdown",
   "metadata": {
    "id": "zhr1MmB9J1eT"
   },
   "source": []
  },
  {
   "cell_type": "markdown",
   "metadata": {
    "id": "ch7pyc3ciHpk"
   },
   "source": [
    "### Importar archivos"
   ]
  },
  {
   "cell_type": "code",
   "execution_count": null,
   "metadata": {
    "executionInfo": {
     "elapsed": 74,
     "status": "aborted",
     "timestamp": 1665713067637,
     "user": {
      "displayName": "Jeison Orlando Pinilla Alzate",
      "userId": "04405323006138165112"
     },
     "user_tz": 300
    },
    "id": "GwOP7dgCiHpk"
   },
   "outputs": [],
   "source": [
    "#pd.read_csv(\"G:\\Mi unidad\\EAN_Documentos\\Python Agosto\\Ventas.csv\",sep=\"\\t\")\n",
    "#datos=pd.read_excel(\"G:\\Mi unidad\\EAN_Documentos\\Python Agosto\\VentasXls.xlsx\", sheetname='VentasXls')\n",
    "#datos"
   ]
  },
  {
   "cell_type": "markdown",
   "metadata": {
    "id": "5ZRVZrvTKqZb"
   },
   "source": []
  },
  {
   "cell_type": "markdown",
   "metadata": {
    "id": "rVxlcy29iHpk"
   },
   "source": [
    "## Taller\n",
    "\n",
    "Cree un dataframe con el nombre df1 con los siguientes datos:\n",
    "\n",
    "Jose     \"6000\"  \"0.20\"    \"0.01\"    \"Nocturno\"\\\n",
    "Maria    \"6500\"  \"0.10\"    \"0.02\"    \"Diurno\"\\\n",
    "Juana    \"4000\"  \"0.30\"    \"0.03\"    \"Diurno\"\\\n",
    "Jose     \"2000\"  \"0.10\"    \"0.02\"    \"Diurno\"\\\n",
    "Juana    \"1500\"  \"0.30\"    \"0.03\"    \"Diurno\"\n",
    "\n",
    "Una estos datos al anterior dataframe utilizando el comando\n",
    "\n",
    "df.append(df1, ignore_index = True)"
   ]
  },
  {
   "cell_type": "markdown",
   "metadata": {
    "id": "N2MdEEgi2OfL"
   },
   "source": [
    "Creación elementos del Dataframe"
   ]
  },
  {
   "cell_type": "code",
   "execution_count": null,
   "metadata": {
    "executionInfo": {
     "elapsed": 75,
     "status": "aborted",
     "timestamp": 1665713067638,
     "user": {
      "displayName": "Jeison Orlando Pinilla Alzate",
      "userId": "04405323006138165112"
     },
     "user_tz": 300
    },
    "id": "5-BOHbYGkuWD"
   },
   "outputs": [],
   "source": [
    "jose1=['Jose',6000,0.20,0.01,'Nocturno']\n",
    "maria=['María',6500,0.10,0.02,'Diurno']\n",
    "juana=['Juana',4000,0.30,0.03,\"Diurno\"]\n",
    "jose=['Jose',2000,0.10,0.02,\"Diurno\"]\n",
    "juana1=['juana',1500,0.30,0.03,\"Diurno\"]"
   ]
  },
  {
   "cell_type": "markdown",
   "metadata": {
    "id": "NFmIEBqf2Wa-"
   },
   "source": [
    "Creación del DataFrame"
   ]
  },
  {
   "cell_type": "code",
   "execution_count": null,
   "metadata": {
    "executionInfo": {
     "elapsed": 76,
     "status": "aborted",
     "timestamp": 1665713067639,
     "user": {
      "displayName": "Jeison Orlando Pinilla Alzate",
      "userId": "04405323006138165112"
     },
     "user_tz": 300
    },
    "id": "O75cuYXzmMjc"
   },
   "outputs": [],
   "source": []
  },
  {
   "cell_type": "markdown",
   "metadata": {
    "id": "jE1Dx1Wy5YG-"
   },
   "source": [
    "Transponer el DataFrame"
   ]
  },
  {
   "cell_type": "code",
   "execution_count": null,
   "metadata": {
    "executionInfo": {
     "elapsed": 76,
     "status": "aborted",
     "timestamp": 1665713067640,
     "user": {
      "displayName": "Jeison Orlando Pinilla Alzate",
      "userId": "04405323006138165112"
     },
     "user_tz": 300
    },
    "id": "lQhktLUQ5chs"
   },
   "outputs": [],
   "source": []
  },
  {
   "cell_type": "markdown",
   "metadata": {
    "id": "elmrEIPI2djD"
   },
   "source": [
    "Renombrar elementos del Dataframe"
   ]
  },
  {
   "cell_type": "code",
   "execution_count": null,
   "metadata": {
    "executionInfo": {
     "elapsed": 77,
     "status": "aborted",
     "timestamp": 1665713067641,
     "user": {
      "displayName": "Jeison Orlando Pinilla Alzate",
      "userId": "04405323006138165112"
     },
     "user_tz": 300
    },
    "id": "OTL9TMHuoILG"
   },
   "outputs": [],
   "source": []
  },
  {
   "cell_type": "markdown",
   "metadata": {
    "id": "IZ8ZBg8d3FQB"
   },
   "source": [
    "Renombrar índices"
   ]
  },
  {
   "cell_type": "code",
   "execution_count": null,
   "metadata": {
    "executionInfo": {
     "elapsed": 78,
     "status": "aborted",
     "timestamp": 1665713067642,
     "user": {
      "displayName": "Jeison Orlando Pinilla Alzate",
      "userId": "04405323006138165112"
     },
     "user_tz": 300
    },
    "id": "Ao9oY7J3o0cv"
   },
   "outputs": [],
   "source": []
  },
  {
   "cell_type": "markdown",
   "metadata": {
    "id": "P7R7nnu83Rbr"
   },
   "source": [
    "Unión de lo DataFrames"
   ]
  },
  {
   "cell_type": "code",
   "execution_count": null,
   "metadata": {
    "executionInfo": {
     "elapsed": 79,
     "status": "aborted",
     "timestamp": 1665713067643,
     "user": {
      "displayName": "Jeison Orlando Pinilla Alzate",
      "userId": "04405323006138165112"
     },
     "user_tz": 300
    },
    "id": "a3sr2zXdq4gw"
   },
   "outputs": [],
   "source": []
  },
  {
   "cell_type": "markdown",
   "metadata": {
    "id": "Xhao1RM6iHpl"
   },
   "source": [
    "## Cálculo de las principales medidas estadísticas\n",
    "\n",
    "### Variables numéricas\n",
    "\n",
    "Medidas de tendencia central: Media.\n",
    "\n",
    "Medidas de dispersión: Desviación estándar\n",
    "Medidas de posición: cuartiles"
   ]
  },
  {
   "cell_type": "markdown",
   "metadata": {
    "id": "6b_55_K-3mw_"
   },
   "source": [
    "Análisis de todas las variables cuantitativas"
   ]
  },
  {
   "cell_type": "code",
   "execution_count": null,
   "metadata": {
    "executionInfo": {
     "elapsed": 79,
     "status": "aborted",
     "timestamp": 1665713067644,
     "user": {
      "displayName": "Jeison Orlando Pinilla Alzate",
      "userId": "04405323006138165112"
     },
     "user_tz": 300
    },
    "id": "CSeF8SlziHpl"
   },
   "outputs": [],
   "source": []
  },
  {
   "cell_type": "markdown",
   "metadata": {
    "id": "UgPyTbxT3wuh"
   },
   "source": [
    "De algunas variables"
   ]
  },
  {
   "cell_type": "code",
   "execution_count": null,
   "metadata": {
    "executionInfo": {
     "elapsed": 80,
     "status": "aborted",
     "timestamp": 1665713067645,
     "user": {
      "displayName": "Jeison Orlando Pinilla Alzate",
      "userId": "04405323006138165112"
     },
     "user_tz": 300
    },
    "id": "zQpjcJl2uL1o"
   },
   "outputs": [],
   "source": []
  },
  {
   "cell_type": "markdown",
   "metadata": {
    "id": "VjYpiUBG35S2"
   },
   "source": [
    "Medidas individuales"
   ]
  },
  {
   "cell_type": "code",
   "execution_count": null,
   "metadata": {
    "executionInfo": {
     "elapsed": 81,
     "status": "aborted",
     "timestamp": 1665713067646,
     "user": {
      "displayName": "Jeison Orlando Pinilla Alzate",
      "userId": "04405323006138165112"
     },
     "user_tz": 300
    },
    "id": "VVVMV30Ht1sl"
   },
   "outputs": [],
   "source": []
  },
  {
   "cell_type": "markdown",
   "metadata": {
    "id": "hGGGJhQmiHpm"
   },
   "source": [
    "Obtención de medidas por agrupación"
   ]
  },
  {
   "cell_type": "code",
   "execution_count": null,
   "metadata": {
    "executionInfo": {
     "elapsed": 82,
     "status": "aborted",
     "timestamp": 1665713067647,
     "user": {
      "displayName": "Jeison Orlando Pinilla Alzate",
      "userId": "04405323006138165112"
     },
     "user_tz": 300
    },
    "id": "4EH-JMUYiHpm"
   },
   "outputs": [],
   "source": []
  },
  {
   "cell_type": "markdown",
   "metadata": {
    "id": "HPNCI9yRiHpn"
   },
   "source": [
    "Obtención de medidas por agrupación de varias variables."
   ]
  },
  {
   "cell_type": "code",
   "execution_count": null,
   "metadata": {
    "executionInfo": {
     "elapsed": 82,
     "status": "aborted",
     "timestamp": 1665713067648,
     "user": {
      "displayName": "Jeison Orlando Pinilla Alzate",
      "userId": "04405323006138165112"
     },
     "user_tz": 300
    },
    "id": "eMmQQf-kiHpn"
   },
   "outputs": [],
   "source": [
    "##Calculo de la desviación estándar"
   ]
  },
  {
   "cell_type": "markdown",
   "metadata": {
    "id": "FhFGRzegiHpn"
   },
   "source": [
    "Cálculo de dos medidas estadísticas"
   ]
  },
  {
   "cell_type": "code",
   "execution_count": null,
   "metadata": {
    "executionInfo": {
     "elapsed": 83,
     "status": "aborted",
     "timestamp": 1665713067649,
     "user": {
      "displayName": "Jeison Orlando Pinilla Alzate",
      "userId": "04405323006138165112"
     },
     "user_tz": 300
    },
    "id": "MkBnmOtuiHpn"
   },
   "outputs": [],
   "source": []
  },
  {
   "cell_type": "markdown",
   "metadata": {
    "id": "cQu95j9XiHpo"
   },
   "source": [
    "### Variables cualitativas\n",
    "\n",
    "El commando describe presenta la cantidad de datos de la variable, la cantidad de valores distintos, la moda y la frecuencia."
   ]
  },
  {
   "cell_type": "code",
   "execution_count": null,
   "metadata": {
    "executionInfo": {
     "elapsed": 83,
     "status": "aborted",
     "timestamp": 1665713067650,
     "user": {
      "displayName": "Jeison Orlando Pinilla Alzate",
      "userId": "04405323006138165112"
     },
     "user_tz": 300
    },
    "id": "gm8OmaNAiHpo"
   },
   "outputs": [],
   "source": []
  },
  {
   "cell_type": "markdown",
   "metadata": {
    "id": "0E618A0yiHpp"
   },
   "source": [
    "### Frecuencias absolutas\n",
    "\n",
    "Cantidad de individuos que poseen la característica."
   ]
  },
  {
   "cell_type": "code",
   "execution_count": null,
   "metadata": {
    "executionInfo": {
     "elapsed": 83,
     "status": "aborted",
     "timestamp": 1665713067650,
     "user": {
      "displayName": "Jeison Orlando Pinilla Alzate",
      "userId": "04405323006138165112"
     },
     "user_tz": 300
    },
    "id": "M-CFWC7IiHpp"
   },
   "outputs": [],
   "source": []
  },
  {
   "cell_type": "markdown",
   "metadata": {
    "id": "ngVm6iZViHpp"
   },
   "source": [
    "### Frecuencias relativas\n",
    "\n",
    "Porcentaje de individuos que poseen la característica"
   ]
  },
  {
   "cell_type": "code",
   "execution_count": null,
   "metadata": {
    "executionInfo": {
     "elapsed": 83,
     "status": "aborted",
     "timestamp": 1665713067651,
     "user": {
      "displayName": "Jeison Orlando Pinilla Alzate",
      "userId": "04405323006138165112"
     },
     "user_tz": 300
    },
    "id": "0CGGhFuriHpp"
   },
   "outputs": [],
   "source": []
  },
  {
   "cell_type": "markdown",
   "metadata": {
    "id": "9lb79u59iHpp"
   },
   "source": [
    "### Tablas de Contingencia\n",
    "\n",
    "#### Frecuencias absolutas\n",
    "\n",
    "Cantidad de individuos que toman valores en dos variables \n",
    "distintas."
   ]
  },
  {
   "cell_type": "code",
   "execution_count": null,
   "metadata": {
    "executionInfo": {
     "elapsed": 82,
     "status": "aborted",
     "timestamp": 1665713067651,
     "user": {
      "displayName": "Jeison Orlando Pinilla Alzate",
      "userId": "04405323006138165112"
     },
     "user_tz": 300
    },
    "id": "t7vWARQMiHpp"
   },
   "outputs": [],
   "source": []
  },
  {
   "cell_type": "markdown",
   "metadata": {
    "id": "jneD2LiWiHpq"
   },
   "source": [
    "#### Frecuencias relativas\n",
    "\n",
    "Porcentaje de individuos que toman valores en dos variables distintas."
   ]
  },
  {
   "cell_type": "code",
   "execution_count": null,
   "metadata": {
    "executionInfo": {
     "elapsed": 83,
     "status": "aborted",
     "timestamp": 1665713067652,
     "user": {
      "displayName": "Jeison Orlando Pinilla Alzate",
      "userId": "04405323006138165112"
     },
     "user_tz": 300
    },
    "id": "wOw_EsXEiHpq"
   },
   "outputs": [],
   "source": []
  },
  {
   "cell_type": "markdown",
   "metadata": {
    "id": "fSuh3EVuiHpq"
   },
   "source": [
    "#### Frecuencias relativas por vendedor\n",
    "\n",
    "Porcentaje de veces que un vendedor estuvo en determinado horario."
   ]
  },
  {
   "cell_type": "code",
   "execution_count": null,
   "metadata": {
    "executionInfo": {
     "elapsed": 82,
     "status": "aborted",
     "timestamp": 1665713067652,
     "user": {
      "displayName": "Jeison Orlando Pinilla Alzate",
      "userId": "04405323006138165112"
     },
     "user_tz": 300
    },
    "id": "eD0jrgOeiHpq"
   },
   "outputs": [],
   "source": []
  },
  {
   "cell_type": "markdown",
   "metadata": {
    "id": "udPjpW_oiHpq"
   },
   "source": [
    "#### Frecuencias relativas por horario\n",
    "\n",
    "Porcentaje de veces que en un horario estuvo un vendedor."
   ]
  },
  {
   "cell_type": "code",
   "execution_count": null,
   "metadata": {
    "executionInfo": {
     "elapsed": 83,
     "status": "aborted",
     "timestamp": 1665713067653,
     "user": {
      "displayName": "Jeison Orlando Pinilla Alzate",
      "userId": "04405323006138165112"
     },
     "user_tz": 300
    },
    "id": "6TKyXONpiHpq"
   },
   "outputs": [],
   "source": []
  }
 ],
 "metadata": {
  "colab": {
   "collapsed_sections": [],
   "provenance": []
  },
  "kernelspec": {
   "display_name": "Python 3 (ipykernel)",
   "language": "python",
   "name": "python3"
  },
  "language_info": {
   "codemirror_mode": {
    "name": "ipython",
    "version": 3
   },
   "file_extension": ".py",
   "mimetype": "text/x-python",
   "name": "python",
   "nbconvert_exporter": "python",
   "pygments_lexer": "ipython3",
   "version": "3.11.0"
  }
 },
 "nbformat": 4,
 "nbformat_minor": 1
}
