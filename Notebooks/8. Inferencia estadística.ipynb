{
 "cells": [
  {
   "cell_type": "markdown",
   "id": "15dd6ef9",
   "metadata": {
    "id": "15dd6ef9"
   },
   "source": [
    "# Modulo 5: Inferencia estadística y modelo de regresión lineal"
   ]
  },
  {
   "cell_type": "code",
   "execution_count": null,
   "id": "d5167bdb",
   "metadata": {
    "id": "d5167bdb"
   },
   "outputs": [],
   "source": [
    "import pandas as pd\n",
    "import numpy as np\n",
    "import matplotlib.pyplot as plt\n",
    "import seaborn as sns"
   ]
  },
  {
   "cell_type": "markdown",
   "id": "a360a3d9",
   "metadata": {
    "id": "a360a3d9"
   },
   "source": [
    "# Preparación de la data"
   ]
  },
  {
   "cell_type": "code",
   "execution_count": null,
   "id": "6c8037f4",
   "metadata": {
    "colab": {
     "base_uri": "https://localhost:8080/",
     "height": 337
    },
    "executionInfo": {
     "elapsed": 14083,
     "status": "ok",
     "timestamp": 1657064370386,
     "user": {
      "displayName": "Jeison Orlando Pinilla Alzate",
      "userId": "04405323006138165112"
     },
     "user_tz": 300
    },
    "id": "6c8037f4",
    "outputId": "c57fb581-42a2-45f0-f7c0-185ffee452c0"
   },
   "outputs": [],
   "source": [
    "df_data = pd.read_excel(r'C:\\Carrera de Datos\\Data Scientist\\Diplomado Python EAN\\Archivos\\final_df.xlsx')"
   ]
  },
  {
   "cell_type": "code",
   "execution_count": null,
   "id": "4c673cc6",
   "metadata": {},
   "outputs": [],
   "source": [
    "df_data.describe()"
   ]
  },
  {
   "cell_type": "code",
   "execution_count": null,
   "id": "306bd93c",
   "metadata": {
    "colab": {
     "base_uri": "https://localhost:8080/"
    },
    "executionInfo": {
     "elapsed": 201,
     "status": "ok",
     "timestamp": 1657064392121,
     "user": {
      "displayName": "Jeison Orlando Pinilla Alzate",
      "userId": "04405323006138165112"
     },
     "user_tz": 300
    },
    "id": "306bd93c",
    "outputId": "b32a6a81-623e-45d0-ac0b-3f28e9332ef2"
   },
   "outputs": [],
   "source": [
    "df_data.columns"
   ]
  },
  {
   "cell_type": "code",
   "execution_count": null,
   "id": "qh57NBFc1pwd",
   "metadata": {
    "id": "qh57NBFc1pwd"
   },
   "outputs": [],
   "source": [
    "df_data=df_data.rename(columns={'Nivel_Educativo':'Nivel Educativo','tipo_vivienda':'Tipo Vivienda'})"
   ]
  },
  {
   "cell_type": "code",
   "execution_count": null,
   "id": "OqcOZvl1M6UO",
   "metadata": {
    "colab": {
     "base_uri": "https://localhost:8080/"
    },
    "executionInfo": {
     "elapsed": 189,
     "status": "ok",
     "timestamp": 1657064401359,
     "user": {
      "displayName": "Jeison Orlando Pinilla Alzate",
      "userId": "04405323006138165112"
     },
     "user_tz": 300
    },
    "id": "OqcOZvl1M6UO",
    "outputId": "b72d5eac-395f-47c4-ebfd-b5320944d95e"
   },
   "outputs": [],
   "source": [
    "df_data.columns"
   ]
  },
  {
   "cell_type": "code",
   "execution_count": null,
   "id": "84e21386",
   "metadata": {},
   "outputs": [],
   "source": [
    "df_data.shape"
   ]
  },
  {
   "cell_type": "markdown",
   "id": "98e3dde1",
   "metadata": {
    "id": "98e3dde1"
   },
   "source": [
    "# Modelo de regresión lineal simple"
   ]
  },
  {
   "cell_type": "markdown",
   "id": "8f0051ae",
   "metadata": {
    "id": "8f0051ae"
   },
   "source": [
    "Vamos a estimar un modelo en donde se analice la distribución de la variable Ingreso en función del Nivel educativo"
   ]
  },
  {
   "cell_type": "code",
   "execution_count": null,
   "id": "60242f37",
   "metadata": {
    "colab": {
     "base_uri": "https://localhost:8080/"
    },
    "executionInfo": {
     "elapsed": 1283,
     "status": "ok",
     "timestamp": 1657064423576,
     "user": {
      "displayName": "Jeison Orlando Pinilla Alzate",
      "userId": "04405323006138165112"
     },
     "user_tz": 300
    },
    "id": "60242f37",
    "outputId": "856f936a-6af2-480a-d748-eb95ccb5640b"
   },
   "outputs": [],
   "source": [
    "import statsmodels.api as sm"
   ]
  },
  {
   "cell_type": "code",
   "execution_count": null,
   "id": "5d9997ac",
   "metadata": {
    "colab": {
     "base_uri": "https://localhost:8080/",
     "height": 293
    },
    "executionInfo": {
     "elapsed": 1080,
     "status": "ok",
     "timestamp": 1657064506596,
     "user": {
      "displayName": "Jeison Orlando Pinilla Alzate",
      "userId": "04405323006138165112"
     },
     "user_tz": 300
    },
    "id": "5d9997ac",
    "outputId": "94485d08-c48e-415c-f854-5ef95aa9d11a"
   },
   "outputs": [],
   "source": [
    "f, axs = plt.subplots(1, 3)\n",
    "sns.boxplot(data=df_data[\"Ingresos\"], ax=axs[0])\n",
    "\n",
    "sns.boxplot(data=df_data[\"Nivel Educativo\"], ax=axs[1])\n",
    "\n",
    "sns.boxplot(data=df_data[\"Bienes\"])"
   ]
  },
  {
   "cell_type": "code",
   "execution_count": null,
   "id": "1188f990",
   "metadata": {
    "id": "1188f990"
   },
   "outputs": [],
   "source": [
    "q1 = df_data.Ingresos.quantile(0.25)\n",
    "q3 = df_data.Ingresos.quantile(0.75)\n",
    "RIQ = q3-q1"
   ]
  },
  {
   "cell_type": "code",
   "execution_count": null,
   "id": "xdIbCIZizz5E",
   "metadata": {
    "colab": {
     "base_uri": "https://localhost:8080/",
     "height": 293
    },
    "executionInfo": {
     "elapsed": 513,
     "status": "ok",
     "timestamp": 1657064534704,
     "user": {
      "displayName": "Jeison Orlando Pinilla Alzate",
      "userId": "04405323006138165112"
     },
     "user_tz": 300
    },
    "id": "xdIbCIZizz5E",
    "outputId": "26514f43-ff4b-475b-c528-62e1ba107a67"
   },
   "outputs": [],
   "source": [
    "#f, axs = plt.subplots(1, 2)\n",
    "sns.boxplot(data=df_data[\"Ingresos\"])\n",
    "plt.axhline(min(df_data.Ingresos), color='g')\n",
    "plt.axhline(q3+1.5*RIQ, color='b')\n",
    "plt.axhline(q3+3*RIQ, color='r')\n",
    "sns.boxplot(data=df_data[\"Nivel Educativo\"])"
   ]
  },
  {
   "cell_type": "markdown",
   "id": "e6f5b31d",
   "metadata": {
    "id": "e6f5b31d"
   },
   "source": [
    "###  Gráfico dinámico"
   ]
  },
  {
   "cell_type": "code",
   "execution_count": null,
   "id": "65317dc5",
   "metadata": {
    "id": "65317dc5"
   },
   "outputs": [],
   "source": [
    "def plot_function(x_mill = 9000000,y=50000, bins = 10, color='red'):\n",
    "    binwidth = (max(df_data.Ingresos) - min(df_data.Ingresos))/ bins\n",
    "    plt.hist(df_data.Ingresos, \n",
    "             bins=np.arange(min(df_data.Ingresos), max(df_data.Ingresos) + binwidth, binwidth),\n",
    "             color=color)\n",
    "    plt.xlim(0,x_mill)\n",
    "    plt.ylim(0,y)\n",
    "    plt.show()"
   ]
  },
  {
   "cell_type": "code",
   "execution_count": null,
   "id": "d84b1fa3",
   "metadata": {
    "colab": {
     "base_uri": "https://localhost:8080/",
     "height": 410,
     "referenced_widgets": [
      "25c972c9ab8f41378086c9f558e4bf4c",
      "286e1885a3b14d01a41ead3b2c08c3df",
      "fb3933a1f267488f99740d2f264fe28e",
      "ed30a09c4ffe4e6985325095dad090e9",
      "dda26081b0184b5682a1805d6e29b62b",
      "12898fc46c3d467a8635096146860d0d",
      "1e4d083d4ea149d386a89c18a91d3f94",
      "4952d5ecd0cc47f6902a51c7add75762",
      "62b86e73245d40b4ac27c10fad03ec21",
      "370ca8dd13cf4654951b2da23dab99d3",
      "217b82e4facc4177a1e7d6412a7cc032",
      "5fd3588ca7464e07a193aa8be4c76757",
      "1f94adcafcec49ecaf97f4e4cdd7070f",
      "c82627b0ba3e4218a17286a574e74852",
      "c38389c26f84428f9577aa02a71e1c1b",
      "2041a3189b9b4586b5832caf6f389aa1"
     ]
    },
    "executionInfo": {
     "elapsed": 469,
     "status": "ok",
     "timestamp": 1657064544829,
     "user": {
      "displayName": "Jeison Orlando Pinilla Alzate",
      "userId": "04405323006138165112"
     },
     "user_tz": 300
    },
    "id": "d84b1fa3",
    "outputId": "fcdb0c29-2ddd-4800-cb3a-204c75b6e1fa"
   },
   "outputs": [],
   "source": [
    "from ipywidgets import interact \n",
    "interact(plot_function,\n",
    "         x_mill = (0, 9000000, 100000),\n",
    "         y = (0, 50000, 1000),\n",
    "         bins = (1, 1000, 1),\n",
    "         color=['red', 'yellow', 'blue','gray','green','white','black'])\n",
    "None"
   ]
  },
  {
   "cell_type": "markdown",
   "id": "f5b8bb29",
   "metadata": {
    "id": "f5b8bb29"
   },
   "source": [
    "### Selección de una muestra para correr el modelo\n",
    "\n",
    "Inicialmente vamos a correr el modelo con datos que se encuentren dentro del recorrido intercuantil y además vamos a tomar sólo una muestra al azar de 100 de ellos para ver mejor las gráficas."
   ]
  },
  {
   "cell_type": "code",
   "execution_count": null,
   "id": "C8HZZfFFP6hL",
   "metadata": {
    "colab": {
     "base_uri": "https://localhost:8080/",
     "height": 285
    },
    "executionInfo": {
     "elapsed": 171,
     "status": "ok",
     "timestamp": 1657064558807,
     "user": {
      "displayName": "Jeison Orlando Pinilla Alzate",
      "userId": "04405323006138165112"
     },
     "user_tz": 300
    },
    "id": "C8HZZfFFP6hL",
    "outputId": "134d69fb-a115-4c34-8e71-b5b42e06a112"
   },
   "outputs": [],
   "source": [
    "df_data.head()"
   ]
  },
  {
   "cell_type": "code",
   "execution_count": null,
   "id": "2e9b404b",
   "metadata": {
    "colab": {
     "base_uri": "https://localhost:8080/",
     "height": 329
    },
    "executionInfo": {
     "elapsed": 240,
     "status": "ok",
     "timestamp": 1656639520578,
     "user": {
      "displayName": "Jeison Orlando Pinilla Alzate",
      "userId": "04405323006138165112"
     },
     "user_tz": 300
    },
    "id": "2e9b404b",
    "outputId": "b2074d3d-8630-458d-d7e9-6e5c10fe6079"
   },
   "outputs": [],
   "source": [
    "#from numpy.core.fromnumeric import repeat\n",
    "#indices = df_data[(df_data.Ingresos<q3) & (df_data.Ingresos>q1)].index\n",
    "#display(indices)\n",
    "#muestra=np.random.choice(indices,100,replace=False)\n",
    "#display(muestra)\n",
    "#df_data=df_data.loc[muestra]"
   ]
  },
  {
   "cell_type": "markdown",
   "id": "8e97eff2",
   "metadata": {
    "id": "8e97eff2"
   },
   "source": [
    "#### Eliminación de datos atípicos anormales"
   ]
  },
  {
   "cell_type": "code",
   "execution_count": null,
   "id": "f038e65d",
   "metadata": {
    "colab": {
     "base_uri": "https://localhost:8080/"
    },
    "executionInfo": {
     "elapsed": 170,
     "status": "ok",
     "timestamp": 1657064644318,
     "user": {
      "displayName": "Jeison Orlando Pinilla Alzate",
      "userId": "04405323006138165112"
     },
     "user_tz": 300
    },
    "id": "f038e65d",
    "outputId": "3af56c72-634f-4c58-d5a1-58229b77d9d5"
   },
   "outputs": [],
   "source": [
    "df_data = df_data[df_data.Ingresos<q3+1.5*RIQ]\n",
    "df_data.shape"
   ]
  },
  {
   "cell_type": "markdown",
   "id": "ce76e4d0",
   "metadata": {
    "id": "ce76e4d0"
   },
   "source": [
    "## Diagrama de dispersión de Ingresos y Nivel educativo"
   ]
  },
  {
   "cell_type": "code",
   "execution_count": null,
   "id": "9c664dd8",
   "metadata": {},
   "outputs": [],
   "source": [
    "fig, ax = plt.subplots(figsize=(10, 5))\n",
    "\n",
    "df_data.plot(\n",
    "    x    = 'Bienes',\n",
    "    y    = 'Ingresos',\n",
    "    c    = 'yellow',\n",
    "    kind = \"scatter\",\n",
    "    ax   = ax\n",
    ")\n",
    "ax.set_title('Ingresos vs Bienes');"
   ]
  },
  {
   "cell_type": "code",
   "execution_count": null,
   "id": "e048b48e",
   "metadata": {
    "colab": {
     "base_uri": "https://localhost:8080/",
     "height": 350
    },
    "executionInfo": {
     "elapsed": 939,
     "status": "ok",
     "timestamp": 1657064667994,
     "user": {
      "displayName": "Jeison Orlando Pinilla Alzate",
      "userId": "04405323006138165112"
     },
     "user_tz": 300
    },
    "id": "e048b48e",
    "outputId": "5d9f4113-03a6-4ae8-9c3d-5c7584debda0"
   },
   "outputs": [],
   "source": [
    "fig, ax = plt.subplots(figsize=(10, 5))\n",
    "\n",
    "df_data.plot(\n",
    "    x    = 'Nivel Educativo',\n",
    "    y    = 'Ingresos',\n",
    "    c    = 'green',\n",
    "    kind = \"scatter\",\n",
    "    ax   = ax\n",
    ")\n",
    "ax.set_title('Ingresos vs NIvel educativo');"
   ]
  },
  {
   "cell_type": "markdown",
   "id": "c13761e8",
   "metadata": {
    "id": "c13761e8"
   },
   "source": [
    "## Correlación lineal entre las variables"
   ]
  },
  {
   "cell_type": "code",
   "execution_count": null,
   "id": "22b05fd5",
   "metadata": {
    "colab": {
     "base_uri": "https://localhost:8080/"
    },
    "executionInfo": {
     "elapsed": 207,
     "status": "ok",
     "timestamp": 1657064791997,
     "user": {
      "displayName": "Jeison Orlando Pinilla Alzate",
      "userId": "04405323006138165112"
     },
     "user_tz": 300
    },
    "id": "22b05fd5",
    "outputId": "dc00a9d3-e05a-47c2-d890-9f96c50e23fa"
   },
   "outputs": [],
   "source": [
    "from scipy.stats import pearsonr\n",
    "corr_test = pearsonr(x = df_data['Nivel Educativo'], y =  df_data['Ingresos'])\n",
    "print(\"Coeficiente de correlación de Pearson: \", corr_test[0])\n",
    "print(\"P-value: \", corr_test[1])"
   ]
  },
  {
   "cell_type": "code",
   "execution_count": null,
   "id": "d44d7773",
   "metadata": {},
   "outputs": [],
   "source": [
    "from scipy.stats import pearsonr\n",
    "corr_test = pearsonr(x = df_data['Bienes'], y =  df_data['Ingresos'])\n",
    "print(\"Coeficiente de correlación de Pearson: \", corr_test[0])\n",
    "print(\"P-value: \", corr_test[1])"
   ]
  },
  {
   "cell_type": "markdown",
   "id": "e72a22f9",
   "metadata": {
    "id": "e72a22f9"
   },
   "source": [
    "## Estimación del modelo"
   ]
  },
  {
   "cell_type": "markdown",
   "id": "87cd14bc",
   "metadata": {
    "id": "87cd14bc"
   },
   "source": [
    "Selección de variables independientes"
   ]
  },
  {
   "cell_type": "code",
   "execution_count": null,
   "id": "aa794b3f",
   "metadata": {
    "colab": {
     "base_uri": "https://localhost:8080/",
     "height": 363
    },
    "executionInfo": {
     "elapsed": 10,
     "status": "ok",
     "timestamp": 1656639532033,
     "user": {
      "displayName": "Jeison Orlando Pinilla Alzate",
      "userId": "04405323006138165112"
     },
     "user_tz": 300
    },
    "id": "aa794b3f",
    "outputId": "3663c2be-e362-4862-b161-0920aba9835e"
   },
   "outputs": [],
   "source": [
    "inde=['Nivel Educativo','Bienes']\n",
    "X=df_data[inde]\n",
    "X.head(10)"
   ]
  },
  {
   "cell_type": "markdown",
   "id": "ca724cd8",
   "metadata": {},
   "source": [
    "Agregar la constante"
   ]
  },
  {
   "cell_type": "code",
   "execution_count": null,
   "id": "bedbf6b9",
   "metadata": {},
   "outputs": [],
   "source": [
    "X= sm.add_constant(X)"
   ]
  },
  {
   "cell_type": "code",
   "execution_count": null,
   "id": "5981cbfe",
   "metadata": {},
   "outputs": [],
   "source": [
    "X"
   ]
  },
  {
   "cell_type": "markdown",
   "id": "ede7dbc4",
   "metadata": {
    "id": "ede7dbc4"
   },
   "source": [
    "Selección de variable dependiente"
   ]
  },
  {
   "cell_type": "code",
   "execution_count": null,
   "id": "189e9b7a",
   "metadata": {
    "colab": {
     "base_uri": "https://localhost:8080/"
    },
    "executionInfo": {
     "elapsed": 213,
     "status": "ok",
     "timestamp": 1656639591255,
     "user": {
      "displayName": "Jeison Orlando Pinilla Alzate",
      "userId": "04405323006138165112"
     },
     "user_tz": 300
    },
    "id": "189e9b7a",
    "outputId": "5dc67486-a315-4383-af8b-184560284f69"
   },
   "outputs": [],
   "source": [
    "y=df_data['Ingresos']\n",
    "y"
   ]
  },
  {
   "cell_type": "markdown",
   "id": "016e2ad4",
   "metadata": {
    "id": "016e2ad4"
   },
   "source": [
    "Separación de registros de entrenamiento y prueba"
   ]
  },
  {
   "cell_type": "code",
   "execution_count": null,
   "id": "324326a8",
   "metadata": {
    "id": "324326a8"
   },
   "outputs": [],
   "source": [
    "from sklearn.model_selection import train_test_split\n",
    "X_train, X_test, y_train, y_test = train_test_split(X, y, test_size = 0.3, random_state = 100)"
   ]
  },
  {
   "cell_type": "code",
   "execution_count": null,
   "id": "ySWfNAyfbJvO",
   "metadata": {
    "colab": {
     "base_uri": "https://localhost:8080/",
     "height": 311
    },
    "executionInfo": {
     "elapsed": 212,
     "status": "ok",
     "timestamp": 1656639820184,
     "user": {
      "displayName": "Jeison Orlando Pinilla Alzate",
      "userId": "04405323006138165112"
     },
     "user_tz": 300
    },
    "id": "ySWfNAyfbJvO",
    "outputId": "f21da2b6-f186-447c-ddc0-8dd60c083eaf"
   },
   "outputs": [],
   "source": [
    "display(X_train.head(2))\n",
    "display(y_train.head(2))\n",
    "display(X_test.head(2))\n",
    "display(y_test.head(2))"
   ]
  },
  {
   "cell_type": "code",
   "execution_count": null,
   "id": "36a6ff53",
   "metadata": {
    "colab": {
     "base_uri": "https://localhost:8080/"
    },
    "executionInfo": {
     "elapsed": 207,
     "status": "ok",
     "timestamp": 1656639905350,
     "user": {
      "displayName": "Jeison Orlando Pinilla Alzate",
      "userId": "04405323006138165112"
     },
     "user_tz": 300
    },
    "id": "36a6ff53",
    "outputId": "e66a8a96-0772-4214-8ad4-8398e658f45a"
   },
   "outputs": [],
   "source": [
    "X_train = sm.add_constant(X_train)\n",
    "X_test= sm.add_constant(X_test)"
   ]
  },
  {
   "cell_type": "code",
   "execution_count": null,
   "id": "c2b35a02",
   "metadata": {
    "id": "c2b35a02"
   },
   "outputs": [],
   "source": [
    "model = sm.OLS(y_train,X_train)\n",
    "results = model.fit()"
   ]
  },
  {
   "cell_type": "code",
   "execution_count": null,
   "id": "54cce102",
   "metadata": {
    "colab": {
     "base_uri": "https://localhost:8080/"
    },
    "executionInfo": {
     "elapsed": 5,
     "status": "ok",
     "timestamp": 1656640019376,
     "user": {
      "displayName": "Jeison Orlando Pinilla Alzate",
      "userId": "04405323006138165112"
     },
     "user_tz": 300
    },
    "id": "54cce102",
    "outputId": "1b5a4bee-f660-46f9-d99c-aadcf0e50b9d"
   },
   "outputs": [],
   "source": [
    "print(results.summary())"
   ]
  },
  {
   "cell_type": "code",
   "execution_count": null,
   "id": "h41V2oORgz4U",
   "metadata": {
    "colab": {
     "base_uri": "https://localhost:8080/"
    },
    "executionInfo": {
     "elapsed": 216,
     "status": "ok",
     "timestamp": 1656641254034,
     "user": {
      "displayName": "Jeison Orlando Pinilla Alzate",
      "userId": "04405323006138165112"
     },
     "user_tz": 300
    },
    "id": "h41V2oORgz4U",
    "outputId": "8a91f70a-069a-407b-f7f1-fef9dac96588"
   },
   "outputs": [],
   "source": [
    "results.params"
   ]
  },
  {
   "cell_type": "code",
   "execution_count": null,
   "id": "EaVZJhPjePBy",
   "metadata": {
    "colab": {
     "base_uri": "https://localhost:8080/",
     "height": 213
    },
    "executionInfo": {
     "elapsed": 219,
     "status": "ok",
     "timestamp": 1656640619767,
     "user": {
      "displayName": "Jeison Orlando Pinilla Alzate",
      "userId": "04405323006138165112"
     },
     "user_tz": 300
    },
    "id": "EaVZJhPjePBy",
    "outputId": "b6a46bc3-1136-4e3d-e55a-38a485f268ae"
   },
   "outputs": [],
   "source": [
    "display(X_test.head(3))\n",
    "display(y_test.head(3))"
   ]
  },
  {
   "cell_type": "markdown",
   "id": "1d23cacb",
   "metadata": {
    "id": "1d23cacb"
   },
   "source": [
    "## Intervalos de confianza"
   ]
  },
  {
   "cell_type": "code",
   "execution_count": null,
   "id": "3b7e3c75",
   "metadata": {
    "colab": {
     "base_uri": "https://localhost:8080/",
     "height": 112
    },
    "executionInfo": {
     "elapsed": 257,
     "status": "ok",
     "timestamp": 1656641071185,
     "user": {
      "displayName": "Jeison Orlando Pinilla Alzate",
      "userId": "04405323006138165112"
     },
     "user_tz": 300
    },
    "id": "3b7e3c75",
    "outputId": "45f8b855-7be8-48a7-f8ad-b77d96c38784",
    "scrolled": true
   },
   "outputs": [],
   "source": [
    "results.conf_int(alpha=0.05) #Confianza del 95%"
   ]
  },
  {
   "cell_type": "markdown",
   "id": "c5d19f54",
   "metadata": {
    "id": "c5d19f54",
    "scrolled": true
   },
   "source": [
    "# Predicciones"
   ]
  },
  {
   "cell_type": "code",
   "execution_count": null,
   "id": "OKH7Maet-pD9",
   "metadata": {
    "colab": {
     "base_uri": "https://localhost:8080/",
     "height": 206
    },
    "executionInfo": {
     "elapsed": 222,
     "status": "ok",
     "timestamp": 1656641162657,
     "user": {
      "displayName": "Jeison Orlando Pinilla Alzate",
      "userId": "04405323006138165112"
     },
     "user_tz": 300
    },
    "id": "OKH7Maet-pD9",
    "outputId": "44e1eb38-c8ac-4e79-c7c9-0ca5b808f156"
   },
   "outputs": [],
   "source": [
    "display(X_test.head())"
   ]
  },
  {
   "cell_type": "code",
   "execution_count": null,
   "id": "bCPrAv7a_FTH",
   "metadata": {
    "colab": {
     "base_uri": "https://localhost:8080/",
     "height": 121
    },
    "executionInfo": {
     "elapsed": 211,
     "status": "ok",
     "timestamp": 1656641166474,
     "user": {
      "displayName": "Jeison Orlando Pinilla Alzate",
      "userId": "04405323006138165112"
     },
     "user_tz": 300
    },
    "id": "bCPrAv7a_FTH",
    "outputId": "9ca76c61-5d74-4c58-8cda-31b08e9050aa"
   },
   "outputs": [],
   "source": [
    "display(y_test.head())"
   ]
  },
  {
   "cell_type": "code",
   "execution_count": null,
   "id": "71c38128",
   "metadata": {
    "colab": {
     "base_uri": "https://localhost:8080/"
    },
    "executionInfo": {
     "elapsed": 207,
     "status": "ok",
     "timestamp": 1656641208363,
     "user": {
      "displayName": "Jeison Orlando Pinilla Alzate",
      "userId": "04405323006138165112"
     },
     "user_tz": 300
    },
    "id": "71c38128",
    "outputId": "83a47053-70b6-47b9-ec22-9d0bde1f14f8"
   },
   "outputs": [],
   "source": [
    "results.predict(X_test).head()"
   ]
  },
  {
   "cell_type": "markdown",
   "id": "85cd5cfa",
   "metadata": {
    "id": "85cd5cfa"
   },
   "source": [
    "## Intervalos de confianza predicciones"
   ]
  },
  {
   "cell_type": "code",
   "execution_count": null,
   "id": "82e6c657",
   "metadata": {
    "id": "82e6c657"
   },
   "outputs": [],
   "source": [
    "Pred_test=results.get_prediction(X_test).summary_frame()#.sort_values(\"mean\")"
   ]
  },
  {
   "cell_type": "code",
   "execution_count": null,
   "id": "Y5fO5W1-AHDP",
   "metadata": {
    "colab": {
     "base_uri": "https://localhost:8080/",
     "height": 990
    },
    "executionInfo": {
     "elapsed": 221,
     "status": "ok",
     "timestamp": 1656641395393,
     "user": {
      "displayName": "Jeison Orlando Pinilla Alzate",
      "userId": "04405323006138165112"
     },
     "user_tz": 300
    },
    "id": "Y5fO5W1-AHDP",
    "outputId": "cf00a9e1-4892-4dd9-c2f1-45f4f0b9a2e8"
   },
   "outputs": [],
   "source": [
    "Pred_test"
   ]
  },
  {
   "cell_type": "code",
   "execution_count": null,
   "id": "e2a8a49c",
   "metadata": {},
   "outputs": [],
   "source": [
    "Pred_test[\"X\"]=X_test['Nivel Educativo']"
   ]
  },
  {
   "cell_type": "code",
   "execution_count": null,
   "id": "fa528c6b",
   "metadata": {
    "id": "fa528c6b"
   },
   "outputs": [],
   "source": [
    "Pred_test[\"Nivel educativo\"]=X_test['Nivel Educativo']\n",
    "Pred_test[\"Bienes\"]=X_test['Bienes']\n",
    "\n",
    "Pred_test[\"Observado\"]= y_test"
   ]
  },
  {
   "cell_type": "code",
   "execution_count": null,
   "id": "xEaHsAoRDa6X",
   "metadata": {
    "colab": {
     "base_uri": "https://localhost:8080/",
     "height": 1000
    },
    "executionInfo": {
     "elapsed": 299,
     "status": "ok",
     "timestamp": 1656642240911,
     "user": {
      "displayName": "Jeison Orlando Pinilla Alzate",
      "userId": "04405323006138165112"
     },
     "user_tz": 300
    },
    "id": "xEaHsAoRDa6X",
    "outputId": "d654e157-d8ee-4448-db32-52c06c1c3481"
   },
   "outputs": [],
   "source": [
    "Pred_test"
   ]
  },
  {
   "cell_type": "code",
   "execution_count": null,
   "id": "a30ee3df",
   "metadata": {
    "id": "a30ee3df"
   },
   "outputs": [],
   "source": [
    "Pred_test=Pred_test.sort_values(\"mean\")"
   ]
  },
  {
   "cell_type": "code",
   "execution_count": null,
   "id": "f2bb79ec",
   "metadata": {
    "colab": {
     "base_uri": "https://localhost:8080/",
     "height": 1000
    },
    "executionInfo": {
     "elapsed": 311,
     "status": "ok",
     "timestamp": 1656642364242,
     "user": {
      "displayName": "Jeison Orlando Pinilla Alzate",
      "userId": "04405323006138165112"
     },
     "user_tz": 300
    },
    "id": "f2bb79ec",
    "outputId": "44701ef0-3089-4d4b-863f-30fa900074c7"
   },
   "outputs": [],
   "source": [
    "Pred_test"
   ]
  },
  {
   "cell_type": "markdown",
   "id": "51ce1c9e",
   "metadata": {
    "id": "51ce1c9e"
   },
   "source": [
    "## Gráfica de la regresión lineal"
   ]
  },
  {
   "cell_type": "code",
   "execution_count": null,
   "id": "89600432",
   "metadata": {
    "colab": {
     "base_uri": "https://localhost:8080/",
     "height": 592
    },
    "executionInfo": {
     "elapsed": 344,
     "status": "ok",
     "timestamp": 1656642369133,
     "user": {
      "displayName": "Jeison Orlando Pinilla Alzate",
      "userId": "04405323006138165112"
     },
     "user_tz": 300
    },
    "id": "89600432",
    "outputId": "1947eec0-3fb3-4b3a-ce2b-6c722d715f6d"
   },
   "outputs": [],
   "source": [
    "fig, ax = plt.subplots(figsize=(10, 10))\n",
    "\n",
    "ax.scatter(Pred_test[\"X\"], Pred_test.Observado, marker='o', color = \"blue\")\n",
    "ax.plot(Pred_test[\"Nivel educativo\"], Pred_test[\"mean\"], linestyle='-', label=\"OLS\",color=\"red\")\n",
    "ax.plot(Pred_test[\"Nivel educativo\"], Pred_test[\"mean_ci_lower\"], linestyle='--', color='red', label=\"95% CI media\")\n",
    "ax.plot(Pred_test[\"Nivel educativo\"], Pred_test[\"mean_ci_upper\"], linestyle='--', color='red')\n",
    "ax.fill_between(Pred_test[\"Nivel educativo\"], Pred_test[\"mean_ci_lower\"], Pred_test[\"mean_ci_upper\"], alpha=0.1)\n",
    "ax.plot(Pred_test[\"Nivel educativo\"], Pred_test[\"obs_ci_lower\"], linestyle='--', color='blue', label=\"95% CI Observaciones\")\n",
    "ax.plot(Pred_test[\"Nivel educativo\"], Pred_test[\"obs_ci_upper\"], linestyle='--', color='blue')\n",
    "\n",
    "\n",
    "ax.legend();"
   ]
  },
  {
   "cell_type": "markdown",
   "id": "dd1dc793",
   "metadata": {
    "id": "dd1dc793"
   },
   "source": [
    "## Pruebas de bondad de ajuste"
   ]
  },
  {
   "cell_type": "code",
   "execution_count": null,
   "id": "cfad4641",
   "metadata": {
    "colab": {
     "base_uri": "https://localhost:8080/"
    },
    "executionInfo": {
     "elapsed": 348,
     "status": "ok",
     "timestamp": 1656642426849,
     "user": {
      "displayName": "Jeison Orlando Pinilla Alzate",
      "userId": "04405323006138165112"
     },
     "user_tz": 300
    },
    "id": "cfad4641",
    "outputId": "e92c1df5-9c1a-462d-d1d7-70529c295d1d",
    "scrolled": true
   },
   "outputs": [],
   "source": [
    "print('coefficient of determination:', results.rsquared)\n",
    "print('adjusted coefficient of determination:', results.rsquared_adj)\n",
    "print('regression coefficients:', results.params)"
   ]
  },
  {
   "cell_type": "code",
   "execution_count": null,
   "id": "ca753582",
   "metadata": {
    "colab": {
     "base_uri": "https://localhost:8080/"
    },
    "executionInfo": {
     "elapsed": 221,
     "status": "ok",
     "timestamp": 1656642473888,
     "user": {
      "displayName": "Jeison Orlando Pinilla Alzate",
      "userId": "04405323006138165112"
     },
     "user_tz": 300
    },
    "id": "ca753582",
    "outputId": "eaf75444-5a13-4ddb-eb41-472cd78e3feb"
   },
   "outputs": [],
   "source": [
    "from sklearn.metrics import mean_squared_error\n",
    "predicciones = results.predict(X_test)\n",
    "rmse = mean_squared_error(\n",
    "        y_true  = y_test,\n",
    "        y_pred  = predicciones,\n",
    "        squared = False\n",
    "       )\n",
    "print(f\"El error (rmse) de test es: {rmse}\")"
   ]
  },
  {
   "cell_type": "markdown",
   "id": "024a61a5",
   "metadata": {
    "id": "024a61a5"
   },
   "source": [
    "## Diagnóstico de los residuos"
   ]
  },
  {
   "cell_type": "markdown",
   "id": "c5a23df5",
   "metadata": {},
   "source": [
    "Residuos de entrenamiento"
   ]
  },
  {
   "cell_type": "code",
   "execution_count": null,
   "id": "8cc0153c",
   "metadata": {
    "scrolled": true
   },
   "outputs": [],
   "source": [
    "residuos_train = y_train - results.predict(X_train)"
   ]
  },
  {
   "cell_type": "code",
   "execution_count": null,
   "id": "e217ed3b",
   "metadata": {},
   "outputs": [],
   "source": [
    "residuos_train.describe()"
   ]
  },
  {
   "cell_type": "markdown",
   "id": "5e098f38",
   "metadata": {},
   "source": [
    "Residuos de prueba"
   ]
  },
  {
   "cell_type": "code",
   "execution_count": null,
   "id": "0c2699ff",
   "metadata": {
    "id": "0c2699ff"
   },
   "outputs": [],
   "source": [
    "residuos_test = Pred_test[\"Observado\"] - Pred_test[\"mean\"]"
   ]
  },
  {
   "cell_type": "code",
   "execution_count": null,
   "id": "d435a39d",
   "metadata": {
    "colab": {
     "base_uri": "https://localhost:8080/",
     "height": 270
    },
    "executionInfo": {
     "elapsed": 362,
     "status": "error",
     "timestamp": 1659926055792,
     "user": {
      "displayName": "Jeison Orlando Pinilla Alzate",
      "userId": "04405323006138165112"
     },
     "user_tz": 300
    },
    "id": "d435a39d",
    "outputId": "1a8dd3b8-a447-4a5e-8f9d-c10e1499e2b2"
   },
   "outputs": [],
   "source": [
    "fig, axes = plt.subplots(nrows=3, ncols=2, figsize=(9, 8))\n",
    "\n",
    "axes[0, 0].scatter(Pred_test[\"Observado\"],Pred_test[\"mean\"], edgecolors=(0, 0, 0), alpha = 0.4)\n",
    "axes[0, 0].plot([Pred_test[\"Observado\"].min(), Pred_test[\"Observado\"].max()],\n",
    "                [Pred_test[\"Observado\"].min(), Pred_test[\"Observado\"].max()],\n",
    "                'k--', color = 'black', lw=2)\n",
    "axes[0, 0].set_title('Valor predicho vs valor real', fontsize = 10, fontweight = \"bold\")\n",
    "axes[0, 0].set_xlabel('Real')\n",
    "axes[0, 0].set_ylabel('Predicción')\n",
    "axes[0, 0].tick_params(labelsize = 7)\n",
    "\n",
    "axes[0, 1].scatter(list(range(len(residuos_test))), residuos_test,\n",
    "                   edgecolors=(0, 0, 0), alpha = 0.4)\n",
    "axes[0, 1].axhline(y = 0, linestyle = '--', color = 'black', lw=2)\n",
    "axes[0, 1].set_title('Residuos del modelo', fontsize = 10, fontweight = \"bold\")\n",
    "axes[0, 1].set_xlabel('id')\n",
    "axes[0, 1].set_ylabel('Residuo')\n",
    "axes[0, 1].tick_params(labelsize = 7)\n",
    "\n",
    "sns.histplot(\n",
    "    data    = residuos_test,\n",
    "    stat    = \"density\",\n",
    "    kde     = True,\n",
    "    line_kws= {'linewidth': 1},\n",
    "    color   = \"firebrick\",\n",
    "    alpha   = 0.3,\n",
    "    ax      = axes[1, 0]\n",
    ")\n",
    "\n",
    "axes[1, 0].set_title('Distribución residuos del modelo', fontsize = 10,\n",
    "                     fontweight = \"bold\")\n",
    "axes[1, 0].set_xlabel(\"Residuo\")\n",
    "axes[1, 0].tick_params(labelsize = 7)\n",
    "\n",
    "\n",
    "sm.qqplot(\n",
    "    residuos_test,\n",
    "    fit   = True,\n",
    "    line  = 'q',\n",
    "    ax    = axes[1, 1], \n",
    "    color = 'firebrick',\n",
    "    alpha = 0.4,\n",
    "    lw    = 2\n",
    ")\n",
    "axes[1, 1].set_title('Q-Q residuos del modelo', fontsize = 10, fontweight = \"bold\")\n",
    "axes[1, 1].tick_params(labelsize = 7)\n",
    "\n",
    "axes[2, 0].scatter(Pred_test[\"mean\"], residuos_test,\n",
    "                   edgecolors=(0, 0, 0), alpha = 0.4)\n",
    "axes[2, 0].axhline(y = 0, linestyle = '--', color = 'black', lw=2)\n",
    "axes[2, 0].set_title('Residuos del modelo vs predicción', fontsize = 10, fontweight = \"bold\")\n",
    "axes[2, 0].set_xlabel('Predicción')\n",
    "axes[2, 0].set_ylabel('Residuo')\n",
    "axes[2, 0].tick_params(labelsize = 7)\n",
    "\n",
    "# Se eliminan los axes vacíos\n",
    "fig.delaxes(axes[2,1])\n",
    "\n",
    "fig.tight_layout()\n",
    "plt.subplots_adjust(top=0.9)\n",
    "fig.suptitle('Diagnóstico residuos', fontsize = 12, fontweight = \"bold\");"
   ]
  },
  {
   "cell_type": "markdown",
   "id": "cb03f5b2",
   "metadata": {
    "id": "cb03f5b2"
   },
   "source": [
    "## Test de Normalidad"
   ]
  },
  {
   "cell_type": "code",
   "execution_count": null,
   "id": "4c0c0bd7",
   "metadata": {
    "colab": {
     "base_uri": "https://localhost:8080/"
    },
    "executionInfo": {
     "elapsed": 294,
     "status": "ok",
     "timestamp": 1656642668047,
     "user": {
      "displayName": "Jeison Orlando Pinilla Alzate",
      "userId": "04405323006138165112"
     },
     "user_tz": 300
    },
    "id": "4c0c0bd7",
    "outputId": "ef82176a-da5f-41e6-93ac-22b49d6c952b"
   },
   "outputs": [],
   "source": [
    "from scipy import stats\n",
    "shapiro_test = stats.shapiro(residuos_test)\n",
    "shapiro_test"
   ]
  }
 ],
 "metadata": {
  "colab": {
   "collapsed_sections": [],
   "name": "7. Séptima_clase_python.ipynb",
   "provenance": []
  },
  "kernelspec": {
   "display_name": "Python 3 (ipykernel)",
   "language": "python",
   "name": "python3"
  },
  "language_info": {
   "codemirror_mode": {
    "name": "ipython",
    "version": 3
   },
   "file_extension": ".py",
   "mimetype": "text/x-python",
   "name": "python",
   "nbconvert_exporter": "python",
   "pygments_lexer": "ipython3",
   "version": "3.11.0"
  },
  "widgets": {
   "application/vnd.jupyter.widget-state+json": {
    "12898fc46c3d467a8635096146860d0d": {
     "model_module": "@jupyter-widgets/output",
     "model_module_version": "1.0.0",
     "model_name": "OutputModel",
     "state": {
      "_dom_classes": [],
      "_model_module": "@jupyter-widgets/output",
      "_model_module_version": "1.0.0",
      "_model_name": "OutputModel",
      "_view_count": null,
      "_view_module": "@jupyter-widgets/output",
      "_view_module_version": "1.0.0",
      "_view_name": "OutputView",
      "layout": "IPY_MODEL_2041a3189b9b4586b5832caf6f389aa1",
      "msg_id": "",
      "outputs": [
       {
        "data": {
         "image/png": "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\n",
         "text/plain": "<Figure size 432x288 with 1 Axes>"
        },
        "metadata": {
         "needs_background": "light"
        },
        "output_type": "display_data"
       }
      ]
     }
    },
    "1e4d083d4ea149d386a89c18a91d3f94": {
     "model_module": "@jupyter-widgets/base",
     "model_module_version": "1.2.0",
     "model_name": "LayoutModel",
     "state": {
      "_model_module": "@jupyter-widgets/base",
      "_model_module_version": "1.2.0",
      "_model_name": "LayoutModel",
      "_view_count": null,
      "_view_module": "@jupyter-widgets/base",
      "_view_module_version": "1.2.0",
      "_view_name": "LayoutView",
      "align_content": null,
      "align_items": null,
      "align_self": null,
      "border": null,
      "bottom": null,
      "display": null,
      "flex": null,
      "flex_flow": null,
      "grid_area": null,
      "grid_auto_columns": null,
      "grid_auto_flow": null,
      "grid_auto_rows": null,
      "grid_column": null,
      "grid_gap": null,
      "grid_row": null,
      "grid_template_areas": null,
      "grid_template_columns": null,
      "grid_template_rows": null,
      "height": null,
      "justify_content": null,
      "justify_items": null,
      "left": null,
      "margin": null,
      "max_height": null,
      "max_width": null,
      "min_height": null,
      "min_width": null,
      "object_fit": null,
      "object_position": null,
      "order": null,
      "overflow": null,
      "overflow_x": null,
      "overflow_y": null,
      "padding": null,
      "right": null,
      "top": null,
      "visibility": null,
      "width": null
     }
    },
    "1f94adcafcec49ecaf97f4e4cdd7070f": {
     "model_module": "@jupyter-widgets/controls",
     "model_module_version": "1.5.0",
     "model_name": "SliderStyleModel",
     "state": {
      "_model_module": "@jupyter-widgets/controls",
      "_model_module_version": "1.5.0",
      "_model_name": "SliderStyleModel",
      "_view_count": null,
      "_view_module": "@jupyter-widgets/base",
      "_view_module_version": "1.2.0",
      "_view_name": "StyleView",
      "description_width": "",
      "handle_color": null
     }
    },
    "2041a3189b9b4586b5832caf6f389aa1": {
     "model_module": "@jupyter-widgets/base",
     "model_module_version": "1.2.0",
     "model_name": "LayoutModel",
     "state": {
      "_model_module": "@jupyter-widgets/base",
      "_model_module_version": "1.2.0",
      "_model_name": "LayoutModel",
      "_view_count": null,
      "_view_module": "@jupyter-widgets/base",
      "_view_module_version": "1.2.0",
      "_view_name": "LayoutView",
      "align_content": null,
      "align_items": null,
      "align_self": null,
      "border": null,
      "bottom": null,
      "display": null,
      "flex": null,
      "flex_flow": null,
      "grid_area": null,
      "grid_auto_columns": null,
      "grid_auto_flow": null,
      "grid_auto_rows": null,
      "grid_column": null,
      "grid_gap": null,
      "grid_row": null,
      "grid_template_areas": null,
      "grid_template_columns": null,
      "grid_template_rows": null,
      "height": null,
      "justify_content": null,
      "justify_items": null,
      "left": null,
      "margin": null,
      "max_height": null,
      "max_width": null,
      "min_height": null,
      "min_width": null,
      "object_fit": null,
      "object_position": null,
      "order": null,
      "overflow": null,
      "overflow_x": null,
      "overflow_y": null,
      "padding": null,
      "right": null,
      "top": null,
      "visibility": null,
      "width": null
     }
    },
    "217b82e4facc4177a1e7d6412a7cc032": {
     "model_module": "@jupyter-widgets/controls",
     "model_module_version": "1.5.0",
     "model_name": "SliderStyleModel",
     "state": {
      "_model_module": "@jupyter-widgets/controls",
      "_model_module_version": "1.5.0",
      "_model_name": "SliderStyleModel",
      "_view_count": null,
      "_view_module": "@jupyter-widgets/base",
      "_view_module_version": "1.2.0",
      "_view_name": "StyleView",
      "description_width": "",
      "handle_color": null
     }
    },
    "25c972c9ab8f41378086c9f558e4bf4c": {
     "model_module": "@jupyter-widgets/controls",
     "model_module_version": "1.5.0",
     "model_name": "VBoxModel",
     "state": {
      "_dom_classes": [
       "widget-interact"
      ],
      "_model_module": "@jupyter-widgets/controls",
      "_model_module_version": "1.5.0",
      "_model_name": "VBoxModel",
      "_view_count": null,
      "_view_module": "@jupyter-widgets/controls",
      "_view_module_version": "1.5.0",
      "_view_name": "VBoxView",
      "box_style": "",
      "children": [
       "IPY_MODEL_286e1885a3b14d01a41ead3b2c08c3df",
       "IPY_MODEL_fb3933a1f267488f99740d2f264fe28e",
       "IPY_MODEL_ed30a09c4ffe4e6985325095dad090e9",
       "IPY_MODEL_dda26081b0184b5682a1805d6e29b62b",
       "IPY_MODEL_12898fc46c3d467a8635096146860d0d"
      ],
      "layout": "IPY_MODEL_1e4d083d4ea149d386a89c18a91d3f94"
     }
    },
    "286e1885a3b14d01a41ead3b2c08c3df": {
     "model_module": "@jupyter-widgets/controls",
     "model_module_version": "1.5.0",
     "model_name": "IntSliderModel",
     "state": {
      "_dom_classes": [],
      "_model_module": "@jupyter-widgets/controls",
      "_model_module_version": "1.5.0",
      "_model_name": "IntSliderModel",
      "_view_count": null,
      "_view_module": "@jupyter-widgets/controls",
      "_view_module_version": "1.5.0",
      "_view_name": "IntSliderView",
      "continuous_update": true,
      "description": "x_mill",
      "description_tooltip": null,
      "disabled": false,
      "layout": "IPY_MODEL_4952d5ecd0cc47f6902a51c7add75762",
      "max": 9000000,
      "min": 0,
      "orientation": "horizontal",
      "readout": true,
      "readout_format": "d",
      "step": 100000,
      "style": "IPY_MODEL_62b86e73245d40b4ac27c10fad03ec21",
      "value": 9000000
     }
    },
    "370ca8dd13cf4654951b2da23dab99d3": {
     "model_module": "@jupyter-widgets/base",
     "model_module_version": "1.2.0",
     "model_name": "LayoutModel",
     "state": {
      "_model_module": "@jupyter-widgets/base",
      "_model_module_version": "1.2.0",
      "_model_name": "LayoutModel",
      "_view_count": null,
      "_view_module": "@jupyter-widgets/base",
      "_view_module_version": "1.2.0",
      "_view_name": "LayoutView",
      "align_content": null,
      "align_items": null,
      "align_self": null,
      "border": null,
      "bottom": null,
      "display": null,
      "flex": null,
      "flex_flow": null,
      "grid_area": null,
      "grid_auto_columns": null,
      "grid_auto_flow": null,
      "grid_auto_rows": null,
      "grid_column": null,
      "grid_gap": null,
      "grid_row": null,
      "grid_template_areas": null,
      "grid_template_columns": null,
      "grid_template_rows": null,
      "height": null,
      "justify_content": null,
      "justify_items": null,
      "left": null,
      "margin": null,
      "max_height": null,
      "max_width": null,
      "min_height": null,
      "min_width": null,
      "object_fit": null,
      "object_position": null,
      "order": null,
      "overflow": null,
      "overflow_x": null,
      "overflow_y": null,
      "padding": null,
      "right": null,
      "top": null,
      "visibility": null,
      "width": null
     }
    },
    "4952d5ecd0cc47f6902a51c7add75762": {
     "model_module": "@jupyter-widgets/base",
     "model_module_version": "1.2.0",
     "model_name": "LayoutModel",
     "state": {
      "_model_module": "@jupyter-widgets/base",
      "_model_module_version": "1.2.0",
      "_model_name": "LayoutModel",
      "_view_count": null,
      "_view_module": "@jupyter-widgets/base",
      "_view_module_version": "1.2.0",
      "_view_name": "LayoutView",
      "align_content": null,
      "align_items": null,
      "align_self": null,
      "border": null,
      "bottom": null,
      "display": null,
      "flex": null,
      "flex_flow": null,
      "grid_area": null,
      "grid_auto_columns": null,
      "grid_auto_flow": null,
      "grid_auto_rows": null,
      "grid_column": null,
      "grid_gap": null,
      "grid_row": null,
      "grid_template_areas": null,
      "grid_template_columns": null,
      "grid_template_rows": null,
      "height": null,
      "justify_content": null,
      "justify_items": null,
      "left": null,
      "margin": null,
      "max_height": null,
      "max_width": null,
      "min_height": null,
      "min_width": null,
      "object_fit": null,
      "object_position": null,
      "order": null,
      "overflow": null,
      "overflow_x": null,
      "overflow_y": null,
      "padding": null,
      "right": null,
      "top": null,
      "visibility": null,
      "width": null
     }
    },
    "5fd3588ca7464e07a193aa8be4c76757": {
     "model_module": "@jupyter-widgets/base",
     "model_module_version": "1.2.0",
     "model_name": "LayoutModel",
     "state": {
      "_model_module": "@jupyter-widgets/base",
      "_model_module_version": "1.2.0",
      "_model_name": "LayoutModel",
      "_view_count": null,
      "_view_module": "@jupyter-widgets/base",
      "_view_module_version": "1.2.0",
      "_view_name": "LayoutView",
      "align_content": null,
      "align_items": null,
      "align_self": null,
      "border": null,
      "bottom": null,
      "display": null,
      "flex": null,
      "flex_flow": null,
      "grid_area": null,
      "grid_auto_columns": null,
      "grid_auto_flow": null,
      "grid_auto_rows": null,
      "grid_column": null,
      "grid_gap": null,
      "grid_row": null,
      "grid_template_areas": null,
      "grid_template_columns": null,
      "grid_template_rows": null,
      "height": null,
      "justify_content": null,
      "justify_items": null,
      "left": null,
      "margin": null,
      "max_height": null,
      "max_width": null,
      "min_height": null,
      "min_width": null,
      "object_fit": null,
      "object_position": null,
      "order": null,
      "overflow": null,
      "overflow_x": null,
      "overflow_y": null,
      "padding": null,
      "right": null,
      "top": null,
      "visibility": null,
      "width": null
     }
    },
    "62b86e73245d40b4ac27c10fad03ec21": {
     "model_module": "@jupyter-widgets/controls",
     "model_module_version": "1.5.0",
     "model_name": "SliderStyleModel",
     "state": {
      "_model_module": "@jupyter-widgets/controls",
      "_model_module_version": "1.5.0",
      "_model_name": "SliderStyleModel",
      "_view_count": null,
      "_view_module": "@jupyter-widgets/base",
      "_view_module_version": "1.2.0",
      "_view_name": "StyleView",
      "description_width": "",
      "handle_color": null
     }
    },
    "c38389c26f84428f9577aa02a71e1c1b": {
     "model_module": "@jupyter-widgets/controls",
     "model_module_version": "1.5.0",
     "model_name": "DescriptionStyleModel",
     "state": {
      "_model_module": "@jupyter-widgets/controls",
      "_model_module_version": "1.5.0",
      "_model_name": "DescriptionStyleModel",
      "_view_count": null,
      "_view_module": "@jupyter-widgets/base",
      "_view_module_version": "1.2.0",
      "_view_name": "StyleView",
      "description_width": ""
     }
    },
    "c82627b0ba3e4218a17286a574e74852": {
     "model_module": "@jupyter-widgets/base",
     "model_module_version": "1.2.0",
     "model_name": "LayoutModel",
     "state": {
      "_model_module": "@jupyter-widgets/base",
      "_model_module_version": "1.2.0",
      "_model_name": "LayoutModel",
      "_view_count": null,
      "_view_module": "@jupyter-widgets/base",
      "_view_module_version": "1.2.0",
      "_view_name": "LayoutView",
      "align_content": null,
      "align_items": null,
      "align_self": null,
      "border": null,
      "bottom": null,
      "display": null,
      "flex": null,
      "flex_flow": null,
      "grid_area": null,
      "grid_auto_columns": null,
      "grid_auto_flow": null,
      "grid_auto_rows": null,
      "grid_column": null,
      "grid_gap": null,
      "grid_row": null,
      "grid_template_areas": null,
      "grid_template_columns": null,
      "grid_template_rows": null,
      "height": null,
      "justify_content": null,
      "justify_items": null,
      "left": null,
      "margin": null,
      "max_height": null,
      "max_width": null,
      "min_height": null,
      "min_width": null,
      "object_fit": null,
      "object_position": null,
      "order": null,
      "overflow": null,
      "overflow_x": null,
      "overflow_y": null,
      "padding": null,
      "right": null,
      "top": null,
      "visibility": null,
      "width": null
     }
    },
    "dda26081b0184b5682a1805d6e29b62b": {
     "model_module": "@jupyter-widgets/controls",
     "model_module_version": "1.5.0",
     "model_name": "DropdownModel",
     "state": {
      "_dom_classes": [],
      "_model_module": "@jupyter-widgets/controls",
      "_model_module_version": "1.5.0",
      "_model_name": "DropdownModel",
      "_options_labels": [
       "red",
       "yellow",
       "blue",
       "gray",
       "green",
       "white",
       "black"
      ],
      "_view_count": null,
      "_view_module": "@jupyter-widgets/controls",
      "_view_module_version": "1.5.0",
      "_view_name": "DropdownView",
      "description": "color",
      "description_tooltip": null,
      "disabled": false,
      "index": 0,
      "layout": "IPY_MODEL_c82627b0ba3e4218a17286a574e74852",
      "style": "IPY_MODEL_c38389c26f84428f9577aa02a71e1c1b"
     }
    },
    "ed30a09c4ffe4e6985325095dad090e9": {
     "model_module": "@jupyter-widgets/controls",
     "model_module_version": "1.5.0",
     "model_name": "IntSliderModel",
     "state": {
      "_dom_classes": [],
      "_model_module": "@jupyter-widgets/controls",
      "_model_module_version": "1.5.0",
      "_model_name": "IntSliderModel",
      "_view_count": null,
      "_view_module": "@jupyter-widgets/controls",
      "_view_module_version": "1.5.0",
      "_view_name": "IntSliderView",
      "continuous_update": true,
      "description": "bins",
      "description_tooltip": null,
      "disabled": false,
      "layout": "IPY_MODEL_5fd3588ca7464e07a193aa8be4c76757",
      "max": 1000,
      "min": 1,
      "orientation": "horizontal",
      "readout": true,
      "readout_format": "d",
      "step": 1,
      "style": "IPY_MODEL_1f94adcafcec49ecaf97f4e4cdd7070f",
      "value": 10
     }
    },
    "fb3933a1f267488f99740d2f264fe28e": {
     "model_module": "@jupyter-widgets/controls",
     "model_module_version": "1.5.0",
     "model_name": "IntSliderModel",
     "state": {
      "_dom_classes": [],
      "_model_module": "@jupyter-widgets/controls",
      "_model_module_version": "1.5.0",
      "_model_name": "IntSliderModel",
      "_view_count": null,
      "_view_module": "@jupyter-widgets/controls",
      "_view_module_version": "1.5.0",
      "_view_name": "IntSliderView",
      "continuous_update": true,
      "description": "y",
      "description_tooltip": null,
      "disabled": false,
      "layout": "IPY_MODEL_370ca8dd13cf4654951b2da23dab99d3",
      "max": 50000,
      "min": 0,
      "orientation": "horizontal",
      "readout": true,
      "readout_format": "d",
      "step": 1000,
      "style": "IPY_MODEL_217b82e4facc4177a1e7d6412a7cc032",
      "value": 50000
     }
    }
   }
  }
 },
 "nbformat": 4,
 "nbformat_minor": 5
}
