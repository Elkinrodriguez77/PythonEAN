{
 "cells": [
  {
   "cell_type": "markdown",
   "id": "777ceaf1",
   "metadata": {
    "id": "777ceaf1"
   },
   "source": [
    "# Modulo 2 Condiciones, controles de flujo y funciones"
   ]
  },
  {
   "cell_type": "markdown",
   "id": "cfded963",
   "metadata": {
    "id": "cfded963"
   },
   "source": [
    "# Diccionarios"
   ]
  },
  {
   "cell_type": "markdown",
   "id": "00c9d427",
   "metadata": {
    "id": "00c9d427"
   },
   "source": [
    "Un diccionario es un objeto que almacena una clave y un valor. Se accede a sus elementos a través de su valor."
   ]
  },
  {
   "cell_type": "code",
   "execution_count": 1,
   "id": "e3e9f1e7",
   "metadata": {},
   "outputs": [
    {
     "data": {
      "text/plain": [
       "{1: 'Maria', 2: 'Juan', 3: 'Ricardo', 4: 'Elkin'}"
      ]
     },
     "execution_count": 1,
     "metadata": {},
     "output_type": "execute_result"
    }
   ],
   "source": [
    "clientes = {1: \"Maria\", 2: \"Juan\", 3: \"Ricardo\", 4: \"Elkin\"}\n",
    "clientes"
   ]
  },
  {
   "cell_type": "code",
   "execution_count": 4,
   "id": "109f72c2",
   "metadata": {},
   "outputs": [
    {
     "data": {
      "text/plain": [
       "{'A': 'Perro', 'B': 'Arroz', 'C': 'Huevo', 'D': 'Jamon'}"
      ]
     },
     "execution_count": 4,
     "metadata": {},
     "output_type": "execute_result"
    }
   ],
   "source": [
    "productos = dict(zip(['A','B','C','D'],['Perro','Arroz','Huevo','Jamon']))\n",
    "productos"
   ]
  },
  {
   "cell_type": "markdown",
   "id": "9504a658",
   "metadata": {
    "id": "9504a658"
   },
   "source": [
    "#### Elementos del diccionario"
   ]
  },
  {
   "cell_type": "markdown",
   "id": "86150ee9",
   "metadata": {
    "id": "86150ee9"
   },
   "source": [
    "#### Claves del diccionario"
   ]
  },
  {
   "cell_type": "code",
   "execution_count": 5,
   "id": "ba1d7bdb",
   "metadata": {},
   "outputs": [
    {
     "data": {
      "text/plain": [
       "dict_keys([1, 2, 3, 4])"
      ]
     },
     "execution_count": 5,
     "metadata": {},
     "output_type": "execute_result"
    }
   ],
   "source": [
    "clientes.keys()"
   ]
  },
  {
   "cell_type": "markdown",
   "id": "3e1dc88b",
   "metadata": {
    "id": "3e1dc88b"
   },
   "source": [
    "#### Valores del diccionario"
   ]
  },
  {
   "cell_type": "code",
   "execution_count": 6,
   "id": "720adda7",
   "metadata": {},
   "outputs": [
    {
     "data": {
      "text/plain": [
       "dict_values(['Maria', 'Juan', 'Ricardo', 'Elkin'])"
      ]
     },
     "execution_count": 6,
     "metadata": {},
     "output_type": "execute_result"
    }
   ],
   "source": [
    "clientes.values()"
   ]
  },
  {
   "cell_type": "markdown",
   "id": "6d588721",
   "metadata": {
    "id": "6d588721"
   },
   "source": [
    "#### Acceso a los elementos a través de claves"
   ]
  },
  {
   "cell_type": "markdown",
   "id": "e26a05c7",
   "metadata": {
    "id": "e26a05c7"
   },
   "source": [
    "#### Agregar nuevos elementos al diccionario"
   ]
  },
  {
   "cell_type": "markdown",
   "id": "64eba404",
   "metadata": {
    "id": "64eba404"
   },
   "source": [
    "#### Unir diccionarios"
   ]
  },
  {
   "cell_type": "markdown",
   "id": "c71846af",
   "metadata": {
    "id": "c71846af"
   },
   "source": [
    "#### Eliminar elementos del diccionario"
   ]
  },
  {
   "cell_type": "markdown",
   "id": "4cb8d1cc",
   "metadata": {
    "id": "4cb8d1cc"
   },
   "source": [
    "## Sentencias condicionales"
   ]
  },
  {
   "cell_type": "markdown",
   "id": "453166d9",
   "metadata": {
    "id": "453166d9"
   },
   "source": [
    "Ejecución de instrucciones cuando se cumplen ciertas condiciones:\n",
    "\n",
    "**Ejemplo:**\n",
    "\n",
    "Defina una condicional que determine si un numero es par o no."
   ]
  },
  {
   "cell_type": "code",
   "execution_count": 8,
   "id": "2ffc0096",
   "metadata": {},
   "outputs": [
    {
     "name": "stdout",
     "output_type": "stream",
     "text": [
      "El numero es par\n"
     ]
    }
   ],
   "source": [
    "a = int(input(\"Ingresa un número: \"))\n",
    "\n",
    "if a%2 == 0:\n",
    "    print(\"El numero es par\")\n",
    "else:\n",
    "    print(\"El número es impar\")"
   ]
  },
  {
   "cell_type": "markdown",
   "id": "8e2fd07d",
   "metadata": {
    "id": "8e2fd07d"
   },
   "source": [
    "### Varias condicionales:\n",
    "    \n",
    "Defina una condicional que determine si un número es par, impar o 0."
   ]
  },
  {
   "cell_type": "markdown",
   "id": "Fr6Wcb0RwI48",
   "metadata": {
    "id": "Fr6Wcb0RwI48"
   },
   "source": [
    "Cree un programa que determine si un número es múltiplo de 3, si es múltiplo de 5, si es múltiplo de ambos o no es múltiplo de ninguno"
   ]
  },
  {
   "cell_type": "code",
   "execution_count": 1,
   "id": "8rL3YQVQwX2_",
   "metadata": {
    "colab": {
     "base_uri": "https://localhost:8080/"
    },
    "executionInfo": {
     "elapsed": 2892,
     "status": "ok",
     "timestamp": 1653608780302,
     "user": {
      "displayName": "Jeison Orlando Pinilla Alzate",
      "userId": "04405323006138165112"
     },
     "user_tz": 300
    },
    "id": "8rL3YQVQwX2_",
    "outputId": "f1201f67-8a15-4361-b53f-46385e3bec7e"
   },
   "outputs": [
    {
     "name": "stdout",
     "output_type": "stream",
     "text": [
      "El número no es multiplo de 3 y/o 5\n"
     ]
    }
   ],
   "source": [
    "#Si es multiplo de 3 y/o 5\n",
    "y = int(input(\"Ingrese el número: \"))\n",
    "if y%3==0 and y%5==0:\n",
    "  print('El numero es divisible por 3 y 5') \n",
    "elif y%3==0:\n",
    "  print('El valor ingresado es multiplo de 3')\n",
    "elif y%5==0:\n",
    "  print('El número ingresado es multiplo de 5')\n",
    "else:\n",
    "  print('El número no es multiplo de 3 y/o 5')"
   ]
  },
  {
   "cell_type": "markdown",
   "id": "fd1240a6",
   "metadata": {
    "id": "fd1240a6"
   },
   "source": [
    "## Ciclos"
   ]
  },
  {
   "cell_type": "code",
   "execution_count": null,
   "id": "mE0YNa0SySH2",
   "metadata": {
    "id": "mE0YNa0SySH2"
   },
   "outputs": [],
   "source": []
  },
  {
   "cell_type": "markdown",
   "id": "1ec25d9f",
   "metadata": {
    "id": "1ec25d9f"
   },
   "source": [
    "Son rutinas repetitivas que se realizan por un número definido de veces o hasta que se cumple cierta condición"
   ]
  },
  {
   "cell_type": "markdown",
   "id": "93f9b447",
   "metadata": {
    "id": "93f9b447"
   },
   "source": [
    "### Ciclo for"
   ]
  },
  {
   "cell_type": "markdown",
   "id": "18606e53",
   "metadata": {
    "id": "18606e53"
   },
   "source": [
    "Los ciclos for se realizan sobre los elementos de objetos iterables como lista, tuplas, rangos, etc.\n",
    "\n",
    "**Ejemplo**\n",
    "\n",
    "Defina un ciclo for que imprima los números del 1 hasta un número determinado"
   ]
  },
  {
   "cell_type": "code",
   "execution_count": null,
   "id": "nZR-f0fuyUJu",
   "metadata": {
    "colab": {
     "base_uri": "https://localhost:8080/"
    },
    "executionInfo": {
     "elapsed": 3104,
     "status": "ok",
     "timestamp": 1653609638957,
     "user": {
      "displayName": "Jeison Orlando Pinilla Alzate",
      "userId": "04405323006138165112"
     },
     "user_tz": 300
    },
    "id": "nZR-f0fuyUJu",
    "outputId": "696813e1-209d-4e1e-b783-48c39fb6f364"
   },
   "outputs": [
    {
     "name": "stdout",
     "output_type": "stream",
     "text": [
      "Escriba un número natural: 10\n",
      "Es es el número 0\n",
      "Es es el número 1\n",
      "Es es el número 2\n",
      "Es es el número 3\n",
      "Es es el número 4\n",
      "Es es el número 5\n",
      "Es es el número 6\n",
      "Es es el número 7\n",
      "Es es el número 8\n",
      "Es es el número 9\n",
      "10\n"
     ]
    }
   ],
   "source": []
  },
  {
   "cell_type": "markdown",
   "id": "y-8F2_AK0dhZ",
   "metadata": {
    "id": "y-8F2_AK0dhZ"
   },
   "source": []
  },
  {
   "cell_type": "markdown",
   "id": "aIplEdSa0h5e",
   "metadata": {
    "id": "aIplEdSa0h5e"
   },
   "source": [
    "Crear un ciclo for que determine si los números que están entre 0 y un número dado son: multimplos de 3, multiplos de 5, múltiplos de 3 y 5 o múltiplos de ninguno."
   ]
  },
  {
   "cell_type": "code",
   "execution_count": null,
   "id": "3VukMHa50czs",
   "metadata": {
    "id": "3VukMHa50czs"
   },
   "outputs": [],
   "source": []
  },
  {
   "cell_type": "markdown",
   "id": "8827810f",
   "metadata": {
    "id": "8827810f"
   },
   "source": [
    "### Ciclo While"
   ]
  },
  {
   "cell_type": "markdown",
   "id": "47e66589",
   "metadata": {
    "id": "47e66589"
   },
   "source": [
    "Este es un ciclo que se realiza mientras se cumpla cierta condición:\n",
    "\n",
    "**Ejemplo**\n",
    "\n",
    "Escriba todos los números hasta que se encuentre el múltiplo de 3 de un número determinado"
   ]
  },
  {
   "cell_type": "code",
   "execution_count": null,
   "id": "mVmeUk8v-5_r",
   "metadata": {
    "colab": {
     "base_uri": "https://localhost:8080/"
    },
    "executionInfo": {
     "elapsed": 2848,
     "status": "ok",
     "timestamp": 1653612834930,
     "user": {
      "displayName": "Jeison Orlando Pinilla Alzate",
      "userId": "04405323006138165112"
     },
     "user_tz": 300
    },
    "id": "mVmeUk8v-5_r",
    "outputId": "b12689c6-acfe-4077-fe57-cc5b609a906b"
   },
   "outputs": [
    {
     "name": "stdout",
     "output_type": "stream",
     "text": [
      "Ingresa número: 7\n",
      "El número ingresado es 1\n",
      "El número ingresado es 2\n",
      "El número ingresado es 3\n",
      "El número ingresado es 4\n",
      "El número ingresado es 5\n",
      "El número ingresado es 6\n",
      "El número ingresado es 7\n",
      "El número ingresado es 8\n",
      "El número ingresado es 9\n",
      "El número ingresado es 10\n",
      "El número ingresado es 11\n",
      "El número ingresado es 12\n",
      "El número ingresado es 13\n",
      "El número ingresado es 14\n",
      "El número ingresado es 15\n",
      "El número ingresado es 16\n",
      "El número ingresado es 17\n",
      "El número ingresado es 18\n",
      "El número ingresado es 19\n",
      "El número ingresado es 20\n"
     ]
    }
   ],
   "source": [
    "n = int(input('Ingresa número: '))\n",
    "i = 1\n",
    "while not(i%n==0 and i%3==0):\n",
    "  print('El número ingresado es '+str(i))\n",
    "  i+=1"
   ]
  },
  {
   "cell_type": "code",
   "execution_count": 2,
   "id": "s9hJdBGMfiyK",
   "metadata": {
    "colab": {
     "base_uri": "https://localhost:8080/"
    },
    "executionInfo": {
     "elapsed": 3446,
     "status": "ok",
     "timestamp": 1654040660014,
     "user": {
      "displayName": "Jeison Orlando Pinilla Alzate",
      "userId": "04405323006138165112"
     },
     "user_tz": 300
    },
    "id": "s9hJdBGMfiyK",
    "outputId": "bdff5a5a-522a-4b64-8db5-ba3793412ea5"
   },
   "outputs": [
    {
     "name": "stdout",
     "output_type": "stream",
     "text": [
      "Ingresa número: 7\n",
      "el número ingresado es 1\n",
      "el número ingresado es 2\n",
      "el número ingresado es 3\n",
      "el número ingresado es 4\n",
      "el número ingresado es 5\n",
      "el número ingresado es 6\n",
      "el número ingresado es 7\n",
      "el número ingresado es 8\n",
      "el número ingresado es 9\n",
      "el número ingresado es 10\n",
      "el número ingresado es 11\n",
      "el número ingresado es 12\n",
      "el número ingresado es 13\n",
      "el número ingresado es 14\n",
      "el número ingresado es 15\n",
      "el número ingresado es 16\n",
      "el número ingresado es 17\n",
      "el número ingresado es 18\n",
      "el número ingresado es 19\n",
      "el número ingresado es 20\n"
     ]
    }
   ],
   "source": [
    "n = int(input('Ingresa número: '))\n",
    "i=1\n",
    "while i%(n*3)!=0:\n",
    "  print('el número ingresado es '+str(i))\n",
    "  i=i+1"
   ]
  },
  {
   "cell_type": "markdown",
   "id": "0DED_GZEA8gi",
   "metadata": {
    "id": "0DED_GZEA8gi"
   },
   "source": [
    "Escriba todos los números que estén entre dos números dados."
   ]
  },
  {
   "cell_type": "code",
   "execution_count": null,
   "id": "dzzuVwPoBxYQ",
   "metadata": {
    "colab": {
     "base_uri": "https://localhost:8080/"
    },
    "executionInfo": {
     "elapsed": 9479,
     "status": "ok",
     "timestamp": 1653613307284,
     "user": {
      "displayName": "Jeison Orlando Pinilla Alzate",
      "userId": "04405323006138165112"
     },
     "user_tz": 300
    },
    "id": "dzzuVwPoBxYQ",
    "outputId": "3aedd9fe-9689-45fd-ffbd-5d57342cb047"
   },
   "outputs": [
    {
     "name": "stdout",
     "output_type": "stream",
     "text": [
      "Escriba un numero natural: 10\n",
      "Escriba un numero natural: 20\n",
      "El numero 10\n",
      "El numero 11\n",
      "El numero 12\n",
      "El numero 13\n",
      "El numero 14\n",
      "El numero 15\n",
      "El numero 16\n",
      "El numero 17\n",
      "El numero 18\n",
      "El numero 19\n",
      "El numero 20\n"
     ]
    }
   ],
   "source": [
    "x = int(input(\"Escriba un numero natural: \"))\n",
    "y = int(input(\"Escriba un numero natural: \"))\n",
    "i = x\n",
    "while i >= x and i <= y:\n",
    "  print(\"El numero \" + str(i))\n",
    "  i+=1"
   ]
  },
  {
   "cell_type": "code",
   "execution_count": null,
   "id": "_jio0y1YCO_8",
   "metadata": {
    "id": "_jio0y1YCO_8"
   },
   "outputs": [],
   "source": [
    "x = int(input(\"Escriba un numero natural: \"))\n",
    "y = int(input(\"Escriba un numero natural: \"))\n",
    "\n",
    "for i in range(x,y):\n",
    "  print(\"El numero \" + str(i))"
   ]
  },
  {
   "cell_type": "markdown",
   "id": "Dwi6ef-Pgwhy",
   "metadata": {
    "id": "Dwi6ef-Pgwhy"
   },
   "source": [
    "Escriba todos los números primos hasta un número dado."
   ]
  },
  {
   "cell_type": "code",
   "execution_count": 9,
   "id": "BLiIxzxygrUN",
   "metadata": {
    "colab": {
     "base_uri": "https://localhost:8080/"
    },
    "executionInfo": {
     "elapsed": 356,
     "status": "ok",
     "timestamp": 1654043944206,
     "user": {
      "displayName": "Jeison Orlando Pinilla Alzate",
      "userId": "04405323006138165112"
     },
     "user_tz": 300
    },
    "id": "BLiIxzxygrUN",
    "outputId": "392fb51d-05e8-44ce-9ef7-53ddb58023fd"
   },
   "outputs": [
    {
     "data": {
      "text/plain": [
       "[2, 3, 4, 5, 6, 7, 8, 9, 10]"
      ]
     },
     "execution_count": 9,
     "metadata": {},
     "output_type": "execute_result"
    }
   ],
   "source": [
    "list(range(2,11))"
   ]
  },
  {
   "cell_type": "markdown",
   "id": "WPNVQMBvs-86",
   "metadata": {
    "id": "WPNVQMBvs-86"
   },
   "source": [
    "Cree un ciclo for para una lista de frutas que determine el número de letras que tiene la fruta"
   ]
  },
  {
   "cell_type": "code",
   "execution_count": 19,
   "id": "-xUWP9tus9S5",
   "metadata": {
    "colab": {
     "base_uri": "https://localhost:8080/"
    },
    "executionInfo": {
     "elapsed": 23562,
     "status": "ok",
     "timestamp": 1654044771733,
     "user": {
      "displayName": "Jeison Orlando Pinilla Alzate",
      "userId": "04405323006138165112"
     },
     "user_tz": 300
    },
    "id": "-xUWP9tus9S5",
    "outputId": "982209a6-798c-4e80-94b9-4ed17e3c842a"
   },
   "outputs": [
    {
     "name": "stdout",
     "output_type": "stream",
     "text": [
      "Escriba el número de frutas que va a crear: 3\n",
      "Escriba la fruta:Durazno\n",
      "['Durazno']\n",
      "Escriba la fruta:Pera\n",
      "['Durazno', 'Pera']\n",
      "Escriba la fruta:Manzana\n",
      "['Durazno', 'Pera', 'Manzana']\n",
      "El nombre de la fruta Durazno tiene 7 letras.\n",
      "El nombre de la fruta Pera tiene 4 letras.\n",
      "El nombre de la fruta Manzana tiene 7 letras.\n"
     ]
    }
   ],
   "source": [
    "n = int(input('Escriba el número de frutas que va a crear: '))\n",
    "frutas=[]\n",
    "for i in range(n):\n",
    "  f=input(\"Escriba la fruta:\")\n",
    "  frutas.append(f)\n",
    "  print(frutas)\n",
    "\n",
    "for j in frutas:\n",
    "  print('El nombre de la fruta '+j+' tiene '+str(len(j))+ ' letras.')"
   ]
  },
  {
   "cell_type": "code",
   "execution_count": 15,
   "id": "Yh21nh8TvERw",
   "metadata": {
    "colab": {
     "base_uri": "https://localhost:8080/"
    },
    "executionInfo": {
     "elapsed": 336,
     "status": "ok",
     "timestamp": 1654044518459,
     "user": {
      "displayName": "Jeison Orlando Pinilla Alzate",
      "userId": "04405323006138165112"
     },
     "user_tz": 300
    },
    "id": "Yh21nh8TvERw",
    "outputId": "a1a10fb4-c76a-4b64-bd8a-b4fa46d54588"
   },
   "outputs": [
    {
     "data": {
      "text/plain": [
       "3"
      ]
     },
     "execution_count": 15,
     "metadata": {},
     "output_type": "execute_result"
    }
   ],
   "source": [
    "len(frutas)"
   ]
  },
  {
   "cell_type": "code",
   "execution_count": 17,
   "id": "1vfxtRi4t764",
   "metadata": {
    "colab": {
     "base_uri": "https://localhost:8080/"
    },
    "executionInfo": {
     "elapsed": 332,
     "status": "ok",
     "timestamp": 1654044554581,
     "user": {
      "displayName": "Jeison Orlando Pinilla Alzate",
      "userId": "04405323006138165112"
     },
     "user_tz": 300
    },
    "id": "1vfxtRi4t764",
    "outputId": "b67bc933-be62-4dfb-b673-57be911eb98f"
   },
   "outputs": [
    {
     "data": {
      "text/plain": [
       "4"
      ]
     },
     "execution_count": 17,
     "metadata": {},
     "output_type": "execute_result"
    }
   ],
   "source": [
    "len(frutas[0])"
   ]
  },
  {
   "cell_type": "code",
   "execution_count": 6,
   "id": "c107a361",
   "metadata": {},
   "outputs": [
    {
     "name": "stdout",
     "output_type": "stream",
     "text": [
      "El nombre daniel tiene una longitud de: 6, y la segunda letra de la palabra daniel es: a\n",
      "El nombre maria tiene una longitud de: 5, y la segunda letra de la palabra maria es: a\n",
      "El nombre pedro tiene una longitud de: 5, y la segunda letra de la palabra pedro es: e\n"
     ]
    }
   ],
   "source": [
    "# longitud de cada nombre y letra de la segunda posición de cada palabra:\n",
    "\n",
    "nombres = ['daniel', 'maria', 'pedro']\n",
    "\n",
    "for i in nombres:\n",
    "    print(f\"El nombre {i} tiene una longitud de: {len(i)}, y la segunda letra de la palabra {i} es: {i[1]}\")"
   ]
  },
  {
   "cell_type": "markdown",
   "id": "d47a58b2",
   "metadata": {
    "id": "d47a58b2"
   },
   "source": [
    "### Interrupciones de ciclos"
   ]
  },
  {
   "cell_type": "markdown",
   "id": "48a64a39",
   "metadata": {
    "id": "48a64a39"
   },
   "source": [
    "#### **continue**"
   ]
  },
  {
   "cell_type": "markdown",
   "id": "934a1ffb",
   "metadata": {
    "id": "934a1ffb"
   },
   "source": [
    "Se utiliza cuando al cumplirse alguna condición, el ciclo actual debe detenerse y continuar con el siguiente.\n",
    "\n",
    "**Ejemplo**\n",
    "\n",
    "Escriba el cociente de dividir un número por los números enteros entre -5 y 5."
   ]
  },
  {
   "cell_type": "code",
   "execution_count": 9,
   "id": "AZQpwpYjwnB1",
   "metadata": {
    "colab": {
     "base_uri": "https://localhost:8080/"
    },
    "executionInfo": {
     "elapsed": 8197,
     "status": "ok",
     "timestamp": 1654045104916,
     "user": {
      "displayName": "Jeison Orlando Pinilla Alzate",
      "userId": "04405323006138165112"
     },
     "user_tz": 300
    },
    "id": "AZQpwpYjwnB1",
    "outputId": "15e2d22e-60e9-45e5-9633-a4e610799ee7"
   },
   "outputs": [
    {
     "name": "stdout",
     "output_type": "stream",
     "text": [
      "El cociente entre 10 y el número -5 es de  -2.0: \n",
      "El cociente entre 10 y el número -4 es de  -2.5: \n",
      "El cociente entre 10 y el número -3 es de  -3.3333333333333335: \n",
      "El cociente entre 10 y el número -2 es de  -5.0: \n",
      "El cociente entre 10 y el número -1 es de  -10.0: \n",
      "El cociente entre 10 y el número 1 es de  10.0: \n",
      "El cociente entre 10 y el número 2 es de  5.0: \n",
      "El cociente entre 10 y el número 3 es de  3.3333333333333335: \n",
      "El cociente entre 10 y el número 4 es de  2.5: \n",
      "El cociente entre 10 y el número 5 es de  2.0: \n"
     ]
    }
   ],
   "source": [
    "numero = int(input(\"Ingrese el número: \"))\n",
    "\n",
    "for i in range(-5,6):\n",
    "    if i == 0:\n",
    "        continue\n",
    "    print(f\"El cociente entre {numero} y el número {i} es de  {numero / i}: \")"
   ]
  },
  {
   "cell_type": "code",
   "execution_count": 14,
   "id": "31ec997f",
   "metadata": {},
   "outputs": [
    {
     "name": "stdout",
     "output_type": "stream",
     "text": [
      "Carlos está de vacaciones y no recibe salario.\n",
      "Ana está de vacaciones y no recibe salario.\n",
      "El salario de Santiago después del descuento del 3% es 5335.0\n",
      "El salario de Maria después del descuento del 3% es 4365.0\n"
     ]
    }
   ],
   "source": [
    "# Crear un programa que pague la nomina a los empleados, pero que descuente el 3% del salario:\n",
    "\n",
    "# Diccionario de empleados y sus salarios\n",
    "empleados = {\n",
    "    'Carlos': 5000,\n",
    "    'Ana': 6000,\n",
    "    'Santiago': 5500,\n",
    "    'Maria': 4500\n",
    "}\n",
    "\n",
    "# Lista de empleados de vacaciones\n",
    "empleados_vacaciones = ['Ana', 'Carlos']\n",
    "\n",
    "# Crear un nuevo diccionario para almacenar los salarios después de los descuentos\n",
    "salarios_despues_de_descuentos = {}\n",
    "\n",
    "# Usar un bucle for para recorrer el diccionario de empleados\n",
    "for nombre, salario in empleados.items():\n",
    "    # Comprobar si el empleado está de vacaciones\n",
    "    if nombre in empleados_vacaciones:\n",
    "        # Si están de vacaciones, su salario después del descuento es 0\n",
    "        salario_despues_de_descuento = 0\n",
    "        print(f\"{nombre} está de vacaciones y no recibe salario.\")\n",
    "    else:\n",
    "        # Calcular el descuento del 3%\n",
    "        descuento = salario * 0.03\n",
    "        # Restar el descuento del salario\n",
    "        salario_despues_de_descuento = salario - descuento\n",
    "        # Imprimir el salario después del descuento\n",
    "        print(f\"El salario de {nombre} después del descuento del 3% es {salario_despues_de_descuento}\")\n",
    "    \n",
    "    # Agregar el salario después del descuento al nuevo diccionario\n",
    "    salarios_despues_de_descuentos[nombre] = salario_despues_de_descuento\n",
    "\n"
   ]
  },
  {
   "cell_type": "markdown",
   "id": "f026b89b",
   "metadata": {
    "id": "f026b89b"
   },
   "source": [
    "#### Break"
   ]
  },
  {
   "cell_type": "markdown",
   "id": "a48de369",
   "metadata": {
    "id": "a48de369"
   },
   "source": [
    "Se utiliza para interrumpir un ciclo.\n",
    "\n",
    "**Ejemplo**\n",
    "\n",
    "Escriba los divisores de un número hasta que encuentre un múltiplo de 5."
   ]
  },
  {
   "cell_type": "code",
   "execution_count": null,
   "id": "4RgVboC7xvc6",
   "metadata": {
    "colab": {
     "base_uri": "https://localhost:8080/"
    },
    "executionInfo": {
     "elapsed": 4234,
     "status": "ok",
     "timestamp": 1654045605975,
     "user": {
      "displayName": "Jeison Orlando Pinilla Alzate",
      "userId": "04405323006138165112"
     },
     "user_tz": 300
    },
    "id": "4RgVboC7xvc6",
    "outputId": "ecdc18ea-a69b-4a29-fbbe-bedbbe4e8614"
   },
   "outputs": [],
   "source": []
  },
  {
   "cell_type": "code",
   "execution_count": null,
   "id": "0ayBgn6058nM",
   "metadata": {
    "colab": {
     "base_uri": "https://localhost:8080/"
    },
    "executionInfo": {
     "elapsed": 355,
     "status": "ok",
     "timestamp": 1654047386115,
     "user": {
      "displayName": "Jeison Orlando Pinilla Alzate",
      "userId": "04405323006138165112"
     },
     "user_tz": 300
    },
    "id": "0ayBgn6058nM",
    "outputId": "b609a763-24ad-49fa-9c6a-e0b88b1d87e4"
   },
   "outputs": [],
   "source": []
  },
  {
   "cell_type": "markdown",
   "id": "5d49d04e",
   "metadata": {
    "id": "5d49d04e"
   },
   "source": [
    "## Funciones"
   ]
  },
  {
   "cell_type": "markdown",
   "id": "68034c01",
   "metadata": {
    "id": "68034c01"
   },
   "source": [
    "Una función es una asignación de un resultado a un conjunto de argumentos:\n",
    "    \n",
    "**Ejemplo**\n",
    "\n",
    "Cree una función que calcule el factorial de un número"
   ]
  },
  {
   "cell_type": "code",
   "execution_count": null,
   "id": "Gfc8fUWM7iyg",
   "metadata": {
    "colab": {
     "base_uri": "https://localhost:8080/"
    },
    "executionInfo": {
     "elapsed": 328,
     "status": "ok",
     "timestamp": 1654047796547,
     "user": {
      "displayName": "Jeison Orlando Pinilla Alzate",
      "userId": "04405323006138165112"
     },
     "user_tz": 300
    },
    "id": "Gfc8fUWM7iyg",
    "outputId": "b4cb7331-33b7-4720-f6ff-87592e3bc9c8"
   },
   "outputs": [],
   "source": []
  },
  {
   "cell_type": "code",
   "execution_count": null,
   "id": "lHh1OIHM6n7v",
   "metadata": {
    "executionInfo": {
     "elapsed": 352,
     "status": "ok",
     "timestamp": 1654048023957,
     "user": {
      "displayName": "Jeison Orlando Pinilla Alzate",
      "userId": "04405323006138165112"
     },
     "user_tz": 300
    },
    "id": "lHh1OIHM6n7v"
   },
   "outputs": [],
   "source": []
  },
  {
   "cell_type": "code",
   "execution_count": null,
   "id": "Wd8LbRkJ8YLg",
   "metadata": {
    "colab": {
     "base_uri": "https://localhost:8080/"
    },
    "executionInfo": {
     "elapsed": 4,
     "status": "ok",
     "timestamp": 1654048025738,
     "user": {
      "displayName": "Jeison Orlando Pinilla Alzate",
      "userId": "04405323006138165112"
     },
     "user_tz": 300
    },
    "id": "Wd8LbRkJ8YLg",
    "outputId": "fd1dd902-ff20-458c-9112-09eb7d02cd60"
   },
   "outputs": [],
   "source": []
  },
  {
   "cell_type": "code",
   "execution_count": null,
   "id": "1viPbRF67yzQ",
   "metadata": {
    "colab": {
     "base_uri": "https://localhost:8080/"
    },
    "executionInfo": {
     "elapsed": 4342,
     "status": "ok",
     "timestamp": 1654048032626,
     "user": {
      "displayName": "Jeison Orlando Pinilla Alzate",
      "userId": "04405323006138165112"
     },
     "user_tz": 300
    },
    "id": "1viPbRF67yzQ",
    "outputId": "6aefe13c-e8a3-4dc7-a76d-23d8e8e7acf8"
   },
   "outputs": [],
   "source": []
  },
  {
   "cell_type": "markdown",
   "id": "pf-XLsuf8NyV",
   "metadata": {
    "id": "pf-XLsuf8NyV"
   },
   "source": [
    "Cree una función que sume tres números"
   ]
  },
  {
   "cell_type": "code",
   "execution_count": null,
   "id": "KLzd5UiV8M6z",
   "metadata": {
    "executionInfo": {
     "elapsed": 754,
     "status": "ok",
     "timestamp": 1654048096697,
     "user": {
      "displayName": "Jeison Orlando Pinilla Alzate",
      "userId": "04405323006138165112"
     },
     "user_tz": 300
    },
    "id": "KLzd5UiV8M6z"
   },
   "outputs": [],
   "source": []
  },
  {
   "cell_type": "code",
   "execution_count": null,
   "id": "56wHBG-E8wdg",
   "metadata": {
    "colab": {
     "base_uri": "https://localhost:8080/"
    },
    "executionInfo": {
     "elapsed": 312,
     "status": "ok",
     "timestamp": 1654048175510,
     "user": {
      "displayName": "Jeison Orlando Pinilla Alzate",
      "userId": "04405323006138165112"
     },
     "user_tz": 300
    },
    "id": "56wHBG-E8wdg",
    "outputId": "3df4ce3a-be6a-4cce-bc4a-2304016366de"
   },
   "outputs": [],
   "source": []
  },
  {
   "cell_type": "code",
   "execution_count": null,
   "id": "-f2m_bhv9DkO",
   "metadata": {
    "executionInfo": {
     "elapsed": 328,
     "status": "ok",
     "timestamp": 1654048254794,
     "user": {
      "displayName": "Jeison Orlando Pinilla Alzate",
      "userId": "04405323006138165112"
     },
     "user_tz": 300
    },
    "id": "-f2m_bhv9DkO"
   },
   "outputs": [],
   "source": []
  },
  {
   "cell_type": "code",
   "execution_count": null,
   "id": "vlY-fcwZ9QHp",
   "metadata": {
    "colab": {
     "base_uri": "https://localhost:8080/",
     "height": 35
    },
    "executionInfo": {
     "elapsed": 355,
     "status": "ok",
     "timestamp": 1654048289548,
     "user": {
      "displayName": "Jeison Orlando Pinilla Alzate",
      "userId": "04405323006138165112"
     },
     "user_tz": 300
    },
    "id": "vlY-fcwZ9QHp",
    "outputId": "f2fb2209-7592-40ef-897d-9ce6dc28d308"
   },
   "outputs": [],
   "source": []
  },
  {
   "cell_type": "code",
   "execution_count": null,
   "id": "sh4QigN29fUV",
   "metadata": {
    "colab": {
     "base_uri": "https://localhost:8080/",
     "height": 70
    },
    "executionInfo": {
     "elapsed": 8728,
     "status": "ok",
     "timestamp": 1654048366069,
     "user": {
      "displayName": "Jeison Orlando Pinilla Alzate",
      "userId": "04405323006138165112"
     },
     "user_tz": 300
    },
    "id": "sh4QigN29fUV",
    "outputId": "3d2876c9-7883-474d-99b1-edf07b031ed8"
   },
   "outputs": [],
   "source": []
  },
  {
   "cell_type": "markdown",
   "id": "TCvk2g8d99vc",
   "metadata": {
    "id": "TCvk2g8d99vc"
   },
   "source": [
    "Crear una función que reciba el nombre de una fruta y se obtenga la cantidad de letras que  tiene la fruta y la letra que está en una posición dada."
   ]
  }
 ],
 "metadata": {
  "colab": {
   "name": "2. Guía_Segunda_clase_python.ipynb",
   "provenance": []
  },
  "kernelspec": {
   "display_name": "Python 3 (ipykernel)",
   "language": "python",
   "name": "python3"
  },
  "language_info": {
   "codemirror_mode": {
    "name": "ipython",
    "version": 3
   },
   "file_extension": ".py",
   "mimetype": "text/x-python",
   "name": "python",
   "nbconvert_exporter": "python",
   "pygments_lexer": "ipython3",
   "version": "3.11.0"
  }
 },
 "nbformat": 4,
 "nbformat_minor": 5
}
