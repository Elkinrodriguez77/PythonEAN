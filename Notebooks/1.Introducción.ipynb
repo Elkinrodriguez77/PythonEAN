{
 "cells": [
  {
   "cell_type": "markdown",
   "id": "4ceba61d",
   "metadata": {
    "id": "4ceba61d"
   },
   "source": [
    "# Modulo 1 conceptos básicos Variables, expresiones y Operaciones Básicas"
   ]
  },
  {
   "cell_type": "markdown",
   "id": "73327670",
   "metadata": {
    "id": "73327670"
   },
   "source": [
    "# Escalares"
   ]
  },
  {
   "cell_type": "markdown",
   "id": "878836b7",
   "metadata": {
    "id": "878836b7"
   },
   "source": [
    "Números que utilizamos normalmente para contar, medir, sumar,..."
   ]
  },
  {
   "cell_type": "code",
   "execution_count": 1,
   "id": "f912c2e7",
   "metadata": {},
   "outputs": [
    {
     "data": {
      "text/plain": [
       "5"
      ]
     },
     "execution_count": 1,
     "metadata": {},
     "output_type": "execute_result"
    }
   ],
   "source": [
    "5"
   ]
  },
  {
   "cell_type": "code",
   "execution_count": 2,
   "id": "806af285",
   "metadata": {},
   "outputs": [],
   "source": [
    "x=5\n",
    "y=10"
   ]
  },
  {
   "cell_type": "code",
   "execution_count": 3,
   "id": "8cb1246c",
   "metadata": {},
   "outputs": [
    {
     "data": {
      "text/plain": [
       "15"
      ]
     },
     "execution_count": 3,
     "metadata": {},
     "output_type": "execute_result"
    }
   ],
   "source": [
    "x+y"
   ]
  },
  {
   "cell_type": "markdown",
   "id": "203ee7cd",
   "metadata": {
    "id": "203ee7cd"
   },
   "source": [
    "### Operaciones Básicas"
   ]
  },
  {
   "cell_type": "code",
   "execution_count": 4,
   "id": "1e7849c7",
   "metadata": {},
   "outputs": [
    {
     "name": "stdout",
     "output_type": "stream",
     "text": [
      "suma y multiplicacion\n",
      "35\n"
     ]
    }
   ],
   "source": [
    "# Suma y multiplicación\n",
    "print(\"suma y multiplicacion\") # la comilla simple es más \"visible\"\n",
    "print(x+3*y)"
   ]
  },
  {
   "cell_type": "code",
   "execution_count": 5,
   "id": "d8833c72",
   "metadata": {},
   "outputs": [
    {
     "name": "stdout",
     "output_type": "stream",
     "text": [
      "División: 2.0\n"
     ]
    }
   ],
   "source": [
    "# División y uso del f string para concatenar texto más variables al mismo tiempo:\n",
    "print(f\"División: {y/x}\")"
   ]
  },
  {
   "cell_type": "code",
   "execution_count": 6,
   "id": "8525e00b",
   "metadata": {},
   "outputs": [
    {
     "name": "stdout",
     "output_type": "stream",
     "text": [
      "x elevado a la y, es igual a: 9765625\n",
      "x elevado a la y, es igual a: 9765625\n"
     ]
    }
   ],
   "source": [
    "# Potenciación\n",
    "# Modo 1:\n",
    "print(f\"x elevado a la y, es igual a: {x**y}\") # no es con el simbolo ^\n",
    "# Modo 2:\n",
    "print(f\"x elevado a la y, es igual a: {pow(x,y)}\")"
   ]
  },
  {
   "cell_type": "code",
   "execution_count": 7,
   "id": "d42e64c0",
   "metadata": {},
   "outputs": [
    {
     "name": "stdout",
     "output_type": "stream",
     "text": [
      "El cociente de x entre y es: 0\n",
      "El residuo de x entre y es: 5\n",
      "Cociente y residuo de x entre y (0, 5)\n"
     ]
    }
   ],
   "source": [
    "# Cociente\n",
    "print(f\"El cociente de x entre y es: {x//y}\")\n",
    "# Residuo\n",
    "print(f\"El residuo de x entre y es: {x%y}\")\n",
    "# Cociente y residuo al tiempo\n",
    "print(f\"Cociente y residuo de x entre y {divmod(x,y)}\") # hallar el residuo es encontrar el modulo"
   ]
  },
  {
   "cell_type": "markdown",
   "id": "818e81fc",
   "metadata": {
    "id": "818e81fc"
   },
   "source": [
    "## Libreria comandos de matematicas\n",
    "\n"
   ]
  },
  {
   "cell_type": "code",
   "execution_count": 8,
   "id": "31008c5b",
   "metadata": {},
   "outputs": [],
   "source": [
    "import math as m\n",
    "import numpy as np"
   ]
  },
  {
   "cell_type": "code",
   "execution_count": 9,
   "id": "e18ede94",
   "metadata": {},
   "outputs": [
    {
     "name": "stdout",
     "output_type": "stream",
     "text": [
      "la raiz cuadrada de 5 es igual a = 2.23606797749979\n"
     ]
    }
   ],
   "source": [
    "# Raiz cuadrada:\n",
    "print(f\"la raiz cuadrada de {x} es igual a = {m.sqrt(x)}\")"
   ]
  },
  {
   "cell_type": "code",
   "execution_count": 10,
   "id": "1c6a97cb",
   "metadata": {},
   "outputs": [
    {
     "name": "stdout",
     "output_type": "stream",
     "text": [
      "el seno de 5 es igual a = -0.9589242746631385\n"
     ]
    }
   ],
   "source": [
    "# Seno\n",
    "print(f\"el seno de {x} es igual a = {m.sin(x)}\")"
   ]
  },
  {
   "cell_type": "code",
   "execution_count": 11,
   "id": "11bb02a2",
   "metadata": {},
   "outputs": [
    {
     "data": {
      "text/plain": [
       "3.141592653589793"
      ]
     },
     "execution_count": 11,
     "metadata": {},
     "output_type": "execute_result"
    }
   ],
   "source": [
    "# Llamar pi\n",
    "\n",
    "np.pi"
   ]
  },
  {
   "cell_type": "markdown",
   "id": "3bdf7aa3",
   "metadata": {
    "id": "3bdf7aa3"
   },
   "source": [
    "### Funciones Trigonometricas"
   ]
  },
  {
   "cell_type": "code",
   "execution_count": 12,
   "id": "c68e5ecf",
   "metadata": {},
   "outputs": [
    {
     "name": "stdout",
     "output_type": "stream",
     "text": [
      "-0.7710802229758452\n",
      "-6.405331196646276\n"
     ]
    }
   ],
   "source": [
    "# Coseno:\n",
    "print(m.cos(59))\n",
    "# Tangente\n",
    "print(m.tan(30))"
   ]
  },
  {
   "cell_type": "markdown",
   "id": "e0d40e85",
   "metadata": {
    "id": "e0d40e85"
   },
   "source": [
    "## Operadores relacionales"
   ]
  },
  {
   "cell_type": "markdown",
   "id": "adf56b65",
   "metadata": {
    "id": "adf56b65"
   },
   "source": [
    "\n",
    "Nombre                | Operador        |Ejemplo\n",
    "-----------------------|-----------------|-----------------\n",
    "Mayor que              | >               | a >b     \n",
    "Menor que              | <               | a< b     \n",
    "Mayor o igual que      | >=              | a >=b   \n",
    "Menor o igual que      | <=              | a<= b   \n",
    "Igual a                | ==              | a ==b  \n",
    "Distinto de            | !=              | a !=b   \n"
   ]
  },
  {
   "cell_type": "code",
   "execution_count": 13,
   "id": "e2bbf25b",
   "metadata": {},
   "outputs": [
    {
     "name": "stdout",
     "output_type": "stream",
     "text": [
      "True\n",
      "False\n",
      "True\n"
     ]
    }
   ],
   "source": [
    "print(5 <= 10)\n",
    "print(7 >= 8)\n",
    "print('si'!='no')"
   ]
  },
  {
   "cell_type": "markdown",
   "id": "889b48c6",
   "metadata": {
    "id": "889b48c6"
   },
   "source": [
    "## Operadores lógicos o de conjunto"
   ]
  },
  {
   "cell_type": "markdown",
   "id": "7184205b",
   "metadata": {
    "id": "7184205b"
   },
   "source": [
    "|Nombre                                 | Operador   |símbolo\n",
    "----------------------------------------|------------|------------------\n",
    "|Interesección                        | y                | &, and     \n",
    "|Unión                                     | o                | ,or      \n",
    "|Negación                               | NO              | not  \n",
    "|Unión menos intersección  | o exclusivo |   ^  \n"
   ]
  },
  {
   "cell_type": "code",
   "execution_count": 21,
   "id": "67380ba7",
   "metadata": {},
   "outputs": [
    {
     "name": "stdout",
     "output_type": "stream",
     "text": [
      "False\n",
      "True\n",
      "True\n",
      "True\n"
     ]
    }
   ],
   "source": [
    "# Logica proposicional:\n",
    "print(4==8 & 3==3)\n",
    "print(4==8 or 3==3)\n",
    "print(not(4!=4))\n",
    "print((5<10)^(2==8/3)) # exclusivo es cierto, si solo uno es verdadero, si ambos son verdaderos o falsos, da falso."
   ]
  },
  {
   "cell_type": "markdown",
   "id": "2c914687",
   "metadata": {
    "id": "2c914687"
   },
   "source": [
    "## Operadores de asignación "
   ]
  },
  {
   "cell_type": "markdown",
   "id": "9e585552",
   "metadata": {
    "id": "9e585552"
   },
   "source": [
    "Símbolo  | Ejemplo \n",
    "-----------|-------\n",
    "a = b      | =\n",
    "a = a+1    | a+=1\n",
    "a = a-1    | a-=1\n",
    "a = a+b    | a+=b\n",
    "a = a-b    | a-=b\n",
    "a = a*b    | a*=b\n",
    "a = a/b    | a/=b\n",
    "a= a%b     | a%=b\n",
    "\n",
    "\n"
   ]
  },
  {
   "cell_type": "code",
   "execution_count": 27,
   "id": "f5cc525b",
   "metadata": {},
   "outputs": [],
   "source": [
    "# Python es un lenguaje que permnite reasignar el valor de sus variables, sin solicitarnos confirmación en caso que exista una variable ya creada con ese objeto, por ejemplo a continuación voy a cambiar el valor de una variable ya creada (x)\n",
    "x = 7"
   ]
  },
  {
   "cell_type": "code",
   "execution_count": 28,
   "id": "8ff911ab",
   "metadata": {},
   "outputs": [
    {
     "data": {
      "text/plain": [
       "8"
      ]
     },
     "execution_count": 28,
     "metadata": {},
     "output_type": "execute_result"
    }
   ],
   "source": [
    "# Teniendo en cuenta esto, si quiero modificar una variable creada, debo hacer lo siguiente:\n",
    "x = x+1\n",
    "x"
   ]
  },
  {
   "cell_type": "markdown",
   "id": "08fa5c82",
   "metadata": {
    "id": "08fa5c82"
   },
   "source": [
    "## Impresiones en pantalla"
   ]
  },
  {
   "cell_type": "code",
   "execution_count": 31,
   "id": "cacdc65d",
   "metadata": {},
   "outputs": [
    {
     "name": "stdout",
     "output_type": "stream",
     "text": [
      "Hola mundo\n"
     ]
    }
   ],
   "source": [
    "print('Hola mundo')"
   ]
  },
  {
   "cell_type": "code",
   "execution_count": 32,
   "id": "c99d9e83",
   "metadata": {},
   "outputs": [
    {
     "data": {
      "text/plain": [
       "'hola mundo'"
      ]
     },
     "metadata": {},
     "output_type": "display_data"
    }
   ],
   "source": [
    "display('hola mundo')"
   ]
  },
  {
   "cell_type": "code",
   "execution_count": 29,
   "id": "eb7e288a",
   "metadata": {},
   "outputs": [
    {
     "data": {
      "text/plain": [
       "9"
      ]
     },
     "execution_count": 29,
     "metadata": {},
     "output_type": "execute_result"
    }
   ],
   "source": [
    "# forma \"pro\":\n",
    "x+=1\n",
    "x"
   ]
  },
  {
   "cell_type": "code",
   "execution_count": 30,
   "id": "161f33eb",
   "metadata": {},
   "outputs": [
    {
     "data": {
      "text/plain": [
       "18"
      ]
     },
     "execution_count": 30,
     "metadata": {},
     "output_type": "execute_result"
    }
   ],
   "source": [
    "x*=2\n",
    "x"
   ]
  },
  {
   "cell_type": "markdown",
   "id": "1aa68628",
   "metadata": {
    "id": "1aa68628"
   },
   "source": [
    "## Entrada de datos"
   ]
  },
  {
   "cell_type": "code",
   "execution_count": 35,
   "id": "8c99b929",
   "metadata": {},
   "outputs": [
    {
     "data": {
      "text/plain": [
       "'Elkin'"
      ]
     },
     "execution_count": 35,
     "metadata": {},
     "output_type": "execute_result"
    }
   ],
   "source": [
    "nombre = str(input(\"Escriba su nombre: \"))\n",
    "nombre"
   ]
  },
  {
   "cell_type": "code",
   "execution_count": 36,
   "id": "7dcee60c",
   "metadata": {},
   "outputs": [
    {
     "data": {
      "text/plain": [
       "str"
      ]
     },
     "execution_count": 36,
     "metadata": {},
     "output_type": "execute_result"
    }
   ],
   "source": [
    "type(nombre)"
   ]
  },
  {
   "cell_type": "markdown",
   "id": "6b9c9794",
   "metadata": {
    "id": "6b9c9794"
   },
   "source": [
    "# Objetos en python"
   ]
  },
  {
   "cell_type": "markdown",
   "id": "17e6a220",
   "metadata": {
    "id": "17e6a220"
   },
   "source": [
    "Un objeto es un elemento que tiene un nombre, un valor y un tipo. El tipo lo hereda del valor que toma"
   ]
  },
  {
   "cell_type": "code",
   "execution_count": 37,
   "id": "2037da9a",
   "metadata": {},
   "outputs": [],
   "source": [
    "x=5"
   ]
  },
  {
   "cell_type": "code",
   "execution_count": 38,
   "id": "6b9e9871",
   "metadata": {},
   "outputs": [
    {
     "data": {
      "text/plain": [
       "int"
      ]
     },
     "execution_count": 38,
     "metadata": {},
     "output_type": "execute_result"
    }
   ],
   "source": [
    "type(5)"
   ]
  },
  {
   "cell_type": "code",
   "execution_count": 39,
   "id": "cfea96c9",
   "metadata": {},
   "outputs": [],
   "source": [
    "x='hola'"
   ]
  },
  {
   "cell_type": "code",
   "execution_count": 41,
   "id": "946ea09f",
   "metadata": {},
   "outputs": [
    {
     "data": {
      "text/plain": [
       "str"
      ]
     },
     "execution_count": 41,
     "metadata": {},
     "output_type": "execute_result"
    }
   ],
   "source": [
    "type(x)\n",
    "# al ser el objeto, el tipado es dinámico, de acuerdo a la variable asignada."
   ]
  },
  {
   "cell_type": "code",
   "execution_count": 43,
   "id": "910d18d1",
   "metadata": {},
   "outputs": [
    {
     "data": {
      "text/plain": [
       "str"
      ]
     },
     "execution_count": 43,
     "metadata": {},
     "output_type": "execute_result"
    }
   ],
   "source": [
    "# cambiar tipo de datos\n",
    "x=10\n",
    "x = str(x)\n",
    "type(x)"
   ]
  },
  {
   "cell_type": "markdown",
   "id": "f8999fe1",
   "metadata": {
    "id": "f8999fe1"
   },
   "source": [
    "## Tipos de datos"
   ]
  },
  {
   "cell_type": "markdown",
   "id": "b2301672",
   "metadata": {
    "id": "b2301672"
   },
   "source": [
    "#### Enteros: \n",
    "Son variables que guardan números enteros.\n"
   ]
  },
  {
   "cell_type": "code",
   "execution_count": 1,
   "id": "40b1f911",
   "metadata": {},
   "outputs": [
    {
     "name": "stdout",
     "output_type": "stream",
     "text": [
      "la sumatoria de los números 5 + 7 es igual 12\n"
     ]
    }
   ],
   "source": [
    "numero1 = int(input(\"Ingresa el primer número: \"))\n",
    "numero2 = int(input(\"Ingresa el segundo número: \"))\n",
    "print(f\"la sumatoria de los números {numero1} + {numero2} es igual {numero1 + numero2}\")"
   ]
  },
  {
   "cell_type": "markdown",
   "id": "b3e9d075",
   "metadata": {
    "id": "b3e9d075"
   },
   "source": [
    "### Float: \n",
    "Números decimales"
   ]
  },
  {
   "cell_type": "markdown",
   "id": "a94e472e",
   "metadata": {
    "id": "a94e472e"
   },
   "source": [
    "  Especificador | Salida mostrada \n",
    " -------|-------\n",
    "d ó i| Entero con signo \n",
    "u| Entero sin signo \n",
    "f| Décimal de punto flotante \n",
    "e| Notación científica \n",
    "g| Representación corta \n",
    "c| Caracter\n",
    "s| Cadena de caracteres"
   ]
  },
  {
   "cell_type": "code",
   "execution_count": 4,
   "id": "667727fd",
   "metadata": {},
   "outputs": [
    {
     "name": "stdout",
     "output_type": "stream",
     "text": [
      "0.3333333333333333\n"
     ]
    },
    {
     "data": {
      "text/plain": [
       "float"
      ]
     },
     "execution_count": 4,
     "metadata": {},
     "output_type": "execute_result"
    }
   ],
   "source": [
    "y = 1/3\n",
    "print(y)\n",
    "type(y)"
   ]
  },
  {
   "cell_type": "code",
   "execution_count": 6,
   "id": "cb517170",
   "metadata": {},
   "outputs": [
    {
     "name": "stdout",
     "output_type": "stream",
     "text": [
      "Esta es una aproximación del número 1/3: 0.3333\n"
     ]
    }
   ],
   "source": [
    "print(f\"Esta es una aproximación del número 1/3: {y:.4f}\")"
   ]
  },
  {
   "cell_type": "code",
   "execution_count": 10,
   "id": "a0b61777",
   "metadata": {},
   "outputs": [
    {
     "name": "stdout",
     "output_type": "stream",
     "text": [
      "0.33 es una aproximación del número 1/3: \n"
     ]
    }
   ],
   "source": [
    "print(f\"%.2f es una aproximación del número 1/3: \" %y) # f de float"
   ]
  },
  {
   "cell_type": "code",
   "execution_count": 12,
   "id": "a361c85a",
   "metadata": {},
   "outputs": [
    {
     "name": "stdout",
     "output_type": "stream",
     "text": [
      "3.33e-01 es una aproximación cientifica del número 1/3: \n"
     ]
    }
   ],
   "source": [
    "print(f\"%.2e es una aproximación cientifica del número 1/3: \" %y) # e de notación cientifica"
   ]
  },
  {
   "cell_type": "markdown",
   "id": "e04cfbdb",
   "metadata": {
    "id": "e04cfbdb"
   },
   "source": [
    "### Tipo booleano : \n",
    "Toma los valores de falso o verdadero"
   ]
  },
  {
   "cell_type": "code",
   "execution_count": 5,
   "id": "b96505b3",
   "metadata": {},
   "outputs": [
    {
     "name": "stdout",
     "output_type": "stream",
     "text": [
      "Existen tipos de datos Verdadero True o Falso False\n"
     ]
    }
   ],
   "source": [
    "v = True\n",
    "f = False\n",
    "\n",
    "print(f\"Existen tipos de datos Verdadero {v} o Falso {f}\")\n"
   ]
  },
  {
   "cell_type": "markdown",
   "id": "aac8deac",
   "metadata": {
    "id": "aac8deac"
   },
   "source": [
    "### String: Cadenas de caracteres."
   ]
  },
  {
   "cell_type": "code",
   "execution_count": 13,
   "id": "7c70b309",
   "metadata": {},
   "outputs": [
    {
     "name": "stdout",
     "output_type": "stream",
     "text": [
      "Hola mundo\n"
     ]
    }
   ],
   "source": [
    "st = \"Hola mundo\"\n",
    "print(st)"
   ]
  },
  {
   "cell_type": "markdown",
   "id": "bc6f6904",
   "metadata": {
    "id": "bc6f6904"
   },
   "source": [
    "### Listas"
   ]
  },
  {
   "cell_type": "markdown",
   "id": "1023dbb1",
   "metadata": {
    "id": "1023dbb1"
   },
   "source": [
    "Secuencias de longitud variable. Son mutables ya que los elementos que las conforman pueden modificarse."
   ]
  },
  {
   "cell_type": "code",
   "execution_count": 14,
   "id": "2d73c6e4",
   "metadata": {},
   "outputs": [
    {
     "name": "stdout",
     "output_type": "stream",
     "text": [
      "[3, 5, 8]\n"
     ]
    }
   ],
   "source": [
    "Lista1 = [3,5,8]\n",
    "print(Lista1)"
   ]
  },
  {
   "cell_type": "code",
   "execution_count": 18,
   "id": "957dd70e",
   "metadata": {},
   "outputs": [
    {
     "name": "stdout",
     "output_type": "stream",
     "text": [
      "['Manzana', 'Limon', 'Banano']\n"
     ]
    }
   ],
   "source": [
    "Lista2 = [\"Manzana\",\"Limon\", \"Banano\"]\n",
    "print(Lista2)"
   ]
  },
  {
   "cell_type": "code",
   "execution_count": 16,
   "id": "e9c8d252",
   "metadata": {},
   "outputs": [
    {
     "data": {
      "text/plain": [
       "3"
      ]
     },
     "execution_count": 16,
     "metadata": {},
     "output_type": "execute_result"
    }
   ],
   "source": [
    "# Longitud de lista:\n",
    "\n",
    "len(Lista2)"
   ]
  },
  {
   "cell_type": "markdown",
   "id": "9799ab69",
   "metadata": {
    "id": "9799ab69"
   },
   "source": [
    "## Funciones con listas"
   ]
  },
  {
   "cell_type": "markdown",
   "id": "0093b521",
   "metadata": {
    "id": "0093b521"
   },
   "source": [
    "Longitud de una lista"
   ]
  },
  {
   "cell_type": "code",
   "execution_count": 17,
   "id": "2675d31e",
   "metadata": {},
   "outputs": [
    {
     "data": {
      "text/plain": [
       "3"
      ]
     },
     "execution_count": 17,
     "metadata": {},
     "output_type": "execute_result"
    }
   ],
   "source": [
    "len(Lista2)"
   ]
  },
  {
   "cell_type": "markdown",
   "id": "463239ee",
   "metadata": {
    "id": "463239ee"
   },
   "source": [
    "Agregar un elemento a la lista"
   ]
  },
  {
   "cell_type": "code",
   "execution_count": 19,
   "id": "3da94b4c",
   "metadata": {},
   "outputs": [
    {
     "name": "stdout",
     "output_type": "stream",
     "text": [
      "['Manzana', 'Limon', 'Banano', 'Coco']\n"
     ]
    }
   ],
   "source": [
    "Lista2.append(\"Coco\")\n",
    "print(Lista2)"
   ]
  },
  {
   "cell_type": "markdown",
   "id": "64a1cab6",
   "metadata": {
    "id": "64a1cab6"
   },
   "source": [
    "Unir los elementos de dos listas"
   ]
  },
  {
   "cell_type": "code",
   "execution_count": 21,
   "id": "7fe497f2",
   "metadata": {},
   "outputs": [
    {
     "name": "stdout",
     "output_type": "stream",
     "text": [
      "['Manzana', 'Limon', 'Banano', 'Coco', ['Fresa', 'Banano']]\n"
     ]
    }
   ],
   "source": [
    "Lista2.append([\"Fresa\", \"Banano\"]) # append solo funciona para un elemento\n",
    "print(Lista2)"
   ]
  },
  {
   "cell_type": "code",
   "execution_count": 23,
   "id": "3c99951f",
   "metadata": {},
   "outputs": [
    {
     "name": "stdout",
     "output_type": "stream",
     "text": [
      "['Manzana', 'Limon', 'Banano', 'Coco', ['Fresa', 'Banano'], 'Fresa', 'Banano']\n"
     ]
    }
   ],
   "source": [
    "Lista2.extend([\"Fresa\", \"Banano\"]) # Extend si agrega elemento a elemento\n",
    "print(Lista2)"
   ]
  },
  {
   "cell_type": "markdown",
   "id": "034d2e98",
   "metadata": {
    "id": "034d2e98"
   },
   "source": [
    "Acceder al último elemento de la lista"
   ]
  },
  {
   "cell_type": "code",
   "execution_count": 24,
   "id": "e407a3bc",
   "metadata": {},
   "outputs": [
    {
     "data": {
      "text/plain": [
       "'Manzana'"
      ]
     },
     "execution_count": 24,
     "metadata": {},
     "output_type": "execute_result"
    }
   ],
   "source": [
    "Lista2[0]"
   ]
  },
  {
   "cell_type": "code",
   "execution_count": 25,
   "id": "9a2d2d48",
   "metadata": {},
   "outputs": [
    {
     "data": {
      "text/plain": [
       "['Fresa', 'Banano']"
      ]
     },
     "execution_count": 25,
     "metadata": {},
     "output_type": "execute_result"
    }
   ],
   "source": [
    "Lista2[4]"
   ]
  },
  {
   "cell_type": "code",
   "execution_count": 26,
   "id": "204620e2",
   "metadata": {},
   "outputs": [
    {
     "data": {
      "text/plain": [
       "'Banano'"
      ]
     },
     "execution_count": 26,
     "metadata": {},
     "output_type": "execute_result"
    }
   ],
   "source": [
    "Lista2[-1]"
   ]
  },
  {
   "cell_type": "code",
   "execution_count": 28,
   "id": "a21510e9",
   "metadata": {},
   "outputs": [
    {
     "data": {
      "text/plain": [
       "'Banano'"
      ]
     },
     "execution_count": 28,
     "metadata": {},
     "output_type": "execute_result"
    }
   ],
   "source": [
    "Lista2[len(Lista2)-1]"
   ]
  },
  {
   "cell_type": "markdown",
   "id": "83ad4aa2",
   "metadata": {
    "id": "83ad4aa2"
   },
   "source": [
    "Insertar un elemento en cualquier posición"
   ]
  },
  {
   "cell_type": "code",
   "execution_count": 29,
   "id": "a29f132c",
   "metadata": {},
   "outputs": [],
   "source": [
    "# insertar un elemento en la posición 2\n",
    "\n",
    "Lista2.insert(2,\"Kiwi\")"
   ]
  },
  {
   "cell_type": "code",
   "execution_count": 30,
   "id": "fbf3c3c5",
   "metadata": {},
   "outputs": [
    {
     "data": {
      "text/plain": [
       "['Manzana',\n",
       " 'Limon',\n",
       " 'Kiwi',\n",
       " 'Banano',\n",
       " 'Coco',\n",
       " ['Fresa', 'Banano'],\n",
       " 'Fresa',\n",
       " 'Banano']"
      ]
     },
     "execution_count": 30,
     "metadata": {},
     "output_type": "execute_result"
    }
   ],
   "source": [
    "Lista2"
   ]
  },
  {
   "cell_type": "markdown",
   "id": "74d42b8e",
   "metadata": {
    "id": "74d42b8e"
   },
   "source": [
    "Quitar elementos"
   ]
  },
  {
   "cell_type": "code",
   "execution_count": 32,
   "id": "b6769120",
   "metadata": {},
   "outputs": [
    {
     "data": {
      "text/plain": [
       "['Manzana', 'Limon', 'Kiwi', 'Coco', ['Fresa', 'Banano'], 'Fresa', 'Banano']"
      ]
     },
     "execution_count": 32,
     "metadata": {},
     "output_type": "execute_result"
    }
   ],
   "source": [
    "Lista2.pop(3)\n",
    "Lista2"
   ]
  },
  {
   "cell_type": "markdown",
   "id": "42fbc26d",
   "metadata": {
    "id": "42fbc26d"
   },
   "source": [
    "Quitar elemento con cierto valor"
   ]
  },
  {
   "cell_type": "code",
   "execution_count": 33,
   "id": "60000c42",
   "metadata": {},
   "outputs": [
    {
     "data": {
      "text/plain": [
       "['Manzana', 'Limon', 'Kiwi', 'Coco', ['Fresa', 'Banano'], 'Banano']"
      ]
     },
     "execution_count": 33,
     "metadata": {},
     "output_type": "execute_result"
    }
   ],
   "source": [
    "Lista2.remove(\"Fresa\")\n",
    "Lista2"
   ]
  },
  {
   "cell_type": "markdown",
   "id": "802bfa71",
   "metadata": {
    "id": "802bfa71"
   },
   "source": [
    "Verificar si un elemento está en lista"
   ]
  },
  {
   "cell_type": "code",
   "execution_count": 35,
   "id": "e807095f",
   "metadata": {},
   "outputs": [
    {
     "data": {
      "text/plain": [
       "False"
      ]
     },
     "execution_count": 35,
     "metadata": {},
     "output_type": "execute_result"
    }
   ],
   "source": [
    "\"Kiwi\" not in Lista2"
   ]
  },
  {
   "cell_type": "code",
   "execution_count": 36,
   "id": "38015c6b",
   "metadata": {},
   "outputs": [
    {
     "data": {
      "text/plain": [
       "3"
      ]
     },
     "execution_count": 36,
     "metadata": {},
     "output_type": "execute_result"
    }
   ],
   "source": [
    "Lista2.index(\"Coco\")"
   ]
  },
  {
   "cell_type": "markdown",
   "id": "1e30e8d7",
   "metadata": {
    "id": "1e30e8d7"
   },
   "source": [
    "Ordenar listas de manera ascendente"
   ]
  },
  {
   "cell_type": "code",
   "execution_count": 38,
   "id": "88d9a3cc",
   "metadata": {},
   "outputs": [
    {
     "data": {
      "text/plain": [
       "[['Fresa', 'Banano'], 'Kiwi', 'Coco', 'Limon', 'Banano', 'Manzana']"
      ]
     },
     "execution_count": 38,
     "metadata": {},
     "output_type": "execute_result"
    }
   ],
   "source": [
    "Lista2.sort(key=len) # ordena de acuerdo a longitud cuando sea string\n",
    "Lista2"
   ]
  },
  {
   "cell_type": "markdown",
   "id": "cad4f064",
   "metadata": {
    "id": "cad4f064"
   },
   "source": [
    "Ordenar listas de forma descendente"
   ]
  },
  {
   "cell_type": "code",
   "execution_count": 50,
   "id": "f4070315",
   "metadata": {},
   "outputs": [
    {
     "data": {
      "text/plain": [
       "['Manzana', 'Limon', 'Kiwi', 'Coco', ['Fresa', 'Banano'], 'Banano']"
      ]
     },
     "execution_count": 50,
     "metadata": {},
     "output_type": "execute_result"
    }
   ],
   "source": [
    "Lista2.sort(key=sorted, reverse=True) # el reverse define si es asc o desc\n",
    "Lista2"
   ]
  },
  {
   "cell_type": "markdown",
   "id": "03a6bc1e",
   "metadata": {
    "id": "03a6bc1e"
   },
   "source": [
    "Ordenar por cantidad de caracteres"
   ]
  },
  {
   "cell_type": "code",
   "execution_count": 51,
   "id": "db7f7ff9",
   "metadata": {},
   "outputs": [
    {
     "data": {
      "text/plain": [
       "[['Fresa', 'Banano'], 'Kiwi', 'Coco', 'Limon', 'Banano', 'Manzana']"
      ]
     },
     "execution_count": 51,
     "metadata": {},
     "output_type": "execute_result"
    }
   ],
   "source": [
    "Lista2.sort(key=len) # ordena de acuerdo a longitud cuando sea string\n",
    "Lista2"
   ]
  },
  {
   "cell_type": "markdown",
   "id": "26c95f03",
   "metadata": {
    "id": "26c95f03"
   },
   "source": [
    "Numerar las listas"
   ]
  },
  {
   "cell_type": "code",
   "execution_count": 55,
   "id": "99804ee9",
   "metadata": {},
   "outputs": [
    {
     "data": {
      "text/plain": [
       "[(0, ['Fresa', 'Banano']),\n",
       " (1, 'Kiwi'),\n",
       " (2, 'Coco'),\n",
       " (3, 'Limon'),\n",
       " (4, 'Banano'),\n",
       " (5, 'Manzana')]"
      ]
     },
     "execution_count": 55,
     "metadata": {},
     "output_type": "execute_result"
    }
   ],
   "source": [
    "list(enumerate(Lista2))"
   ]
  },
  {
   "cell_type": "markdown",
   "id": "3abf0a12",
   "metadata": {
    "id": "3abf0a12"
   },
   "source": [
    "Emparejar listas"
   ]
  },
  {
   "cell_type": "code",
   "execution_count": 56,
   "id": "7ce862ca",
   "metadata": {},
   "outputs": [],
   "source": [
    "nombres = [\"Paola\",\"Pedro\",\"Juan\",\"Dario\"]\n",
    "Apellidos = [\"Arevalo\",\"Bautista\",\"Gomez\",\"Rodriguez\"]"
   ]
  },
  {
   "cell_type": "code",
   "execution_count": 58,
   "id": "97854538",
   "metadata": {},
   "outputs": [
    {
     "data": {
      "text/plain": [
       "[('Paola', 'Arevalo'),\n",
       " ('Pedro', 'Bautista'),\n",
       " ('Juan', 'Gomez'),\n",
       " ('Dario', 'Rodriguez')]"
      ]
     },
     "execution_count": 58,
     "metadata": {},
     "output_type": "execute_result"
    }
   ],
   "source": [
    "list(zip(nombres,Apellidos))"
   ]
  },
  {
   "cell_type": "markdown",
   "id": "2e89e493",
   "metadata": {
    "id": "2e89e493"
   },
   "source": [
    "Desempaquetar una lista"
   ]
  },
  {
   "cell_type": "code",
   "execution_count": 60,
   "id": "d3d56b2b",
   "metadata": {},
   "outputs": [],
   "source": [
    "a,b,c = [2,3,5]"
   ]
  },
  {
   "cell_type": "code",
   "execution_count": 63,
   "id": "20108cd7",
   "metadata": {},
   "outputs": [
    {
     "data": {
      "text/plain": [
       "2"
      ]
     },
     "execution_count": 63,
     "metadata": {},
     "output_type": "execute_result"
    }
   ],
   "source": [
    "a"
   ]
  },
  {
   "cell_type": "markdown",
   "id": "aa41b4a9",
   "metadata": {
    "id": "aa41b4a9"
   },
   "source": [
    "Lista con rango de números"
   ]
  },
  {
   "cell_type": "markdown",
   "id": "15454536",
   "metadata": {
    "id": "15454536"
   },
   "source": [
    "### Tuplas"
   ]
  },
  {
   "cell_type": "markdown",
   "id": "a7ceba60",
   "metadata": {
    "id": "a7ceba60"
   },
   "source": [
    "Son secuencias de longitud fija. No son mutables."
   ]
  },
  {
   "cell_type": "markdown",
   "id": "97533ab9",
   "metadata": {
    "id": "97533ab9"
   },
   "source": [
    "### Fechas "
   ]
  }
 ],
 "metadata": {
  "colab": {
   "name": "Guía_Primera_clase_python.ipynb",
   "provenance": []
  },
  "kernelspec": {
   "display_name": "Python 3 (ipykernel)",
   "language": "python",
   "name": "python3"
  },
  "language_info": {
   "codemirror_mode": {
    "name": "ipython",
    "version": 3
   },
   "file_extension": ".py",
   "mimetype": "text/x-python",
   "name": "python",
   "nbconvert_exporter": "python",
   "pygments_lexer": "ipython3",
   "version": "3.11.0"
  }
 },
 "nbformat": 4,
 "nbformat_minor": 5
}
