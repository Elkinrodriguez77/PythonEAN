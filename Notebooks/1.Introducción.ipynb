{
 "cells": [
  {
   "cell_type": "markdown",
   "id": "4ceba61d",
   "metadata": {
    "id": "4ceba61d"
   },
   "source": [
    "# Modulo 1 conceptos básicos Variables, expresiones y Operaciones Básicas"
   ]
  },
  {
   "cell_type": "markdown",
   "id": "73327670",
   "metadata": {
    "id": "73327670"
   },
   "source": [
    "# Escalares"
   ]
  },
  {
   "cell_type": "markdown",
   "id": "878836b7",
   "metadata": {
    "id": "878836b7"
   },
   "source": [
    "Números que utilizamos normalmente para contar, medir, sumar,..."
   ]
  },
  {
   "cell_type": "code",
   "execution_count": 1,
   "id": "f912c2e7",
   "metadata": {},
   "outputs": [
    {
     "data": {
      "text/plain": [
       "5"
      ]
     },
     "execution_count": 1,
     "metadata": {},
     "output_type": "execute_result"
    }
   ],
   "source": [
    "5"
   ]
  },
  {
   "cell_type": "code",
   "execution_count": 2,
   "id": "806af285",
   "metadata": {},
   "outputs": [],
   "source": [
    "x=5\n",
    "y=10"
   ]
  },
  {
   "cell_type": "code",
   "execution_count": 3,
   "id": "8cb1246c",
   "metadata": {},
   "outputs": [
    {
     "data": {
      "text/plain": [
       "15"
      ]
     },
     "execution_count": 3,
     "metadata": {},
     "output_type": "execute_result"
    }
   ],
   "source": [
    "x+y"
   ]
  },
  {
   "cell_type": "markdown",
   "id": "203ee7cd",
   "metadata": {
    "id": "203ee7cd"
   },
   "source": [
    "### Operaciones Básicas"
   ]
  },
  {
   "cell_type": "code",
   "execution_count": 4,
   "id": "1e7849c7",
   "metadata": {},
   "outputs": [
    {
     "name": "stdout",
     "output_type": "stream",
     "text": [
      "suma y multiplicacion\n",
      "35\n"
     ]
    }
   ],
   "source": [
    "# Suma y multiplicación\n",
    "print(\"suma y multiplicacion\") # la comilla simple es más \"visible\"\n",
    "print(x+3*y)"
   ]
  },
  {
   "cell_type": "code",
   "execution_count": 5,
   "id": "d8833c72",
   "metadata": {},
   "outputs": [
    {
     "name": "stdout",
     "output_type": "stream",
     "text": [
      "División: 2.0\n"
     ]
    }
   ],
   "source": [
    "# División y uso del f string para concatenar texto más variables al mismo tiempo:\n",
    "print(f\"División: {y/x}\")"
   ]
  },
  {
   "cell_type": "code",
   "execution_count": 6,
   "id": "8525e00b",
   "metadata": {},
   "outputs": [
    {
     "name": "stdout",
     "output_type": "stream",
     "text": [
      "x elevado a la y, es igual a: 9765625\n",
      "x elevado a la y, es igual a: 9765625\n"
     ]
    }
   ],
   "source": [
    "# Potenciación\n",
    "# Modo 1:\n",
    "print(f\"x elevado a la y, es igual a: {x**y}\") # no es con el simbolo ^\n",
    "# Modo 2:\n",
    "print(f\"x elevado a la y, es igual a: {pow(x,y)}\")"
   ]
  },
  {
   "cell_type": "code",
   "execution_count": 7,
   "id": "d42e64c0",
   "metadata": {},
   "outputs": [
    {
     "name": "stdout",
     "output_type": "stream",
     "text": [
      "El cociente de x entre y es: 0\n",
      "El residuo de x entre y es: 5\n",
      "Cociente y residuo de x entre y (0, 5)\n"
     ]
    }
   ],
   "source": [
    "# Cociente\n",
    "print(f\"El cociente de x entre y es: {x//y}\")\n",
    "# Residuo\n",
    "print(f\"El residuo de x entre y es: {x%y}\")\n",
    "# Cociente y residuo al tiempo\n",
    "print(f\"Cociente y residuo de x entre y {divmod(x,y)}\") # hallar el residuo es encontrar el modulo"
   ]
  },
  {
   "cell_type": "markdown",
   "id": "818e81fc",
   "metadata": {
    "id": "818e81fc"
   },
   "source": [
    "## Libreria comandos de matematicas\n",
    "\n"
   ]
  },
  {
   "cell_type": "code",
   "execution_count": 8,
   "id": "31008c5b",
   "metadata": {},
   "outputs": [],
   "source": [
    "import math as m\n",
    "import numpy as np"
   ]
  },
  {
   "cell_type": "code",
   "execution_count": 9,
   "id": "e18ede94",
   "metadata": {},
   "outputs": [
    {
     "name": "stdout",
     "output_type": "stream",
     "text": [
      "la raiz cuadrada de 5 es igual a = 2.23606797749979\n"
     ]
    }
   ],
   "source": [
    "# Raiz cuadrada:\n",
    "print(f\"la raiz cuadrada de {x} es igual a = {m.sqrt(x)}\")"
   ]
  },
  {
   "cell_type": "code",
   "execution_count": 10,
   "id": "1c6a97cb",
   "metadata": {},
   "outputs": [
    {
     "name": "stdout",
     "output_type": "stream",
     "text": [
      "el seno de 5 es igual a = -0.9589242746631385\n"
     ]
    }
   ],
   "source": [
    "# Seno\n",
    "print(f\"el seno de {x} es igual a = {m.sin(x)}\")"
   ]
  },
  {
   "cell_type": "code",
   "execution_count": 11,
   "id": "11bb02a2",
   "metadata": {},
   "outputs": [
    {
     "data": {
      "text/plain": [
       "3.141592653589793"
      ]
     },
     "execution_count": 11,
     "metadata": {},
     "output_type": "execute_result"
    }
   ],
   "source": [
    "# Llamar pi\n",
    "\n",
    "np.pi"
   ]
  },
  {
   "cell_type": "markdown",
   "id": "3bdf7aa3",
   "metadata": {
    "id": "3bdf7aa3"
   },
   "source": [
    "### Funciones Trigonometricas"
   ]
  },
  {
   "cell_type": "code",
   "execution_count": 12,
   "id": "c68e5ecf",
   "metadata": {},
   "outputs": [
    {
     "name": "stdout",
     "output_type": "stream",
     "text": [
      "-0.7710802229758452\n",
      "-6.405331196646276\n"
     ]
    }
   ],
   "source": [
    "# Coseno:\n",
    "print(m.cos(59))\n",
    "# Tangente\n",
    "print(m.tan(30))"
   ]
  },
  {
   "cell_type": "markdown",
   "id": "e0d40e85",
   "metadata": {
    "id": "e0d40e85"
   },
   "source": [
    "## Operadores relacionales"
   ]
  },
  {
   "cell_type": "markdown",
   "id": "adf56b65",
   "metadata": {
    "id": "adf56b65"
   },
   "source": [
    "\n",
    "Nombre                | Operador        |Ejemplo\n",
    "-----------------------|-----------------|-----------------\n",
    "Mayor que              | >               | a >b     \n",
    "Menor que              | <               | a< b     \n",
    "Mayor o igual que      | >=              | a >=b   \n",
    "Menor o igual que      | <=              | a<= b   \n",
    "Igual a                | ==              | a ==b  \n",
    "Distinto de            | !=              | a !=b   \n"
   ]
  },
  {
   "cell_type": "code",
   "execution_count": 13,
   "id": "e2bbf25b",
   "metadata": {},
   "outputs": [
    {
     "name": "stdout",
     "output_type": "stream",
     "text": [
      "True\n",
      "False\n",
      "True\n"
     ]
    }
   ],
   "source": [
    "print(5 <= 10)\n",
    "print(7 >= 8)\n",
    "print('si'!='no')"
   ]
  },
  {
   "cell_type": "markdown",
   "id": "889b48c6",
   "metadata": {
    "id": "889b48c6"
   },
   "source": [
    "## Operadores lógicos o de conjunto"
   ]
  },
  {
   "cell_type": "markdown",
   "id": "7184205b",
   "metadata": {
    "id": "7184205b"
   },
   "source": [
    "|Nombre                                 | Operador   |símbolo\n",
    "----------------------------------------|------------|------------------\n",
    "|Interesección                        | y                | &, and     \n",
    "|Unión                                     | o                | ,or      \n",
    "|Negación                               | NO              | not  \n",
    "|Unión menos intersección  | o exclusivo |   ^  \n"
   ]
  },
  {
   "cell_type": "code",
   "execution_count": 21,
   "id": "67380ba7",
   "metadata": {},
   "outputs": [
    {
     "name": "stdout",
     "output_type": "stream",
     "text": [
      "False\n",
      "True\n",
      "True\n",
      "True\n"
     ]
    }
   ],
   "source": [
    "# Logica proposicional:\n",
    "print(4==8 & 3==3)\n",
    "print(4==8 or 3==3)\n",
    "print(not(4!=4))\n",
    "print((5<10)^(2==8/3)) # exclusivo es cierto, si solo uno es verdadero, si ambos son verdaderos o falsos, da falso."
   ]
  },
  {
   "cell_type": "markdown",
   "id": "2c914687",
   "metadata": {
    "id": "2c914687"
   },
   "source": [
    "## Operadores de asignación "
   ]
  },
  {
   "cell_type": "markdown",
   "id": "9e585552",
   "metadata": {
    "id": "9e585552"
   },
   "source": [
    "Símbolo  | Ejemplo \n",
    "-----------|-------\n",
    "a = b      | =\n",
    "a = a+1    | a+=1\n",
    "a = a-1    | a-=1\n",
    "a = a+b    | a+=b\n",
    "a = a-b    | a-=b\n",
    "a = a*b    | a*=b\n",
    "a = a/b    | a/=b\n",
    "a= a%b     | a%=b\n",
    "\n",
    "\n"
   ]
  },
  {
   "cell_type": "markdown",
   "id": "08fa5c82",
   "metadata": {
    "id": "08fa5c82"
   },
   "source": [
    "## Impresiones en pantalla"
   ]
  },
  {
   "cell_type": "markdown",
   "id": "1aa68628",
   "metadata": {
    "id": "1aa68628"
   },
   "source": [
    "## Entrada de datos"
   ]
  },
  {
   "cell_type": "markdown",
   "id": "6b9c9794",
   "metadata": {
    "id": "6b9c9794"
   },
   "source": [
    "# Objetos en python"
   ]
  },
  {
   "cell_type": "markdown",
   "id": "17e6a220",
   "metadata": {
    "id": "17e6a220"
   },
   "source": [
    "Un objeto es un elemento que tiene un nombre, un valor y un tipo. El tipo lo hereda del valor que toma"
   ]
  },
  {
   "cell_type": "markdown",
   "id": "f8999fe1",
   "metadata": {
    "id": "f8999fe1"
   },
   "source": [
    "## Tipos de datos"
   ]
  },
  {
   "cell_type": "markdown",
   "id": "b2301672",
   "metadata": {
    "id": "b2301672"
   },
   "source": [
    "#### Enteros: \n",
    "Son variables que guardan números enteros.\n"
   ]
  },
  {
   "cell_type": "markdown",
   "id": "b3e9d075",
   "metadata": {
    "id": "b3e9d075"
   },
   "source": [
    "### Float: \n",
    "Números decimales"
   ]
  },
  {
   "cell_type": "markdown",
   "id": "a94e472e",
   "metadata": {
    "id": "a94e472e"
   },
   "source": [
    "  Especificador | Salida mostrada \n",
    " -------|-------\n",
    "d ó i| Entero con signo \n",
    "u| Entero sin signo \n",
    "f| Décimal de punto flotante \n",
    "e| Notación científica \n",
    "g| Representación corta \n",
    "c| Caracter\n",
    "s| Cadena de caracteres"
   ]
  },
  {
   "cell_type": "markdown",
   "id": "e04cfbdb",
   "metadata": {
    "id": "e04cfbdb"
   },
   "source": [
    "### Tipo booleano : \n",
    "Toma los valores de falso o verdadero"
   ]
  },
  {
   "cell_type": "markdown",
   "id": "aac8deac",
   "metadata": {
    "id": "aac8deac"
   },
   "source": [
    "### String: Cadenas de caracteres."
   ]
  },
  {
   "cell_type": "markdown",
   "id": "bc6f6904",
   "metadata": {
    "id": "bc6f6904"
   },
   "source": [
    "### Listas"
   ]
  },
  {
   "cell_type": "markdown",
   "id": "1023dbb1",
   "metadata": {
    "id": "1023dbb1"
   },
   "source": [
    "Secuencias de longitud variable. Son mutables ya que los elementos que las conforman pueden modificarse."
   ]
  },
  {
   "cell_type": "markdown",
   "id": "9799ab69",
   "metadata": {
    "id": "9799ab69"
   },
   "source": [
    "## Funciones con listas"
   ]
  },
  {
   "cell_type": "markdown",
   "id": "0093b521",
   "metadata": {
    "id": "0093b521"
   },
   "source": [
    "Longitud de una lista"
   ]
  },
  {
   "cell_type": "markdown",
   "id": "463239ee",
   "metadata": {
    "id": "463239ee"
   },
   "source": [
    "Agregar un elemento a la lista"
   ]
  },
  {
   "cell_type": "markdown",
   "id": "64a1cab6",
   "metadata": {
    "id": "64a1cab6"
   },
   "source": [
    "Unir los elementos de dos listas"
   ]
  },
  {
   "cell_type": "markdown",
   "id": "034d2e98",
   "metadata": {
    "id": "034d2e98"
   },
   "source": [
    "Acceder al último elemento de la lista"
   ]
  },
  {
   "cell_type": "markdown",
   "id": "83ad4aa2",
   "metadata": {
    "id": "83ad4aa2"
   },
   "source": [
    "Insertar un elemento en cualquier posición"
   ]
  },
  {
   "cell_type": "markdown",
   "id": "74d42b8e",
   "metadata": {
    "id": "74d42b8e"
   },
   "source": [
    "Quitar elementos"
   ]
  },
  {
   "cell_type": "markdown",
   "id": "42fbc26d",
   "metadata": {
    "id": "42fbc26d"
   },
   "source": [
    "Quitar elemento con cierto valor"
   ]
  },
  {
   "cell_type": "markdown",
   "id": "802bfa71",
   "metadata": {
    "id": "802bfa71"
   },
   "source": [
    "Verificar si un elemento está en lista"
   ]
  },
  {
   "cell_type": "markdown",
   "id": "1e30e8d7",
   "metadata": {
    "id": "1e30e8d7"
   },
   "source": [
    "Ordenar listas de manera ascendente"
   ]
  },
  {
   "cell_type": "markdown",
   "id": "cad4f064",
   "metadata": {
    "id": "cad4f064"
   },
   "source": [
    "Ordenar listas de forma descendente"
   ]
  },
  {
   "cell_type": "markdown",
   "id": "03a6bc1e",
   "metadata": {
    "id": "03a6bc1e"
   },
   "source": [
    "Ordenar por cantidad de caracteres"
   ]
  },
  {
   "cell_type": "markdown",
   "id": "26c95f03",
   "metadata": {
    "id": "26c95f03"
   },
   "source": [
    "Numerar las listas"
   ]
  },
  {
   "cell_type": "markdown",
   "id": "3abf0a12",
   "metadata": {
    "id": "3abf0a12"
   },
   "source": [
    "Emparejar listas"
   ]
  },
  {
   "cell_type": "markdown",
   "id": "2e89e493",
   "metadata": {
    "id": "2e89e493"
   },
   "source": [
    "Desempaquetar una lista"
   ]
  },
  {
   "cell_type": "markdown",
   "id": "aa41b4a9",
   "metadata": {
    "id": "aa41b4a9"
   },
   "source": [
    "Lista con rango de números"
   ]
  },
  {
   "cell_type": "markdown",
   "id": "15454536",
   "metadata": {
    "id": "15454536"
   },
   "source": [
    "### Tuplas"
   ]
  },
  {
   "cell_type": "markdown",
   "id": "a7ceba60",
   "metadata": {
    "id": "a7ceba60"
   },
   "source": [
    "Son secuencias de longitud fija. No son mutables."
   ]
  },
  {
   "cell_type": "markdown",
   "id": "97533ab9",
   "metadata": {
    "id": "97533ab9"
   },
   "source": [
    "### Fechas "
   ]
  }
 ],
 "metadata": {
  "colab": {
   "name": "Guía_Primera_clase_python.ipynb",
   "provenance": []
  },
  "kernelspec": {
   "display_name": "Python 3 (ipykernel)",
   "language": "python",
   "name": "python3"
  },
  "language_info": {
   "codemirror_mode": {
    "name": "ipython",
    "version": 3
   },
   "file_extension": ".py",
   "mimetype": "text/x-python",
   "name": "python",
   "nbconvert_exporter": "python",
   "pygments_lexer": "ipython3",
   "version": "3.11.0"
  }
 },
 "nbformat": 4,
 "nbformat_minor": 5
}
