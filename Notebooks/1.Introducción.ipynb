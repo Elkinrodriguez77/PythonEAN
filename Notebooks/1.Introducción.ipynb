{
 "cells": [
  {
   "cell_type": "markdown",
   "id": "4ceba61d",
   "metadata": {
    "id": "4ceba61d"
   },
   "source": [
    "# Modulo 1 conceptos básicos Variables, expresiones y Operaciones Básicas"
   ]
  },
  {
   "cell_type": "markdown",
   "id": "73327670",
   "metadata": {
    "id": "73327670"
   },
   "source": [
    "# Escalares"
   ]
  },
  {
   "cell_type": "markdown",
   "id": "878836b7",
   "metadata": {
    "id": "878836b7"
   },
   "source": [
    "Números que utilizamos normalmente para contar, medir, sumar,..."
   ]
  },
  {
   "cell_type": "code",
   "execution_count": 1,
   "id": "f912c2e7",
   "metadata": {},
   "outputs": [
    {
     "data": {
      "text/plain": [
       "5"
      ]
     },
     "execution_count": 1,
     "metadata": {},
     "output_type": "execute_result"
    }
   ],
   "source": [
    "5"
   ]
  },
  {
   "cell_type": "code",
   "execution_count": 2,
   "id": "806af285",
   "metadata": {},
   "outputs": [],
   "source": [
    "x=5\n",
    "y=10"
   ]
  },
  {
   "cell_type": "code",
   "execution_count": 3,
   "id": "8cb1246c",
   "metadata": {},
   "outputs": [
    {
     "data": {
      "text/plain": [
       "15"
      ]
     },
     "execution_count": 3,
     "metadata": {},
     "output_type": "execute_result"
    }
   ],
   "source": [
    "x+y"
   ]
  },
  {
   "cell_type": "markdown",
   "id": "203ee7cd",
   "metadata": {
    "id": "203ee7cd"
   },
   "source": [
    "### Operaciones Básicas"
   ]
  },
  {
   "cell_type": "code",
   "execution_count": 4,
   "id": "1e7849c7",
   "metadata": {},
   "outputs": [
    {
     "name": "stdout",
     "output_type": "stream",
     "text": [
      "suma y multiplicacion\n",
      "35\n"
     ]
    }
   ],
   "source": [
    "# Suma y multiplicación\n",
    "print(\"suma y multiplicacion\") # la comilla simple es más \"visible\"\n",
    "print(x+3*y)"
   ]
  },
  {
   "cell_type": "code",
   "execution_count": 5,
   "id": "d8833c72",
   "metadata": {},
   "outputs": [
    {
     "name": "stdout",
     "output_type": "stream",
     "text": [
      "División: 2.0\n"
     ]
    }
   ],
   "source": [
    "# División y uso del f string para concatenar texto más variables al mismo tiempo:\n",
    "print(f\"División: {y/x}\")"
   ]
  },
  {
   "cell_type": "code",
   "execution_count": 6,
   "id": "8525e00b",
   "metadata": {},
   "outputs": [
    {
     "name": "stdout",
     "output_type": "stream",
     "text": [
      "x elevado a la y, es igual a: 9765625\n",
      "x elevado a la y, es igual a: 9765625\n"
     ]
    }
   ],
   "source": [
    "# Potenciación\n",
    "# Modo 1:\n",
    "print(f\"x elevado a la y, es igual a: {x**y}\") # no es con el simbolo ^\n",
    "# Modo 2:\n",
    "print(f\"x elevado a la y, es igual a: {pow(x,y)}\")"
   ]
  },
  {
   "cell_type": "code",
   "execution_count": 7,
   "id": "d42e64c0",
   "metadata": {},
   "outputs": [
    {
     "name": "stdout",
     "output_type": "stream",
     "text": [
      "El cociente de x entre y es: 0\n",
      "El residuo de x entre y es: 5\n",
      "Cociente y residuo de x entre y (0, 5)\n"
     ]
    }
   ],
   "source": [
    "# Cociente\n",
    "print(f\"El cociente de x entre y es: {x//y}\")\n",
    "# Residuo\n",
    "print(f\"El residuo de x entre y es: {x%y}\")\n",
    "# Cociente y residuo al tiempo\n",
    "print(f\"Cociente y residuo de x entre y {divmod(x,y)}\") # hallar el residuo es encontrar el modulo"
   ]
  },
  {
   "cell_type": "markdown",
   "id": "818e81fc",
   "metadata": {
    "id": "818e81fc"
   },
   "source": [
    "## Libreria comandos de matematicas\n",
    "\n"
   ]
  },
  {
   "cell_type": "code",
   "execution_count": 8,
   "id": "31008c5b",
   "metadata": {},
   "outputs": [],
   "source": [
    "import math as m\n",
    "import numpy as np"
   ]
  },
  {
   "cell_type": "code",
   "execution_count": 9,
   "id": "e18ede94",
   "metadata": {},
   "outputs": [
    {
     "name": "stdout",
     "output_type": "stream",
     "text": [
      "la raiz cuadrada de 5 es igual a = 2.23606797749979\n"
     ]
    }
   ],
   "source": [
    "# Raiz cuadrada:\n",
    "print(f\"la raiz cuadrada de {x} es igual a = {m.sqrt(x)}\")"
   ]
  },
  {
   "cell_type": "code",
   "execution_count": 10,
   "id": "1c6a97cb",
   "metadata": {},
   "outputs": [
    {
     "name": "stdout",
     "output_type": "stream",
     "text": [
      "el seno de 5 es igual a = -0.9589242746631385\n"
     ]
    }
   ],
   "source": [
    "# Seno\n",
    "print(f\"el seno de {x} es igual a = {m.sin(x)}\")"
   ]
  },
  {
   "cell_type": "code",
   "execution_count": 11,
   "id": "11bb02a2",
   "metadata": {},
   "outputs": [
    {
     "data": {
      "text/plain": [
       "3.141592653589793"
      ]
     },
     "execution_count": 11,
     "metadata": {},
     "output_type": "execute_result"
    }
   ],
   "source": [
    "# Llamar pi\n",
    "\n",
    "np.pi"
   ]
  },
  {
   "cell_type": "markdown",
   "id": "3bdf7aa3",
   "metadata": {
    "id": "3bdf7aa3"
   },
   "source": [
    "### Funciones Trigonometricas"
   ]
  },
  {
   "cell_type": "code",
   "execution_count": 12,
   "id": "c68e5ecf",
   "metadata": {},
   "outputs": [
    {
     "name": "stdout",
     "output_type": "stream",
     "text": [
      "-0.7710802229758452\n",
      "-6.405331196646276\n"
     ]
    }
   ],
   "source": [
    "# Coseno:\n",
    "print(m.cos(59))\n",
    "# Tangente\n",
    "print(m.tan(30))"
   ]
  },
  {
   "cell_type": "markdown",
   "id": "e0d40e85",
   "metadata": {
    "id": "e0d40e85"
   },
   "source": [
    "## Operadores relacionales"
   ]
  },
  {
   "cell_type": "markdown",
   "id": "adf56b65",
   "metadata": {
    "id": "adf56b65"
   },
   "source": [
    "\n",
    "Nombre                | Operador        |Ejemplo\n",
    "-----------------------|-----------------|-----------------\n",
    "Mayor que              | >               | a >b     \n",
    "Menor que              | <               | a< b     \n",
    "Mayor o igual que      | >=              | a >=b   \n",
    "Menor o igual que      | <=              | a<= b   \n",
    "Igual a                | ==              | a ==b  \n",
    "Distinto de            | !=              | a !=b   \n"
   ]
  },
  {
   "cell_type": "code",
   "execution_count": 13,
   "id": "e2bbf25b",
   "metadata": {},
   "outputs": [
    {
     "name": "stdout",
     "output_type": "stream",
     "text": [
      "True\n",
      "False\n",
      "True\n"
     ]
    }
   ],
   "source": [
    "print(5 <= 10)\n",
    "print(7 >= 8)\n",
    "print('si'!='no')"
   ]
  },
  {
   "cell_type": "markdown",
   "id": "889b48c6",
   "metadata": {
    "id": "889b48c6"
   },
   "source": [
    "## Operadores lógicos o de conjunto"
   ]
  },
  {
   "cell_type": "markdown",
   "id": "7184205b",
   "metadata": {
    "id": "7184205b"
   },
   "source": [
    "|Nombre                                 | Operador   |símbolo\n",
    "----------------------------------------|------------|------------------\n",
    "|Interesección                        | y                | &, and     \n",
    "|Unión                                     | o                | ,or      \n",
    "|Negación                               | NO              | not  \n",
    "|Unión menos intersección  | o exclusivo |   ^  \n"
   ]
  },
  {
   "cell_type": "code",
   "execution_count": 21,
   "id": "67380ba7",
   "metadata": {},
   "outputs": [
    {
     "name": "stdout",
     "output_type": "stream",
     "text": [
      "False\n",
      "True\n",
      "True\n",
      "True\n"
     ]
    }
   ],
   "source": [
    "# Logica proposicional:\n",
    "print(4==8 & 3==3)\n",
    "print(4==8 or 3==3)\n",
    "print(not(4!=4))\n",
    "print((5<10)^(2==8/3)) # exclusivo es cierto, si solo uno es verdadero, si ambos son verdaderos o falsos, da falso."
   ]
  },
  {
   "cell_type": "markdown",
   "id": "2c914687",
   "metadata": {
    "id": "2c914687"
   },
   "source": [
    "## Operadores de asignación "
   ]
  },
  {
   "cell_type": "markdown",
   "id": "9e585552",
   "metadata": {
    "id": "9e585552"
   },
   "source": [
    "Símbolo  | Ejemplo \n",
    "-----------|-------\n",
    "a = b      | =\n",
    "a = a+1    | a+=1\n",
    "a = a-1    | a-=1\n",
    "a = a+b    | a+=b\n",
    "a = a-b    | a-=b\n",
    "a = a*b    | a*=b\n",
    "a = a/b    | a/=b\n",
    "a= a%b     | a%=b\n",
    "\n",
    "\n"
   ]
  },
  {
   "cell_type": "code",
   "execution_count": 27,
   "id": "f5cc525b",
   "metadata": {},
   "outputs": [],
   "source": [
    "# Python es un lenguaje que permnite reasignar el valor de sus variables, sin solicitarnos confirmación en caso que exista una variable ya creada con ese objeto, por ejemplo a continuación voy a cambiar el valor de una variable ya creada (x)\n",
    "x = 7"
   ]
  },
  {
   "cell_type": "code",
   "execution_count": 28,
   "id": "8ff911ab",
   "metadata": {},
   "outputs": [
    {
     "data": {
      "text/plain": [
       "8"
      ]
     },
     "execution_count": 28,
     "metadata": {},
     "output_type": "execute_result"
    }
   ],
   "source": [
    "# Teniendo en cuenta esto, si quiero modificar una variable creada, debo hacer lo siguiente:\n",
    "x = x+1\n",
    "x"
   ]
  },
  {
   "cell_type": "markdown",
   "id": "08fa5c82",
   "metadata": {
    "id": "08fa5c82"
   },
   "source": [
    "## Impresiones en pantalla"
   ]
  },
  {
   "cell_type": "code",
   "execution_count": 31,
   "id": "cacdc65d",
   "metadata": {},
   "outputs": [
    {
     "name": "stdout",
     "output_type": "stream",
     "text": [
      "Hola mundo\n"
     ]
    }
   ],
   "source": [
    "print('Hola mundo')"
   ]
  },
  {
   "cell_type": "code",
   "execution_count": 32,
   "id": "c99d9e83",
   "metadata": {},
   "outputs": [
    {
     "data": {
      "text/plain": [
       "'hola mundo'"
      ]
     },
     "metadata": {},
     "output_type": "display_data"
    }
   ],
   "source": [
    "display('hola mundo')"
   ]
  },
  {
   "cell_type": "code",
   "execution_count": 29,
   "id": "eb7e288a",
   "metadata": {},
   "outputs": [
    {
     "data": {
      "text/plain": [
       "9"
      ]
     },
     "execution_count": 29,
     "metadata": {},
     "output_type": "execute_result"
    }
   ],
   "source": [
    "# forma \"pro\":\n",
    "x+=1\n",
    "x"
   ]
  },
  {
   "cell_type": "code",
   "execution_count": 30,
   "id": "161f33eb",
   "metadata": {},
   "outputs": [
    {
     "data": {
      "text/plain": [
       "18"
      ]
     },
     "execution_count": 30,
     "metadata": {},
     "output_type": "execute_result"
    }
   ],
   "source": [
    "x*=2\n",
    "x"
   ]
  },
  {
   "cell_type": "markdown",
   "id": "1aa68628",
   "metadata": {
    "id": "1aa68628"
   },
   "source": [
    "## Entrada de datos"
   ]
  },
  {
   "cell_type": "code",
   "execution_count": 35,
   "id": "8c99b929",
   "metadata": {},
   "outputs": [
    {
     "data": {
      "text/plain": [
       "'Elkin'"
      ]
     },
     "execution_count": 35,
     "metadata": {},
     "output_type": "execute_result"
    }
   ],
   "source": [
    "nombre = str(input(\"Escriba su nombre: \"))\n",
    "nombre"
   ]
  },
  {
   "cell_type": "code",
   "execution_count": 36,
   "id": "7dcee60c",
   "metadata": {},
   "outputs": [
    {
     "data": {
      "text/plain": [
       "str"
      ]
     },
     "execution_count": 36,
     "metadata": {},
     "output_type": "execute_result"
    }
   ],
   "source": [
    "type(nombre)"
   ]
  },
  {
   "cell_type": "markdown",
   "id": "6b9c9794",
   "metadata": {
    "id": "6b9c9794"
   },
   "source": [
    "# Objetos en python"
   ]
  },
  {
   "cell_type": "markdown",
   "id": "17e6a220",
   "metadata": {
    "id": "17e6a220"
   },
   "source": [
    "Un objeto es un elemento que tiene un nombre, un valor y un tipo. El tipo lo hereda del valor que toma"
   ]
  },
  {
   "cell_type": "code",
   "execution_count": 37,
   "id": "2037da9a",
   "metadata": {},
   "outputs": [],
   "source": [
    "x=5"
   ]
  },
  {
   "cell_type": "code",
   "execution_count": 38,
   "id": "6b9e9871",
   "metadata": {},
   "outputs": [
    {
     "data": {
      "text/plain": [
       "int"
      ]
     },
     "execution_count": 38,
     "metadata": {},
     "output_type": "execute_result"
    }
   ],
   "source": [
    "type(5)"
   ]
  },
  {
   "cell_type": "code",
   "execution_count": 39,
   "id": "cfea96c9",
   "metadata": {},
   "outputs": [],
   "source": [
    "x='hola'"
   ]
  },
  {
   "cell_type": "code",
   "execution_count": 41,
   "id": "946ea09f",
   "metadata": {},
   "outputs": [
    {
     "data": {
      "text/plain": [
       "str"
      ]
     },
     "execution_count": 41,
     "metadata": {},
     "output_type": "execute_result"
    }
   ],
   "source": [
    "type(x)\n",
    "# al ser el objeto, el tipado es dinámico, de acuerdo a la variable asignada."
   ]
  },
  {
   "cell_type": "code",
   "execution_count": 43,
   "id": "910d18d1",
   "metadata": {},
   "outputs": [
    {
     "data": {
      "text/plain": [
       "str"
      ]
     },
     "execution_count": 43,
     "metadata": {},
     "output_type": "execute_result"
    }
   ],
   "source": [
    "# cambiar tipo de datos\n",
    "x=10\n",
    "x = str(x)\n",
    "type(x)"
   ]
  },
  {
   "cell_type": "markdown",
   "id": "f8999fe1",
   "metadata": {
    "id": "f8999fe1"
   },
   "source": [
    "## Tipos de datos"
   ]
  },
  {
   "cell_type": "markdown",
   "id": "b2301672",
   "metadata": {
    "id": "b2301672"
   },
   "source": [
    "#### Enteros: \n",
    "Son variables que guardan números enteros.\n"
   ]
  },
  {
   "cell_type": "code",
   "execution_count": 1,
   "id": "40b1f911",
   "metadata": {},
   "outputs": [
    {
     "name": "stdout",
     "output_type": "stream",
     "text": [
      "la sumatoria de los números 5 + 7 es igual 12\n"
     ]
    }
   ],
   "source": [
    "numero1 = int(input(\"Ingresa el primer número: \"))\n",
    "numero2 = int(input(\"Ingresa el segundo número: \"))\n",
    "print(f\"la sumatoria de los números {numero1} + {numero2} es igual {numero1 + numero2}\")"
   ]
  },
  {
   "cell_type": "markdown",
   "id": "b3e9d075",
   "metadata": {
    "id": "b3e9d075"
   },
   "source": [
    "### Float: \n",
    "Números decimales"
   ]
  },
  {
   "cell_type": "markdown",
   "id": "a94e472e",
   "metadata": {
    "id": "a94e472e"
   },
   "source": [
    "  Especificador | Salida mostrada \n",
    " -------|-------\n",
    "d ó i| Entero con signo \n",
    "u| Entero sin signo \n",
    "f| Décimal de punto flotante \n",
    "e| Notación científica \n",
    "g| Representación corta \n",
    "c| Caracter\n",
    "s| Cadena de caracteres"
   ]
  },
  {
   "cell_type": "code",
   "execution_count": 4,
   "id": "667727fd",
   "metadata": {},
   "outputs": [
    {
     "name": "stdout",
     "output_type": "stream",
     "text": [
      "0.3333333333333333\n"
     ]
    },
    {
     "data": {
      "text/plain": [
       "float"
      ]
     },
     "execution_count": 4,
     "metadata": {},
     "output_type": "execute_result"
    }
   ],
   "source": [
    "y = 1/3\n",
    "print(y)\n",
    "type(y)"
   ]
  },
  {
   "cell_type": "code",
   "execution_count": 6,
   "id": "cb517170",
   "metadata": {},
   "outputs": [
    {
     "name": "stdout",
     "output_type": "stream",
     "text": [
      "Esta es una aproximación del número 1/3: 0.3333\n"
     ]
    }
   ],
   "source": [
    "print(f\"Esta es una aproximación del número 1/3: {y:.4f}\")"
   ]
  },
  {
   "cell_type": "code",
   "execution_count": 10,
   "id": "a0b61777",
   "metadata": {},
   "outputs": [
    {
     "name": "stdout",
     "output_type": "stream",
     "text": [
      "0.33 es una aproximación del número 1/3: \n"
     ]
    }
   ],
   "source": [
    "print(f\"%.2f es una aproximación del número 1/3: \" %y) # f de float"
   ]
  },
  {
   "cell_type": "code",
   "execution_count": 12,
   "id": "a361c85a",
   "metadata": {},
   "outputs": [
    {
     "name": "stdout",
     "output_type": "stream",
     "text": [
      "3.33e-01 es una aproximación cientifica del número 1/3: \n"
     ]
    }
   ],
   "source": [
    "print(f\"%.2e es una aproximación cientifica del número 1/3: \" %y) # e de notación cientifica"
   ]
  },
  {
   "cell_type": "markdown",
   "id": "e04cfbdb",
   "metadata": {
    "id": "e04cfbdb"
   },
   "source": [
    "### Tipo booleano : \n",
    "Toma los valores de falso o verdadero"
   ]
  },
  {
   "cell_type": "code",
   "execution_count": 5,
   "id": "b96505b3",
   "metadata": {},
   "outputs": [
    {
     "name": "stdout",
     "output_type": "stream",
     "text": [
      "Existen tipos de datos Verdadero True o Falso False\n"
     ]
    }
   ],
   "source": [
    "v = True\n",
    "f = False\n",
    "\n",
    "print(f\"Existen tipos de datos Verdadero {v} o Falso {f}\")\n"
   ]
  },
  {
   "cell_type": "markdown",
   "id": "aac8deac",
   "metadata": {
    "id": "aac8deac"
   },
   "source": [
    "### String: Cadenas de caracteres."
   ]
  },
  {
   "cell_type": "code",
   "execution_count": 13,
   "id": "7c70b309",
   "metadata": {},
   "outputs": [
    {
     "name": "stdout",
     "output_type": "stream",
     "text": [
      "Hola mundo\n"
     ]
    }
   ],
   "source": [
    "st = \"Hola mundo\"\n",
    "print(st)"
   ]
  },
  {
   "cell_type": "markdown",
   "id": "bc6f6904",
   "metadata": {
    "id": "bc6f6904"
   },
   "source": [
    "### Listas"
   ]
  },
  {
   "cell_type": "markdown",
   "id": "1023dbb1",
   "metadata": {
    "id": "1023dbb1"
   },
   "source": [
    "Secuencias de longitud variable. Son mutables ya que los elementos que las conforman pueden modificarse."
   ]
  },
  {
   "cell_type": "code",
   "execution_count": 14,
   "id": "2d73c6e4",
   "metadata": {},
   "outputs": [
    {
     "name": "stdout",
     "output_type": "stream",
     "text": [
      "[3, 5, 8]\n"
     ]
    }
   ],
   "source": [
    "Lista1 = [3,5,8]\n",
    "print(Lista1)"
   ]
  },
  {
   "cell_type": "code",
   "execution_count": 18,
   "id": "957dd70e",
   "metadata": {},
   "outputs": [
    {
     "name": "stdout",
     "output_type": "stream",
     "text": [
      "['Manzana', 'Limon', 'Banano']\n"
     ]
    }
   ],
   "source": [
    "Lista2 = [\"Manzana\",\"Limon\", \"Banano\"]\n",
    "print(Lista2)"
   ]
  },
  {
   "cell_type": "code",
   "execution_count": 16,
   "id": "e9c8d252",
   "metadata": {},
   "outputs": [
    {
     "data": {
      "text/plain": [
       "3"
      ]
     },
     "execution_count": 16,
     "metadata": {},
     "output_type": "execute_result"
    }
   ],
   "source": [
    "# Longitud de lista:\n",
    "\n",
    "len(Lista2)"
   ]
  },
  {
   "cell_type": "markdown",
   "id": "9799ab69",
   "metadata": {
    "id": "9799ab69"
   },
   "source": [
    "## Funciones con listas"
   ]
  },
  {
   "cell_type": "markdown",
   "id": "0093b521",
   "metadata": {
    "id": "0093b521"
   },
   "source": [
    "Longitud de una lista"
   ]
  },
  {
   "cell_type": "code",
   "execution_count": 17,
   "id": "2675d31e",
   "metadata": {},
   "outputs": [
    {
     "data": {
      "text/plain": [
       "3"
      ]
     },
     "execution_count": 17,
     "metadata": {},
     "output_type": "execute_result"
    }
   ],
   "source": [
    "len(Lista2)"
   ]
  },
  {
   "cell_type": "markdown",
   "id": "463239ee",
   "metadata": {
    "id": "463239ee"
   },
   "source": [
    "Agregar un elemento a la lista"
   ]
  },
  {
   "cell_type": "code",
   "execution_count": 19,
   "id": "3da94b4c",
   "metadata": {},
   "outputs": [
    {
     "name": "stdout",
     "output_type": "stream",
     "text": [
      "['Manzana', 'Limon', 'Banano', 'Coco']\n"
     ]
    }
   ],
   "source": [
    "Lista2.append(\"Coco\")\n",
    "print(Lista2)"
   ]
  },
  {
   "cell_type": "markdown",
   "id": "64a1cab6",
   "metadata": {
    "id": "64a1cab6"
   },
   "source": [
    "Unir los elementos de dos listas"
   ]
  },
  {
   "cell_type": "code",
   "execution_count": 21,
   "id": "7fe497f2",
   "metadata": {},
   "outputs": [
    {
     "name": "stdout",
     "output_type": "stream",
     "text": [
      "['Manzana', 'Limon', 'Banano', 'Coco', ['Fresa', 'Banano']]\n"
     ]
    }
   ],
   "source": [
    "Lista2.append([\"Fresa\", \"Banano\"]) # append solo funciona para un elemento\n",
    "print(Lista2)"
   ]
  },
  {
   "cell_type": "code",
   "execution_count": 23,
   "id": "3c99951f",
   "metadata": {},
   "outputs": [
    {
     "name": "stdout",
     "output_type": "stream",
     "text": [
      "['Manzana', 'Limon', 'Banano', 'Coco', ['Fresa', 'Banano'], 'Fresa', 'Banano']\n"
     ]
    }
   ],
   "source": [
    "Lista2.extend([\"Fresa\", \"Banano\"]) # Extend si agrega elemento a elemento\n",
    "print(Lista2)"
   ]
  },
  {
   "cell_type": "markdown",
   "id": "034d2e98",
   "metadata": {
    "id": "034d2e98"
   },
   "source": [
    "Acceder al último elemento de la lista"
   ]
  },
  {
   "cell_type": "code",
   "execution_count": 24,
   "id": "e407a3bc",
   "metadata": {},
   "outputs": [
    {
     "data": {
      "text/plain": [
       "'Manzana'"
      ]
     },
     "execution_count": 24,
     "metadata": {},
     "output_type": "execute_result"
    }
   ],
   "source": [
    "Lista2[0]"
   ]
  },
  {
   "cell_type": "code",
   "execution_count": 25,
   "id": "9a2d2d48",
   "metadata": {},
   "outputs": [
    {
     "data": {
      "text/plain": [
       "['Fresa', 'Banano']"
      ]
     },
     "execution_count": 25,
     "metadata": {},
     "output_type": "execute_result"
    }
   ],
   "source": [
    "Lista2[4]"
   ]
  },
  {
   "cell_type": "code",
   "execution_count": 26,
   "id": "204620e2",
   "metadata": {},
   "outputs": [
    {
     "data": {
      "text/plain": [
       "'Banano'"
      ]
     },
     "execution_count": 26,
     "metadata": {},
     "output_type": "execute_result"
    }
   ],
   "source": [
    "Lista2[-1]"
   ]
  },
  {
   "cell_type": "code",
   "execution_count": 28,
   "id": "a21510e9",
   "metadata": {},
   "outputs": [
    {
     "data": {
      "text/plain": [
       "'Banano'"
      ]
     },
     "execution_count": 28,
     "metadata": {},
     "output_type": "execute_result"
    }
   ],
   "source": [
    "Lista2[len(Lista2)-1]"
   ]
  },
  {
   "cell_type": "markdown",
   "id": "83ad4aa2",
   "metadata": {
    "id": "83ad4aa2"
   },
   "source": [
    "Insertar un elemento en cualquier posición"
   ]
  },
  {
   "cell_type": "code",
   "execution_count": 29,
   "id": "a29f132c",
   "metadata": {},
   "outputs": [],
   "source": [
    "# insertar un elemento en la posición 2\n",
    "\n",
    "Lista2.insert(2,\"Kiwi\")"
   ]
  },
  {
   "cell_type": "code",
   "execution_count": 30,
   "id": "fbf3c3c5",
   "metadata": {},
   "outputs": [
    {
     "data": {
      "text/plain": [
       "['Manzana',\n",
       " 'Limon',\n",
       " 'Kiwi',\n",
       " 'Banano',\n",
       " 'Coco',\n",
       " ['Fresa', 'Banano'],\n",
       " 'Fresa',\n",
       " 'Banano']"
      ]
     },
     "execution_count": 30,
     "metadata": {},
     "output_type": "execute_result"
    }
   ],
   "source": [
    "Lista2"
   ]
  },
  {
   "cell_type": "markdown",
   "id": "74d42b8e",
   "metadata": {
    "id": "74d42b8e"
   },
   "source": [
    "Quitar elementos"
   ]
  },
  {
   "cell_type": "code",
   "execution_count": 32,
   "id": "b6769120",
   "metadata": {},
   "outputs": [
    {
     "data": {
      "text/plain": [
       "['Manzana', 'Limon', 'Kiwi', 'Coco', ['Fresa', 'Banano'], 'Fresa', 'Banano']"
      ]
     },
     "execution_count": 32,
     "metadata": {},
     "output_type": "execute_result"
    }
   ],
   "source": [
    "Lista2.pop(3)\n",
    "Lista2"
   ]
  },
  {
   "cell_type": "markdown",
   "id": "42fbc26d",
   "metadata": {
    "id": "42fbc26d"
   },
   "source": [
    "Quitar elemento con cierto valor"
   ]
  },
  {
   "cell_type": "code",
   "execution_count": 33,
   "id": "60000c42",
   "metadata": {},
   "outputs": [
    {
     "data": {
      "text/plain": [
       "['Manzana', 'Limon', 'Kiwi', 'Coco', ['Fresa', 'Banano'], 'Banano']"
      ]
     },
     "execution_count": 33,
     "metadata": {},
     "output_type": "execute_result"
    }
   ],
   "source": [
    "Lista2.remove(\"Fresa\")\n",
    "Lista2"
   ]
  },
  {
   "cell_type": "markdown",
   "id": "802bfa71",
   "metadata": {
    "id": "802bfa71"
   },
   "source": [
    "Verificar si un elemento está en lista"
   ]
  },
  {
   "cell_type": "code",
   "execution_count": 35,
   "id": "e807095f",
   "metadata": {},
   "outputs": [
    {
     "data": {
      "text/plain": [
       "False"
      ]
     },
     "execution_count": 35,
     "metadata": {},
     "output_type": "execute_result"
    }
   ],
   "source": [
    "\"Kiwi\" not in Lista2"
   ]
  },
  {
   "cell_type": "code",
   "execution_count": 36,
   "id": "38015c6b",
   "metadata": {},
   "outputs": [
    {
     "data": {
      "text/plain": [
       "3"
      ]
     },
     "execution_count": 36,
     "metadata": {},
     "output_type": "execute_result"
    }
   ],
   "source": [
    "Lista2.index(\"Coco\")"
   ]
  },
  {
   "cell_type": "markdown",
   "id": "1e30e8d7",
   "metadata": {
    "id": "1e30e8d7"
   },
   "source": [
    "Ordenar listas de manera ascendente"
   ]
  },
  {
   "cell_type": "code",
   "execution_count": 38,
   "id": "88d9a3cc",
   "metadata": {},
   "outputs": [
    {
     "data": {
      "text/plain": [
       "[['Fresa', 'Banano'], 'Kiwi', 'Coco', 'Limon', 'Banano', 'Manzana']"
      ]
     },
     "execution_count": 38,
     "metadata": {},
     "output_type": "execute_result"
    }
   ],
   "source": [
    "Lista2.sort(key=len) # ordena de acuerdo a longitud cuando sea string\n",
    "Lista2"
   ]
  },
  {
   "cell_type": "markdown",
   "id": "cad4f064",
   "metadata": {
    "id": "cad4f064"
   },
   "source": [
    "Ordenar listas de forma descendente"
   ]
  },
  {
   "cell_type": "code",
   "execution_count": 50,
   "id": "f4070315",
   "metadata": {},
   "outputs": [
    {
     "data": {
      "text/plain": [
       "['Manzana', 'Limon', 'Kiwi', 'Coco', ['Fresa', 'Banano'], 'Banano']"
      ]
     },
     "execution_count": 50,
     "metadata": {},
     "output_type": "execute_result"
    }
   ],
   "source": [
    "Lista2.sort(key=sorted, reverse=True) # el reverse define si es asc o desc\n",
    "Lista2"
   ]
  },
  {
   "cell_type": "markdown",
   "id": "03a6bc1e",
   "metadata": {
    "id": "03a6bc1e"
   },
   "source": [
    "Ordenar por cantidad de caracteres"
   ]
  },
  {
   "cell_type": "code",
   "execution_count": 51,
   "id": "db7f7ff9",
   "metadata": {},
   "outputs": [
    {
     "data": {
      "text/plain": [
       "[['Fresa', 'Banano'], 'Kiwi', 'Coco', 'Limon', 'Banano', 'Manzana']"
      ]
     },
     "execution_count": 51,
     "metadata": {},
     "output_type": "execute_result"
    }
   ],
   "source": [
    "Lista2.sort(key=len) # ordena de acuerdo a longitud cuando sea string\n",
    "Lista2"
   ]
  },
  {
   "cell_type": "markdown",
   "id": "26c95f03",
   "metadata": {
    "id": "26c95f03"
   },
   "source": [
    "Numerar las listas"
   ]
  },
  {
   "cell_type": "code",
   "execution_count": 55,
   "id": "99804ee9",
   "metadata": {},
   "outputs": [
    {
     "data": {
      "text/plain": [
       "[(0, ['Fresa', 'Banano']),\n",
       " (1, 'Kiwi'),\n",
       " (2, 'Coco'),\n",
       " (3, 'Limon'),\n",
       " (4, 'Banano'),\n",
       " (5, 'Manzana')]"
      ]
     },
     "execution_count": 55,
     "metadata": {},
     "output_type": "execute_result"
    }
   ],
   "source": [
    "list(enumerate(Lista2))"
   ]
  },
  {
   "cell_type": "markdown",
   "id": "3abf0a12",
   "metadata": {
    "id": "3abf0a12"
   },
   "source": [
    "Emparejar listas"
   ]
  },
  {
   "cell_type": "code",
   "execution_count": 56,
   "id": "7ce862ca",
   "metadata": {},
   "outputs": [],
   "source": [
    "nombres = [\"Paola\",\"Pedro\",\"Juan\",\"Dario\"]\n",
    "Apellidos = [\"Arevalo\",\"Bautista\",\"Gomez\",\"Rodriguez\"]"
   ]
  },
  {
   "cell_type": "code",
   "execution_count": 58,
   "id": "97854538",
   "metadata": {},
   "outputs": [
    {
     "data": {
      "text/plain": [
       "[('Paola', 'Arevalo'),\n",
       " ('Pedro', 'Bautista'),\n",
       " ('Juan', 'Gomez'),\n",
       " ('Dario', 'Rodriguez')]"
      ]
     },
     "execution_count": 58,
     "metadata": {},
     "output_type": "execute_result"
    }
   ],
   "source": [
    "list(zip(nombres,Apellidos))"
   ]
  },
  {
   "cell_type": "markdown",
   "id": "2e89e493",
   "metadata": {
    "id": "2e89e493"
   },
   "source": [
    "Desempaquetar una lista"
   ]
  },
  {
   "cell_type": "code",
   "execution_count": 60,
   "id": "d3d56b2b",
   "metadata": {},
   "outputs": [],
   "source": [
    "a,b,c = [2,3,5]"
   ]
  },
  {
   "cell_type": "code",
   "execution_count": 63,
   "id": "20108cd7",
   "metadata": {},
   "outputs": [
    {
     "data": {
      "text/plain": [
       "2"
      ]
     },
     "execution_count": 63,
     "metadata": {},
     "output_type": "execute_result"
    }
   ],
   "source": [
    "a"
   ]
  },
  {
   "cell_type": "markdown",
   "id": "aa41b4a9",
   "metadata": {
    "id": "aa41b4a9"
   },
   "source": [
    "Lista con rango de números"
   ]
  },
  {
   "cell_type": "code",
   "execution_count": 66,
   "id": "4ffee774",
   "metadata": {},
   "outputs": [
    {
     "data": {
      "text/plain": [
       "[1,\n",
       " 2,\n",
       " 3,\n",
       " 4,\n",
       " 5,\n",
       " 6,\n",
       " 7,\n",
       " 8,\n",
       " 9,\n",
       " 10,\n",
       " 11,\n",
       " 12,\n",
       " 13,\n",
       " 14,\n",
       " 15,\n",
       " 16,\n",
       " 17,\n",
       " 18,\n",
       " 19,\n",
       " 20,\n",
       " 21,\n",
       " 22,\n",
       " 23,\n",
       " 24,\n",
       " 25,\n",
       " 26,\n",
       " 27,\n",
       " 28,\n",
       " 29,\n",
       " 30,\n",
       " 31,\n",
       " 32,\n",
       " 33,\n",
       " 34,\n",
       " 35,\n",
       " 36,\n",
       " 37,\n",
       " 38,\n",
       " 39,\n",
       " 40,\n",
       " 41,\n",
       " 42,\n",
       " 43,\n",
       " 44,\n",
       " 45,\n",
       " 46,\n",
       " 47,\n",
       " 48,\n",
       " 49,\n",
       " 50,\n",
       " 51,\n",
       " 52,\n",
       " 53,\n",
       " 54,\n",
       " 55,\n",
       " 56,\n",
       " 57,\n",
       " 58,\n",
       " 59,\n",
       " 60,\n",
       " 61,\n",
       " 62,\n",
       " 63,\n",
       " 64,\n",
       " 65,\n",
       " 66,\n",
       " 67,\n",
       " 68,\n",
       " 69,\n",
       " 70,\n",
       " 71,\n",
       " 72,\n",
       " 73,\n",
       " 74,\n",
       " 75,\n",
       " 76,\n",
       " 77,\n",
       " 78,\n",
       " 79,\n",
       " 80,\n",
       " 81,\n",
       " 82,\n",
       " 83,\n",
       " 84,\n",
       " 85,\n",
       " 86,\n",
       " 87,\n",
       " 88,\n",
       " 89,\n",
       " 90,\n",
       " 91,\n",
       " 92,\n",
       " 93,\n",
       " 94,\n",
       " 95,\n",
       " 96,\n",
       " 97,\n",
       " 98,\n",
       " 99,\n",
       " 100,\n",
       " 101,\n",
       " 102,\n",
       " 103,\n",
       " 104,\n",
       " 105,\n",
       " 106,\n",
       " 107,\n",
       " 108,\n",
       " 109,\n",
       " 110,\n",
       " 111,\n",
       " 112,\n",
       " 113,\n",
       " 114,\n",
       " 115,\n",
       " 116,\n",
       " 117,\n",
       " 118,\n",
       " 119,\n",
       " 120,\n",
       " 121,\n",
       " 122,\n",
       " 123,\n",
       " 124,\n",
       " 125,\n",
       " 126,\n",
       " 127,\n",
       " 128,\n",
       " 129,\n",
       " 130,\n",
       " 131,\n",
       " 132,\n",
       " 133,\n",
       " 134,\n",
       " 135,\n",
       " 136,\n",
       " 137,\n",
       " 138,\n",
       " 139,\n",
       " 140,\n",
       " 141,\n",
       " 142,\n",
       " 143,\n",
       " 144,\n",
       " 145,\n",
       " 146,\n",
       " 147,\n",
       " 148,\n",
       " 149,\n",
       " 150,\n",
       " 151,\n",
       " 152,\n",
       " 153,\n",
       " 154,\n",
       " 155,\n",
       " 156,\n",
       " 157,\n",
       " 158,\n",
       " 159,\n",
       " 160,\n",
       " 161,\n",
       " 162,\n",
       " 163,\n",
       " 164,\n",
       " 165,\n",
       " 166,\n",
       " 167,\n",
       " 168,\n",
       " 169,\n",
       " 170,\n",
       " 171,\n",
       " 172,\n",
       " 173,\n",
       " 174,\n",
       " 175,\n",
       " 176,\n",
       " 177,\n",
       " 178,\n",
       " 179,\n",
       " 180,\n",
       " 181,\n",
       " 182,\n",
       " 183,\n",
       " 184,\n",
       " 185,\n",
       " 186,\n",
       " 187,\n",
       " 188,\n",
       " 189,\n",
       " 190,\n",
       " 191,\n",
       " 192,\n",
       " 193,\n",
       " 194,\n",
       " 195,\n",
       " 196,\n",
       " 197,\n",
       " 198,\n",
       " 199,\n",
       " 200,\n",
       " 201,\n",
       " 202,\n",
       " 203,\n",
       " 204,\n",
       " 205,\n",
       " 206,\n",
       " 207,\n",
       " 208,\n",
       " 209,\n",
       " 210,\n",
       " 211,\n",
       " 212,\n",
       " 213,\n",
       " 214,\n",
       " 215,\n",
       " 216,\n",
       " 217,\n",
       " 218,\n",
       " 219,\n",
       " 220,\n",
       " 221,\n",
       " 222,\n",
       " 223,\n",
       " 224,\n",
       " 225,\n",
       " 226,\n",
       " 227,\n",
       " 228,\n",
       " 229,\n",
       " 230,\n",
       " 231,\n",
       " 232,\n",
       " 233,\n",
       " 234,\n",
       " 235,\n",
       " 236,\n",
       " 237,\n",
       " 238,\n",
       " 239,\n",
       " 240,\n",
       " 241,\n",
       " 242,\n",
       " 243,\n",
       " 244,\n",
       " 245,\n",
       " 246,\n",
       " 247,\n",
       " 248,\n",
       " 249,\n",
       " 250,\n",
       " 251,\n",
       " 252,\n",
       " 253,\n",
       " 254,\n",
       " 255,\n",
       " 256,\n",
       " 257,\n",
       " 258,\n",
       " 259,\n",
       " 260,\n",
       " 261,\n",
       " 262,\n",
       " 263,\n",
       " 264,\n",
       " 265,\n",
       " 266,\n",
       " 267,\n",
       " 268,\n",
       " 269,\n",
       " 270,\n",
       " 271,\n",
       " 272,\n",
       " 273,\n",
       " 274,\n",
       " 275,\n",
       " 276,\n",
       " 277,\n",
       " 278,\n",
       " 279,\n",
       " 280,\n",
       " 281,\n",
       " 282,\n",
       " 283,\n",
       " 284,\n",
       " 285,\n",
       " 286,\n",
       " 287,\n",
       " 288,\n",
       " 289,\n",
       " 290,\n",
       " 291,\n",
       " 292,\n",
       " 293,\n",
       " 294,\n",
       " 295,\n",
       " 296,\n",
       " 297,\n",
       " 298,\n",
       " 299,\n",
       " 300,\n",
       " 301,\n",
       " 302,\n",
       " 303,\n",
       " 304,\n",
       " 305,\n",
       " 306,\n",
       " 307,\n",
       " 308,\n",
       " 309,\n",
       " 310,\n",
       " 311,\n",
       " 312,\n",
       " 313,\n",
       " 314,\n",
       " 315,\n",
       " 316,\n",
       " 317,\n",
       " 318,\n",
       " 319,\n",
       " 320,\n",
       " 321,\n",
       " 322,\n",
       " 323,\n",
       " 324,\n",
       " 325,\n",
       " 326,\n",
       " 327,\n",
       " 328,\n",
       " 329,\n",
       " 330,\n",
       " 331,\n",
       " 332,\n",
       " 333,\n",
       " 334,\n",
       " 335,\n",
       " 336,\n",
       " 337,\n",
       " 338,\n",
       " 339,\n",
       " 340,\n",
       " 341,\n",
       " 342,\n",
       " 343,\n",
       " 344,\n",
       " 345,\n",
       " 346,\n",
       " 347,\n",
       " 348,\n",
       " 349,\n",
       " 350,\n",
       " 351,\n",
       " 352,\n",
       " 353,\n",
       " 354,\n",
       " 355,\n",
       " 356,\n",
       " 357,\n",
       " 358,\n",
       " 359,\n",
       " 360,\n",
       " 361,\n",
       " 362,\n",
       " 363,\n",
       " 364,\n",
       " 365,\n",
       " 366,\n",
       " 367,\n",
       " 368,\n",
       " 369,\n",
       " 370,\n",
       " 371,\n",
       " 372,\n",
       " 373,\n",
       " 374,\n",
       " 375,\n",
       " 376,\n",
       " 377,\n",
       " 378,\n",
       " 379,\n",
       " 380,\n",
       " 381,\n",
       " 382,\n",
       " 383,\n",
       " 384,\n",
       " 385,\n",
       " 386,\n",
       " 387,\n",
       " 388,\n",
       " 389,\n",
       " 390,\n",
       " 391,\n",
       " 392,\n",
       " 393,\n",
       " 394,\n",
       " 395,\n",
       " 396,\n",
       " 397,\n",
       " 398,\n",
       " 399,\n",
       " 400,\n",
       " 401,\n",
       " 402,\n",
       " 403,\n",
       " 404,\n",
       " 405,\n",
       " 406,\n",
       " 407,\n",
       " 408,\n",
       " 409,\n",
       " 410,\n",
       " 411,\n",
       " 412,\n",
       " 413,\n",
       " 414,\n",
       " 415,\n",
       " 416,\n",
       " 417,\n",
       " 418,\n",
       " 419,\n",
       " 420,\n",
       " 421,\n",
       " 422,\n",
       " 423,\n",
       " 424,\n",
       " 425,\n",
       " 426,\n",
       " 427,\n",
       " 428,\n",
       " 429,\n",
       " 430,\n",
       " 431,\n",
       " 432,\n",
       " 433,\n",
       " 434,\n",
       " 435,\n",
       " 436,\n",
       " 437,\n",
       " 438,\n",
       " 439,\n",
       " 440,\n",
       " 441,\n",
       " 442,\n",
       " 443,\n",
       " 444,\n",
       " 445,\n",
       " 446,\n",
       " 447,\n",
       " 448,\n",
       " 449,\n",
       " 450,\n",
       " 451,\n",
       " 452,\n",
       " 453,\n",
       " 454,\n",
       " 455,\n",
       " 456,\n",
       " 457,\n",
       " 458,\n",
       " 459,\n",
       " 460,\n",
       " 461,\n",
       " 462,\n",
       " 463,\n",
       " 464,\n",
       " 465,\n",
       " 466,\n",
       " 467,\n",
       " 468,\n",
       " 469,\n",
       " 470,\n",
       " 471,\n",
       " 472,\n",
       " 473,\n",
       " 474,\n",
       " 475,\n",
       " 476,\n",
       " 477,\n",
       " 478,\n",
       " 479,\n",
       " 480,\n",
       " 481,\n",
       " 482,\n",
       " 483,\n",
       " 484,\n",
       " 485,\n",
       " 486,\n",
       " 487,\n",
       " 488,\n",
       " 489,\n",
       " 490,\n",
       " 491,\n",
       " 492,\n",
       " 493,\n",
       " 494,\n",
       " 495,\n",
       " 496,\n",
       " 497,\n",
       " 498,\n",
       " 499,\n",
       " 500,\n",
       " 501,\n",
       " 502,\n",
       " 503,\n",
       " 504,\n",
       " 505,\n",
       " 506,\n",
       " 507,\n",
       " 508,\n",
       " 509,\n",
       " 510,\n",
       " 511,\n",
       " 512,\n",
       " 513,\n",
       " 514,\n",
       " 515,\n",
       " 516,\n",
       " 517,\n",
       " 518,\n",
       " 519,\n",
       " 520,\n",
       " 521,\n",
       " 522,\n",
       " 523,\n",
       " 524,\n",
       " 525,\n",
       " 526,\n",
       " 527,\n",
       " 528,\n",
       " 529,\n",
       " 530,\n",
       " 531,\n",
       " 532,\n",
       " 533,\n",
       " 534,\n",
       " 535,\n",
       " 536,\n",
       " 537,\n",
       " 538,\n",
       " 539,\n",
       " 540,\n",
       " 541,\n",
       " 542,\n",
       " 543,\n",
       " 544,\n",
       " 545,\n",
       " 546,\n",
       " 547,\n",
       " 548,\n",
       " 549,\n",
       " 550,\n",
       " 551,\n",
       " 552,\n",
       " 553,\n",
       " 554,\n",
       " 555,\n",
       " 556,\n",
       " 557,\n",
       " 558,\n",
       " 559,\n",
       " 560,\n",
       " 561,\n",
       " 562,\n",
       " 563,\n",
       " 564,\n",
       " 565,\n",
       " 566,\n",
       " 567,\n",
       " 568,\n",
       " 569,\n",
       " 570,\n",
       " 571,\n",
       " 572,\n",
       " 573,\n",
       " 574,\n",
       " 575,\n",
       " 576,\n",
       " 577,\n",
       " 578,\n",
       " 579,\n",
       " 580,\n",
       " 581,\n",
       " 582,\n",
       " 583,\n",
       " 584,\n",
       " 585,\n",
       " 586,\n",
       " 587,\n",
       " 588,\n",
       " 589,\n",
       " 590,\n",
       " 591,\n",
       " 592,\n",
       " 593,\n",
       " 594,\n",
       " 595,\n",
       " 596,\n",
       " 597,\n",
       " 598,\n",
       " 599,\n",
       " 600,\n",
       " 601,\n",
       " 602,\n",
       " 603,\n",
       " 604,\n",
       " 605,\n",
       " 606,\n",
       " 607,\n",
       " 608,\n",
       " 609,\n",
       " 610,\n",
       " 611,\n",
       " 612,\n",
       " 613,\n",
       " 614,\n",
       " 615,\n",
       " 616,\n",
       " 617,\n",
       " 618,\n",
       " 619,\n",
       " 620,\n",
       " 621,\n",
       " 622,\n",
       " 623,\n",
       " 624,\n",
       " 625,\n",
       " 626,\n",
       " 627,\n",
       " 628,\n",
       " 629,\n",
       " 630,\n",
       " 631,\n",
       " 632,\n",
       " 633,\n",
       " 634,\n",
       " 635,\n",
       " 636,\n",
       " 637,\n",
       " 638,\n",
       " 639,\n",
       " 640,\n",
       " 641,\n",
       " 642,\n",
       " 643,\n",
       " 644,\n",
       " 645,\n",
       " 646,\n",
       " 647,\n",
       " 648,\n",
       " 649,\n",
       " 650,\n",
       " 651,\n",
       " 652,\n",
       " 653,\n",
       " 654,\n",
       " 655,\n",
       " 656,\n",
       " 657,\n",
       " 658,\n",
       " 659,\n",
       " 660,\n",
       " 661,\n",
       " 662,\n",
       " 663,\n",
       " 664,\n",
       " 665,\n",
       " 666,\n",
       " 667,\n",
       " 668,\n",
       " 669,\n",
       " 670,\n",
       " 671,\n",
       " 672,\n",
       " 673,\n",
       " 674,\n",
       " 675,\n",
       " 676,\n",
       " 677,\n",
       " 678,\n",
       " 679,\n",
       " 680,\n",
       " 681,\n",
       " 682,\n",
       " 683,\n",
       " 684,\n",
       " 685,\n",
       " 686,\n",
       " 687,\n",
       " 688,\n",
       " 689,\n",
       " 690,\n",
       " 691,\n",
       " 692,\n",
       " 693,\n",
       " 694,\n",
       " 695,\n",
       " 696,\n",
       " 697,\n",
       " 698,\n",
       " 699,\n",
       " 700,\n",
       " 701,\n",
       " 702,\n",
       " 703,\n",
       " 704,\n",
       " 705,\n",
       " 706,\n",
       " 707,\n",
       " 708,\n",
       " 709,\n",
       " 710,\n",
       " 711,\n",
       " 712,\n",
       " 713,\n",
       " 714,\n",
       " 715,\n",
       " 716,\n",
       " 717,\n",
       " 718,\n",
       " 719,\n",
       " 720,\n",
       " 721,\n",
       " 722,\n",
       " 723,\n",
       " 724,\n",
       " 725,\n",
       " 726,\n",
       " 727,\n",
       " 728,\n",
       " 729,\n",
       " 730,\n",
       " 731,\n",
       " 732,\n",
       " 733,\n",
       " 734,\n",
       " 735,\n",
       " 736,\n",
       " 737,\n",
       " 738,\n",
       " 739,\n",
       " 740,\n",
       " 741,\n",
       " 742,\n",
       " 743,\n",
       " 744,\n",
       " 745,\n",
       " 746,\n",
       " 747,\n",
       " 748,\n",
       " 749,\n",
       " 750,\n",
       " 751,\n",
       " 752,\n",
       " 753,\n",
       " 754,\n",
       " 755,\n",
       " 756,\n",
       " 757,\n",
       " 758,\n",
       " 759,\n",
       " 760,\n",
       " 761,\n",
       " 762,\n",
       " 763,\n",
       " 764,\n",
       " 765,\n",
       " 766,\n",
       " 767,\n",
       " 768,\n",
       " 769,\n",
       " 770,\n",
       " 771,\n",
       " 772,\n",
       " 773,\n",
       " 774,\n",
       " 775,\n",
       " 776,\n",
       " 777,\n",
       " 778,\n",
       " 779,\n",
       " 780,\n",
       " 781,\n",
       " 782,\n",
       " 783,\n",
       " 784,\n",
       " 785,\n",
       " 786,\n",
       " 787,\n",
       " 788,\n",
       " 789,\n",
       " 790,\n",
       " 791,\n",
       " 792,\n",
       " 793,\n",
       " 794,\n",
       " 795,\n",
       " 796,\n",
       " 797,\n",
       " 798,\n",
       " 799,\n",
       " 800,\n",
       " 801,\n",
       " 802,\n",
       " 803,\n",
       " 804,\n",
       " 805,\n",
       " 806,\n",
       " 807,\n",
       " 808,\n",
       " 809,\n",
       " 810,\n",
       " 811,\n",
       " 812,\n",
       " 813,\n",
       " 814,\n",
       " 815,\n",
       " 816,\n",
       " 817,\n",
       " 818,\n",
       " 819,\n",
       " 820,\n",
       " 821,\n",
       " 822,\n",
       " 823,\n",
       " 824,\n",
       " 825,\n",
       " 826,\n",
       " 827,\n",
       " 828,\n",
       " 829,\n",
       " 830,\n",
       " 831,\n",
       " 832,\n",
       " 833,\n",
       " 834,\n",
       " 835,\n",
       " 836,\n",
       " 837,\n",
       " 838,\n",
       " 839,\n",
       " 840,\n",
       " 841,\n",
       " 842,\n",
       " 843,\n",
       " 844,\n",
       " 845,\n",
       " 846,\n",
       " 847,\n",
       " 848,\n",
       " 849,\n",
       " 850,\n",
       " 851,\n",
       " 852,\n",
       " 853,\n",
       " 854,\n",
       " 855,\n",
       " 856,\n",
       " 857,\n",
       " 858,\n",
       " 859,\n",
       " 860,\n",
       " 861,\n",
       " 862,\n",
       " 863,\n",
       " 864,\n",
       " 865,\n",
       " 866,\n",
       " 867,\n",
       " 868,\n",
       " 869,\n",
       " 870,\n",
       " 871,\n",
       " 872,\n",
       " 873,\n",
       " 874,\n",
       " 875,\n",
       " 876,\n",
       " 877,\n",
       " 878,\n",
       " 879,\n",
       " 880,\n",
       " 881,\n",
       " 882,\n",
       " 883,\n",
       " 884,\n",
       " 885,\n",
       " 886,\n",
       " 887,\n",
       " 888,\n",
       " 889,\n",
       " 890,\n",
       " 891,\n",
       " 892,\n",
       " 893,\n",
       " 894,\n",
       " 895,\n",
       " 896,\n",
       " 897,\n",
       " 898,\n",
       " 899,\n",
       " 900,\n",
       " 901,\n",
       " 902,\n",
       " 903,\n",
       " 904,\n",
       " 905,\n",
       " 906,\n",
       " 907,\n",
       " 908,\n",
       " 909,\n",
       " 910,\n",
       " 911,\n",
       " 912,\n",
       " 913,\n",
       " 914,\n",
       " 915,\n",
       " 916,\n",
       " 917,\n",
       " 918,\n",
       " 919,\n",
       " 920,\n",
       " 921,\n",
       " 922,\n",
       " 923,\n",
       " 924,\n",
       " 925,\n",
       " 926,\n",
       " 927,\n",
       " 928,\n",
       " 929,\n",
       " 930,\n",
       " 931,\n",
       " 932,\n",
       " 933,\n",
       " 934,\n",
       " 935,\n",
       " 936,\n",
       " 937,\n",
       " 938,\n",
       " 939,\n",
       " 940,\n",
       " 941,\n",
       " 942,\n",
       " 943,\n",
       " 944,\n",
       " 945,\n",
       " 946,\n",
       " 947,\n",
       " 948,\n",
       " 949,\n",
       " 950,\n",
       " 951,\n",
       " 952,\n",
       " 953,\n",
       " 954,\n",
       " 955,\n",
       " 956,\n",
       " 957,\n",
       " 958,\n",
       " 959,\n",
       " 960,\n",
       " 961,\n",
       " 962,\n",
       " 963,\n",
       " 964,\n",
       " 965,\n",
       " 966,\n",
       " 967,\n",
       " 968,\n",
       " 969,\n",
       " 970,\n",
       " 971,\n",
       " 972,\n",
       " 973,\n",
       " 974,\n",
       " 975,\n",
       " 976,\n",
       " 977,\n",
       " 978,\n",
       " 979,\n",
       " 980,\n",
       " 981,\n",
       " 982,\n",
       " 983,\n",
       " 984,\n",
       " 985,\n",
       " 986,\n",
       " 987,\n",
       " 988,\n",
       " 989,\n",
       " 990,\n",
       " 991,\n",
       " 992,\n",
       " 993,\n",
       " 994,\n",
       " 995,\n",
       " 996,\n",
       " 997,\n",
       " 998,\n",
       " 999,\n",
       " 1000]"
      ]
     },
     "execution_count": 66,
     "metadata": {},
     "output_type": "execute_result"
    }
   ],
   "source": [
    "# rangos en python, frecuencias en r\n",
    "\n",
    "list(range(1,1001))"
   ]
  },
  {
   "cell_type": "code",
   "execution_count": 67,
   "id": "2b3dcf62",
   "metadata": {},
   "outputs": [
    {
     "data": {
      "text/plain": [
       "[1,\n",
       " 4,\n",
       " 7,\n",
       " 10,\n",
       " 13,\n",
       " 16,\n",
       " 19,\n",
       " 22,\n",
       " 25,\n",
       " 28,\n",
       " 31,\n",
       " 34,\n",
       " 37,\n",
       " 40,\n",
       " 43,\n",
       " 46,\n",
       " 49,\n",
       " 52,\n",
       " 55,\n",
       " 58,\n",
       " 61,\n",
       " 64,\n",
       " 67,\n",
       " 70,\n",
       " 73,\n",
       " 76,\n",
       " 79,\n",
       " 82,\n",
       " 85,\n",
       " 88,\n",
       " 91,\n",
       " 94,\n",
       " 97,\n",
       " 100,\n",
       " 103,\n",
       " 106,\n",
       " 109,\n",
       " 112,\n",
       " 115,\n",
       " 118,\n",
       " 121,\n",
       " 124,\n",
       " 127,\n",
       " 130,\n",
       " 133,\n",
       " 136,\n",
       " 139,\n",
       " 142,\n",
       " 145,\n",
       " 148,\n",
       " 151,\n",
       " 154,\n",
       " 157,\n",
       " 160,\n",
       " 163,\n",
       " 166,\n",
       " 169,\n",
       " 172,\n",
       " 175,\n",
       " 178,\n",
       " 181,\n",
       " 184,\n",
       " 187,\n",
       " 190,\n",
       " 193,\n",
       " 196,\n",
       " 199,\n",
       " 202,\n",
       " 205,\n",
       " 208,\n",
       " 211,\n",
       " 214,\n",
       " 217,\n",
       " 220,\n",
       " 223,\n",
       " 226,\n",
       " 229,\n",
       " 232,\n",
       " 235,\n",
       " 238,\n",
       " 241,\n",
       " 244,\n",
       " 247,\n",
       " 250,\n",
       " 253,\n",
       " 256,\n",
       " 259,\n",
       " 262,\n",
       " 265,\n",
       " 268,\n",
       " 271,\n",
       " 274,\n",
       " 277,\n",
       " 280,\n",
       " 283,\n",
       " 286,\n",
       " 289,\n",
       " 292,\n",
       " 295,\n",
       " 298,\n",
       " 301,\n",
       " 304,\n",
       " 307,\n",
       " 310,\n",
       " 313,\n",
       " 316,\n",
       " 319,\n",
       " 322,\n",
       " 325,\n",
       " 328,\n",
       " 331,\n",
       " 334,\n",
       " 337,\n",
       " 340,\n",
       " 343,\n",
       " 346,\n",
       " 349,\n",
       " 352,\n",
       " 355,\n",
       " 358,\n",
       " 361,\n",
       " 364,\n",
       " 367,\n",
       " 370,\n",
       " 373,\n",
       " 376,\n",
       " 379,\n",
       " 382,\n",
       " 385,\n",
       " 388,\n",
       " 391,\n",
       " 394,\n",
       " 397,\n",
       " 400,\n",
       " 403,\n",
       " 406,\n",
       " 409,\n",
       " 412,\n",
       " 415,\n",
       " 418,\n",
       " 421,\n",
       " 424,\n",
       " 427,\n",
       " 430,\n",
       " 433,\n",
       " 436,\n",
       " 439,\n",
       " 442,\n",
       " 445,\n",
       " 448,\n",
       " 451,\n",
       " 454,\n",
       " 457,\n",
       " 460,\n",
       " 463,\n",
       " 466,\n",
       " 469,\n",
       " 472,\n",
       " 475,\n",
       " 478,\n",
       " 481,\n",
       " 484,\n",
       " 487,\n",
       " 490,\n",
       " 493,\n",
       " 496,\n",
       " 499,\n",
       " 502,\n",
       " 505,\n",
       " 508,\n",
       " 511,\n",
       " 514,\n",
       " 517,\n",
       " 520,\n",
       " 523,\n",
       " 526,\n",
       " 529,\n",
       " 532,\n",
       " 535,\n",
       " 538,\n",
       " 541,\n",
       " 544,\n",
       " 547,\n",
       " 550,\n",
       " 553,\n",
       " 556,\n",
       " 559,\n",
       " 562,\n",
       " 565,\n",
       " 568,\n",
       " 571,\n",
       " 574,\n",
       " 577,\n",
       " 580,\n",
       " 583,\n",
       " 586,\n",
       " 589,\n",
       " 592,\n",
       " 595,\n",
       " 598,\n",
       " 601,\n",
       " 604,\n",
       " 607,\n",
       " 610,\n",
       " 613,\n",
       " 616,\n",
       " 619,\n",
       " 622,\n",
       " 625,\n",
       " 628,\n",
       " 631,\n",
       " 634,\n",
       " 637,\n",
       " 640,\n",
       " 643,\n",
       " 646,\n",
       " 649,\n",
       " 652,\n",
       " 655,\n",
       " 658,\n",
       " 661,\n",
       " 664,\n",
       " 667,\n",
       " 670,\n",
       " 673,\n",
       " 676,\n",
       " 679,\n",
       " 682,\n",
       " 685,\n",
       " 688,\n",
       " 691,\n",
       " 694,\n",
       " 697,\n",
       " 700,\n",
       " 703,\n",
       " 706,\n",
       " 709,\n",
       " 712,\n",
       " 715,\n",
       " 718,\n",
       " 721,\n",
       " 724,\n",
       " 727,\n",
       " 730,\n",
       " 733,\n",
       " 736,\n",
       " 739,\n",
       " 742,\n",
       " 745,\n",
       " 748,\n",
       " 751,\n",
       " 754,\n",
       " 757,\n",
       " 760,\n",
       " 763,\n",
       " 766,\n",
       " 769,\n",
       " 772,\n",
       " 775,\n",
       " 778,\n",
       " 781,\n",
       " 784,\n",
       " 787,\n",
       " 790,\n",
       " 793,\n",
       " 796,\n",
       " 799,\n",
       " 802,\n",
       " 805,\n",
       " 808,\n",
       " 811,\n",
       " 814,\n",
       " 817,\n",
       " 820,\n",
       " 823,\n",
       " 826,\n",
       " 829,\n",
       " 832,\n",
       " 835,\n",
       " 838,\n",
       " 841,\n",
       " 844,\n",
       " 847,\n",
       " 850,\n",
       " 853,\n",
       " 856,\n",
       " 859,\n",
       " 862,\n",
       " 865,\n",
       " 868,\n",
       " 871,\n",
       " 874,\n",
       " 877,\n",
       " 880,\n",
       " 883,\n",
       " 886,\n",
       " 889,\n",
       " 892,\n",
       " 895,\n",
       " 898,\n",
       " 901,\n",
       " 904,\n",
       " 907,\n",
       " 910,\n",
       " 913,\n",
       " 916,\n",
       " 919,\n",
       " 922,\n",
       " 925,\n",
       " 928,\n",
       " 931,\n",
       " 934,\n",
       " 937,\n",
       " 940,\n",
       " 943,\n",
       " 946,\n",
       " 949,\n",
       " 952,\n",
       " 955,\n",
       " 958,\n",
       " 961,\n",
       " 964,\n",
       " 967,\n",
       " 970,\n",
       " 973,\n",
       " 976,\n",
       " 979,\n",
       " 982,\n",
       " 985,\n",
       " 988,\n",
       " 991,\n",
       " 994,\n",
       " 997,\n",
       " 1000]"
      ]
     },
     "execution_count": 67,
     "metadata": {},
     "output_type": "execute_result"
    }
   ],
   "source": [
    "# lista de 3 en 3\n",
    "\n",
    "list(range(1,1001,3))"
   ]
  },
  {
   "cell_type": "code",
   "execution_count": 72,
   "id": "81a91b40",
   "metadata": {},
   "outputs": [
    {
     "data": {
      "text/plain": [
       "'Argentina'"
      ]
     },
     "execution_count": 72,
     "metadata": {},
     "output_type": "execute_result"
    }
   ],
   "source": [
    "Paises = ['Colombia', 'Argentina', 'Brasil']\n",
    "Paises[1]"
   ]
  },
  {
   "cell_type": "code",
   "execution_count": 73,
   "id": "de859ad3",
   "metadata": {},
   "outputs": [
    {
     "data": {
      "text/plain": [
       "['Colombia', 'Ecuador', 'Brasil']"
      ]
     },
     "execution_count": 73,
     "metadata": {},
     "output_type": "execute_result"
    }
   ],
   "source": [
    "Paises[1] = 'Ecuador'\n",
    "Paises"
   ]
  },
  {
   "cell_type": "markdown",
   "id": "15454536",
   "metadata": {
    "id": "15454536"
   },
   "source": [
    "### Tuplas"
   ]
  },
  {
   "cell_type": "markdown",
   "id": "a7ceba60",
   "metadata": {
    "id": "a7ceba60"
   },
   "source": [
    "Son secuencias de longitud fija. No son mutables."
   ]
  },
  {
   "cell_type": "code",
   "execution_count": 74,
   "id": "2cd212f7",
   "metadata": {},
   "outputs": [
    {
     "data": {
      "text/plain": [
       "'Argentina'"
      ]
     },
     "execution_count": 74,
     "metadata": {},
     "output_type": "execute_result"
    }
   ],
   "source": [
    "Paises = ('Colombia', 'Argentina', 'Brasil')\n",
    "Paises[1]"
   ]
  },
  {
   "cell_type": "code",
   "execution_count": 75,
   "id": "79220907",
   "metadata": {},
   "outputs": [
    {
     "ename": "TypeError",
     "evalue": "'tuple' object does not support item assignment",
     "output_type": "error",
     "traceback": [
      "\u001b[1;31m---------------------------------------------------------------------------\u001b[0m",
      "\u001b[1;31mTypeError\u001b[0m                                 Traceback (most recent call last)",
      "\u001b[1;32mc:\\Carrera de Datos\\Data Scientist\\Diplomado Python EAN\\Notebooks\\1.Introducción.ipynb Celda 107\u001b[0m in \u001b[0;36m1\n\u001b[1;32m----> <a href='vscode-notebook-cell:/c%3A/Carrera%20de%20Datos/Data%20Scientist/Diplomado%20Python%20EAN/Notebooks/1.Introducci%C3%B3n.ipynb#Y212sZmlsZQ%3D%3D?line=0'>1</a>\u001b[0m Paises[\u001b[39m1\u001b[39;49m] \u001b[39m=\u001b[39m \u001b[39m'\u001b[39m\u001b[39mEcuador\u001b[39m\u001b[39m'\u001b[39m\n",
      "\u001b[1;31mTypeError\u001b[0m: 'tuple' object does not support item assignment"
     ]
    }
   ],
   "source": [
    "Paises[1] = 'Ecuador' # en las tuplas no se puede modificar, no es mutable"
   ]
  },
  {
   "cell_type": "markdown",
   "id": "97533ab9",
   "metadata": {
    "id": "97533ab9"
   },
   "source": [
    "### Fechas "
   ]
  },
  {
   "cell_type": "markdown",
   "id": "783af44a",
   "metadata": {},
   "source": [
    "Las fechas se definen como strings"
   ]
  },
  {
   "cell_type": "code",
   "execution_count": 82,
   "id": "d971a536",
   "metadata": {},
   "outputs": [
    {
     "name": "stdout",
     "output_type": "stream",
     "text": [
      "2023-07-11\n",
      "2023-12-31\n"
     ]
    }
   ],
   "source": [
    "from datetime import datetime\n",
    "\n",
    "hoy = \"2023-07-11\"\n",
    "fin = \"2023-12-31\"\n",
    "\n",
    "\n",
    "fecha_hoy = datetime.strptime(hoy, \"%Y-%m-%d\")\n",
    "fecha_fin = datetime.strptime(fin, \"%Y-%m-%d\")\n",
    "\n",
    "print(hoy)\n",
    "print(fin)"
   ]
  },
  {
   "cell_type": "code",
   "execution_count": 83,
   "id": "206540a6",
   "metadata": {},
   "outputs": [
    {
     "name": "stdout",
     "output_type": "stream",
     "text": [
      "173 days, 0:00:00\n"
     ]
    }
   ],
   "source": [
    "difdates = fecha_fin - fecha_hoy\n",
    "\n",
    "print(difdates)"
   ]
  }
 ],
 "metadata": {
  "colab": {
   "name": "Guía_Primera_clase_python.ipynb",
   "provenance": []
  },
  "kernelspec": {
   "display_name": "Python 3 (ipykernel)",
   "language": "python",
   "name": "python3"
  },
  "language_info": {
   "codemirror_mode": {
    "name": "ipython",
    "version": 3
   },
   "file_extension": ".py",
   "mimetype": "text/x-python",
   "name": "python",
   "nbconvert_exporter": "python",
   "pygments_lexer": "ipython3",
   "version": "3.11.0"
  }
 },
 "nbformat": 4,
 "nbformat_minor": 5
}
